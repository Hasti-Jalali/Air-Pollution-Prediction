{
 "cells": [
  {
   "cell_type": "code",
   "execution_count": 1,
   "metadata": {},
   "outputs": [],
   "source": [
    "import torch\n",
    "import torch_geometric_temporal\n",
    "import json\n",
    "import numpy as np\n",
    "from torch_geometric_temporal.signal import StaticGraphTemporalSignal\n",
    "import pandas as pd\n",
    "import matplotlib.pyplot as plt\n",
    "import seaborn as sns"
   ]
  },
  {
   "cell_type": "code",
   "execution_count": 2,
   "metadata": {},
   "outputs": [
    {
     "data": {
      "text/plain": [
       "<torch._C.Generator at 0x7fe6f029c6f0>"
      ]
     },
     "execution_count": 2,
     "metadata": {},
     "output_type": "execute_result"
    }
   ],
   "source": [
    "# seed\n",
    "np.random.seed(0)\n",
    "torch.manual_seed(0)"
   ]
  },
  {
   "cell_type": "code",
   "execution_count": 3,
   "metadata": {},
   "outputs": [],
   "source": [
    "# define the number of features\n",
    "feature_num = 3\n",
    "\n",
    "# DAILY\n",
    "start_col = 1\n",
    "\n",
    "# HOURLY\n",
    "# start_col = 2\n",
    "\n",
    "# define the number of time steps\n",
    "time_step_in = 4\n",
    "time_step_out = 1"
   ]
  },
  {
   "cell_type": "code",
   "execution_count": 4,
   "metadata": {},
   "outputs": [
    {
     "data": {
      "text/plain": [
       "<bound method NDFrame.describe of               station name  station id   latitude  longitude\n",
       "0   اتوبان محلاتی منطقه ۱۴           1  51.464427  35.660147\n",
       "1       ستاد بحران منطقه ۷           2  51.430829  35.727223\n",
       "2                     پونک           3  51.331618  35.761750\n",
       "3          پیروزی منطقه ۱۳           4  51.493530  35.695771\n",
       "4        میدان فتح منطقه ۹           5  51.337724  35.678608\n",
       "5            گلبرگ منطقه ۸           6  51.505596  35.730912\n",
       "6         شهرداری منطقه ۲۲           7  51.243523  35.722596\n",
       "7         شهرداری منطقه ۱۹           8  51.364311  35.621806\n",
       "8       تربیت مدرس منطقه ۶           9  51.385910  35.717945\n",
       "9          شهرداری منطقه ۲          10  51.367807  35.777269\n",
       "10          اقدسیه منطقه ۱          11  51.485632  35.796761>"
      ]
     },
     "execution_count": 4,
     "metadata": {},
     "output_type": "execute_result"
    }
   ],
   "source": [
    "# get station loc\n",
    "station_loc = pd.read_csv('station_loc.csv')\n",
    "\n",
    "station_loc.describe"
   ]
  },
  {
   "cell_type": "code",
   "execution_count": 5,
   "metadata": {},
   "outputs": [],
   "source": [
    "node_num = len(station_loc)"
   ]
  },
  {
   "cell_type": "code",
   "execution_count": 6,
   "metadata": {},
   "outputs": [
    {
     "name": "stdout",
     "output_type": "stream",
     "text": [
      "cleaned_data_0.csv\n",
      "cleaned_data_1.csv\n",
      "cleaned_data_2.csv\n",
      "cleaned_data_3.csv\n",
      "cleaned_data_4.csv\n",
      "cleaned_data_5.csv\n",
      "cleaned_data_6.csv\n",
      "cleaned_data_7.csv\n",
      "cleaned_data_8.csv\n",
      "cleaned_data_9.csv\n",
      "cleaned_data_10.csv\n"
     ]
    }
   ],
   "source": [
    "directory = 'Dataset/'\n",
    "\n",
    "dataset = []\n",
    "\n",
    "# read csv files in Dataset folder\n",
    "for i in range(node_num):\n",
    "    file_name = f'cleaned_data_{i}.csv'\n",
    "    node = pd.read_csv(directory + file_name).iloc[:, start_col: start_col + feature_num].values\n",
    "    dataset.append(node)\n",
    "    print(file_name)\n",
    "\n",
    "dataset = np.array(dataset)\n"
   ]
  },
  {
   "cell_type": "code",
   "execution_count": 7,
   "metadata": {},
   "outputs": [
    {
     "data": {
      "text/plain": [
       "(11, 1095, 3)"
      ]
     },
     "execution_count": 7,
     "metadata": {},
     "output_type": "execute_result"
    }
   ],
   "source": [
    "dataset.shape"
   ]
  },
  {
   "cell_type": "code",
   "execution_count": 8,
   "metadata": {},
   "outputs": [
    {
     "name": "stdout",
     "output_type": "stream",
     "text": [
      "CO 1.5835646155588556 7.02246525 0.16313125\n",
      "SO2 5.963400870573127 58.03220945 0.30258259\n",
      "PM10 81.40567118700736 851.31971804 1.98500036\n"
     ]
    }
   ],
   "source": [
    "# mean, max, average of features\n",
    "d = dataset\n",
    "\n",
    "print('CO', d[:, :, 0].mean(), d[:, :, 0].max(), d[:, :, 0].min())\n",
    "print('SO2', d[:, :, 1].mean(), d[:, :, 1].max(), d[:, :, 1].min())\n",
    "print('PM10', d[:, :, 2].mean(), d[:, :, 2].max(), d[:, :, 2].min())"
   ]
  },
  {
   "cell_type": "code",
   "execution_count": 9,
   "metadata": {},
   "outputs": [
    {
     "name": "stdout",
     "output_type": "stream",
     "text": [
      "[ 1.28797907  1.76169988 20.56032089]\n"
     ]
    }
   ],
   "source": [
    "print(dataset[0][0])"
   ]
  },
  {
   "cell_type": "code",
   "execution_count": 10,
   "metadata": {},
   "outputs": [],
   "source": [
    "# dataset = dataset.reshape(node_num, feature_num, -1)\n",
    "# dataset[0][0]"
   ]
  },
  {
   "cell_type": "code",
   "execution_count": 11,
   "metadata": {},
   "outputs": [
    {
     "data": {
      "text/plain": [
       "(11, 1095, 3)"
      ]
     },
     "execution_count": 11,
     "metadata": {},
     "output_type": "execute_result"
    }
   ],
   "source": [
    "dataset.shape"
   ]
  },
  {
   "cell_type": "code",
   "execution_count": 12,
   "metadata": {},
   "outputs": [
    {
     "name": "stdout",
     "output_type": "stream",
     "text": [
      "اتوبان محلاتی منطقه ۱۴\n",
      "ستاد بحران منطقه ۷\n",
      "پونک\n",
      "پیروزی منطقه ۱۳\n",
      "میدان فتح منطقه ۹\n",
      "گلبرگ منطقه ۸\n",
      "شهرداری منطقه ۲۲\n",
      "شهرداری منطقه ۱۹\n",
      "تربیت مدرس منطقه ۶\n",
      "شهرداری منطقه ۲\n",
      "اقدسیه منطقه ۱\n"
     ]
    }
   ],
   "source": [
    "import haversine as hs\n",
    "\n",
    "distances = dict()\n",
    "\n",
    "\n",
    "for i in range(len(station_loc)):\n",
    "    print(station_loc.iloc[i, 0])\n",
    "    for j in range(i+1, len(station_loc)):\n",
    "        id1 = station_loc.iloc[i, 1] - 1\n",
    "        lat1 = station_loc.iloc[i, 2]\n",
    "        lon1 = station_loc.iloc[i, 3]\n",
    "\n",
    "        id2 = station_loc.iloc[j, 1] - 1\n",
    "        lat2 = station_loc.iloc[j, 2]\n",
    "        lon2 = station_loc.iloc[j, 3]\n",
    "        distances[(id1, id2)] = hs.haversine((lat1, lon1), (lat2, lon2))"
   ]
  },
  {
   "cell_type": "code",
   "execution_count": 13,
   "metadata": {},
   "outputs": [
    {
     "name": "stdout",
     "output_type": "stream",
     "text": [
      "Minimum distance between two stations:  2.7779806252687456\n",
      "Maximum distance between two stations:  29.14694436204642\n",
      "Average distance between two stations:  12.41070353619174\n"
     ]
    }
   ],
   "source": [
    "# min, max, average distances\n",
    "min_dist = min(distances.values())\n",
    "max_dist = max(distances.values())\n",
    "avg_dist = sum(distances.values()) / len(distances.values())\n",
    "\n",
    "print(\"Minimum distance between two stations: \", min_dist)\n",
    "print(\"Maximum distance between two stations: \", max_dist)\n",
    "print(\"Average distance between two stations: \", avg_dist)"
   ]
  },
  {
   "cell_type": "code",
   "execution_count": 14,
   "metadata": {},
   "outputs": [
    {
     "name": "stdout",
     "output_type": "stream",
     "text": [
      "36\n"
     ]
    }
   ],
   "source": [
    "threshold = 15\n",
    "\n",
    "edges = [[], []]\n",
    "edge_weight = []\n",
    "\n",
    "couter = 0\n",
    "for (id1, id2), value in distances.items():\n",
    "    if value < threshold:\n",
    "        edges[0].append(id1)\n",
    "        edges[1].append(id2)\n",
    "\n",
    "\n",
    "        if value == 0:\n",
    "            edge_weight.append(1)\n",
    "        else:\n",
    "            edge_weight.append(1/value)\n",
    "        # print(f'({id1}, {id2}):', value)\n",
    "        couter += 1\n",
    "\n",
    "edges = np.array(edges)\n",
    "edge_weight = np.array(edge_weight)\n",
    "\n",
    "print(couter)"
   ]
  },
  {
   "cell_type": "code",
   "execution_count": 15,
   "metadata": {},
   "outputs": [
    {
     "name": "stdout",
     "output_type": "stream",
     "text": [
      "(11, 1095, 3)\n",
      "(2, 36)\n",
      "(36,)\n"
     ]
    }
   ],
   "source": [
    "# dataset: (time, feature, node)\n",
    "# edge_weight: (edge)\n",
    "\n",
    "# print shapes\n",
    "print(dataset.shape)\n",
    "print(edges.shape)\n",
    "print(edge_weight.shape)"
   ]
  },
  {
   "cell_type": "code",
   "execution_count": 16,
   "metadata": {},
   "outputs": [],
   "source": [
    "# normalize data based on z score in torch geometric temporal\n",
    "from scipy import stats\n",
    "\n",
    "# z-score normalization\n",
    "normalized_dataset = np.array(stats.zscore(dataset))"
   ]
  },
  {
   "cell_type": "code",
   "execution_count": 17,
   "metadata": {},
   "outputs": [],
   "source": [
    "# targets are in dataset after timestep\n",
    "features_co = []\n",
    "features_so2 = []\n",
    "features_pm10 = []\n",
    "\n",
    "targets_co = []\n",
    "targets_so2 = []\n",
    "targets_pm10 = []\n",
    "\n",
    "# # normalized\n",
    "# features_co_norm = []\n",
    "# features_so2_norm = []\n",
    "# features_pm10_norm = []\n",
    "\n",
    "# targets_co_norm = []\n",
    "# targets_so2_norm = []\n",
    "# targets_pm10_norm = []\n",
    "\n",
    "for i in range(dataset.shape[1] - time_step_in - time_step_out):\n",
    "    feature_end_index = i + time_step_in\n",
    "    features_co.append(dataset[:, i:feature_end_index, 0])\n",
    "    features_so2.append(dataset[:, i:feature_end_index, 1])\n",
    "    features_pm10.append(dataset[:, i:feature_end_index, 2])\n",
    "\n",
    "    target_end_index = i + time_step_in + time_step_out\n",
    "    targets_co.append(dataset[:, feature_end_index:target_end_index, 0])\n",
    "    targets_so2.append(dataset[:, feature_end_index:target_end_index, 1])\n",
    "    targets_pm10.append(dataset[:, feature_end_index:target_end_index, 2])\n",
    "\n",
    "\n",
    "    # # # normalized\n",
    "    # features_co_norm.append(normalized_dataset[:, i:i + time_step, 0])\n",
    "    # features_so2_norm.append(normalized_dataset[:, i:i + time_step, 1])\n",
    "    # features_pm10_norm.append(normalized_dataset[:, i:i + time_step, 2])\n",
    "    # targets_co_norm.append(normalized_dataset[:, i + time_step, 0])\n",
    "    # targets_so2_norm.append(normalized_dataset[:, i + time_step, 1])\n",
    "    # targets_pm10_norm.append(normalized_dataset[:, i + time_step, 2])\n",
    "\n",
    "\n",
    "features_co = np.array(features_co)\n",
    "features_so2 = np.array(features_so2)\n",
    "features_pm10 = np.array(features_pm10)\n",
    "\n",
    "targets_co = np.array(targets_co)\n",
    "targets_so2 = np.array(targets_so2)\n",
    "targets_pm10 = np.array(targets_pm10)\n",
    "\n",
    "# # normalized\n",
    "# features_co_norm = np.array(features_co_norm)\n",
    "# features_so2_norm = np.array(features_so2_norm)\n",
    "# features_pm10_norm = np.array(features_pm10_norm)\n",
    "# targets_co_norm = np.array(targets_co_norm)\n",
    "# targets_so2_norm = np.array(targets_so2_norm)\n",
    "# targets_pm10_norm = np.array(targets_pm10_norm)"
   ]
  },
  {
   "cell_type": "code",
   "execution_count": 18,
   "metadata": {},
   "outputs": [
    {
     "name": "stdout",
     "output_type": "stream",
     "text": [
      "feature shape: (1090, 11, 4)\n",
      "target shape: (1090, 11, 1)\n"
     ]
    }
   ],
   "source": [
    "print('feature shape:', features_co.shape)\n",
    "print('target shape:', targets_co.shape)"
   ]
  },
  {
   "cell_type": "code",
   "execution_count": 19,
   "metadata": {},
   "outputs": [
    {
     "name": "stdout",
     "output_type": "stream",
     "text": [
      "7.02246525 0.16313125 1.5866253409513429\n"
     ]
    }
   ],
   "source": [
    "# max, min, average of CO targets\n",
    "print(targets_co.max(), targets_co.min(), targets_co.mean())"
   ]
  },
  {
   "cell_type": "code",
   "execution_count": 20,
   "metadata": {},
   "outputs": [],
   "source": [
    "spatio = StaticGraphTemporalSignal(\n",
    "    edges,\n",
    "    edge_weight,\n",
    "    features_co,\n",
    "    targets_co\n",
    ")"
   ]
  },
  {
   "cell_type": "code",
   "execution_count": 21,
   "metadata": {},
   "outputs": [],
   "source": [
    "# batch iterator\n",
    "from torch_geometric_temporal import StaticGraphTemporalSignalBatch\n",
    "\n",
    "batch_size = 16\n",
    "# spatio_loader = StaticGraphTemporalSignalBatch(edges, edge_weight, features_co, targets_co, batch_size)\n",
    "# spatio_loader = StaticGraphTemporalSignalBatch(edges, edge_weight, features_so2, targets_so2, batch_size)\n",
    "spatio_loader = StaticGraphTemporalSignalBatch(edges, edge_weight, features_pm10, targets_pm10, batch_size)"
   ]
  },
  {
   "cell_type": "code",
   "execution_count": 22,
   "metadata": {},
   "outputs": [],
   "source": [
    "from torch_geometric_temporal.signal import temporal_signal_split\n",
    "\n",
    "train_dataset, test_dataset = temporal_signal_split(spatio_loader, train_ratio=0.8)"
   ]
  },
  {
   "cell_type": "code",
   "execution_count": 23,
   "metadata": {},
   "outputs": [
    {
     "name": "stdout",
     "output_type": "stream",
     "text": [
      "DataBatch(x=[11, 4], edge_index=[2, 36], edge_attr=[36], y=[11, 1], batch=[16])\n"
     ]
    }
   ],
   "source": [
    "for i in train_dataset:\n",
    "    print(i)\n",
    "    break"
   ]
  },
  {
   "cell_type": "code",
   "execution_count": 24,
   "metadata": {},
   "outputs": [],
   "source": [
    "import torch.nn as nn\n",
    "import torch.nn.functional as F\n",
    "from torch_geometric.nn import ChebConv, TransformerConv, SuperGATConv, GCNConv, HypergraphConv\n",
    "import copy\n",
    "\n",
    "class TransformerEncoderLayer(nn.Module):\n",
    "    def __init__(self, embed_size, num_heads, hidden_size):\n",
    "        super(TransformerEncoderLayer, self).__init__()\n",
    "        \n",
    "        self.self_attention = nn.MultiheadAttention(embed_size, num_heads, dropout=0.4)\n",
    "        \n",
    "        # self.feed_forward = nn.Sequential(\n",
    "        #     nn.Linear(embed_size, hidden_size),\n",
    "        #     nn.ReLU(),\n",
    "        #     nn.Linear(hidden_size, embed_size)\n",
    "        # )\n",
    "\n",
    "        # self.gcn1 = ChebConv(embed_size, hidden_size, K=num_heads)\n",
    "        # self.gcn2 = ChebConv(hidden_size, embed_size, K=num_heads)\n",
    "\n",
    "        # self.conv1 = TransformerConv(embed_size, hidden_size//num_heads, num_heads, dropout=0.4)\n",
    "        # self.conv2 = TransformerConv(hidden_size, embed_size//num_heads, num_heads, dropout=0.4)\n",
    "\n",
    "        self.conv1 = SuperGATConv(embed_size, hidden_size//num_heads, num_heads, dropout=0.4)\n",
    "        self.conv2 = SuperGATConv(hidden_size, embed_size//num_heads, num_heads, dropout=0.4)\n",
    "\n",
    "        self.layer_norm1 = nn.LayerNorm(embed_size)\n",
    "        self.layer_norm2 = nn.LayerNorm(2 * embed_size)\n",
    "\n",
    "        self.fc = ChebConv(2 * embed_size, embed_size, num_heads)\n",
    "\n",
    "    def forward(self, x, edge_index, edge_weight):\n",
    "        # print('input size:', x.shape)\n",
    "        # print('1')\n",
    "        residual1 = x.clone().detach()\n",
    "        x, _ = self.self_attention(x, x, x)\n",
    "        # print(2)\n",
    "        x = self.layer_norm1(x + residual1)\n",
    "\n",
    "\n",
    "        residual2 = x.clone().detach()\n",
    "        # x = self.gcn1(x, edge_index, edge_weight)\n",
    "        # print(3)\n",
    "        x = self.conv1(x, edge_index)\n",
    "        x = F.relu(x)\n",
    "        # x = self.gcn2(x, edge_index, edge_weight)\n",
    "        x = self.conv2(x, edge_index)\n",
    "        # x = self.feed_forward(x)\n",
    "        # print(x.shape)\n",
    "        # print(residual2.shape)\n",
    "        x = self.layer_norm2(torch.cat((x, residual2), -1))\n",
    "        # x = self.layer_norm2(x + residual)\n",
    "\n",
    "        x = self.fc(x, edge_index, edge_weight)\n",
    "        # print('output size:', x.shape)\n",
    "        return x\n",
    "       \n",
    "\n",
    "class TransformerEncoder(nn.Module):\n",
    "    def __init__(self, embed_size, num_layers, num_heads, hidden_size):\n",
    "        super(TransformerEncoder, self).__init__()\n",
    "        self.num_layers = num_layers\n",
    "        encoder = TransformerEncoderLayer(embed_size, num_heads, hidden_size)\n",
    "        self.encocder_layers = self._get_clones(encoder, num_layers)\n",
    "        \n",
    "\n",
    "    def forward(self, x, edge_index, edge_weight):\n",
    "        for i in range(self.num_layers):\n",
    "            x = self.encocder_layers[i](x, edge_index, edge_weight)\n",
    "        return x\n",
    "\n",
    "    def _get_clones(self, module, N):\n",
    "        return nn.ModuleList([copy.deepcopy(module) for i in range(N)])\n",
    "\n",
    "\n",
    "class TransformerModel(nn.Module):\n",
    "    def __init__(self, input_size, output_size, embed_size, num_layers, num_heads, hidden_size):\n",
    "        super(TransformerModel, self).__init__()\n",
    "        # self.input_embedding = nn.Linear(input_size, embed_size)\n",
    "        # self.input_embedding = ChebConv(input_size, embed_size, K=num_heads)\n",
    "        # self.input_embedding = TransformerConv(input_size, embed_size//num_heads, num_heads, dropout=0.5)\n",
    "        self.input_embedding = SuperGATConv(input_size, embed_size//num_heads, heads=num_heads, dropout=0.4)\n",
    "\n",
    "        self.transformer_encoder = TransformerEncoder(embed_size, num_layers, num_heads, hidden_size)\n",
    "        \n",
    "        # self.output = nn.Linear(embed_size, output_size)\n",
    "        # self.output = ChebConv(embed_size, output_size, K=num_heads)\n",
    "        self.output = SuperGATConv(embed_size, output_size//num_heads, heads=num_heads, dropout=0.4)\n",
    "        # self.output = TransformerConv(embed_size, output_size//num_heads, num_heads, dropout=0.5)\n",
    "\n",
    "\n",
    "    def forward(self, input_sequence, edge_index, edge_weight):\n",
    "\n",
    "        embedded_input = self.input_embedding(input_sequence, edge_index)\n",
    "\n",
    "        output = self.transformer_encoder(embedded_input, edge_index, edge_weight)\n",
    "        # print('hi')\n",
    "\n",
    "        output = self.output(output, edge_index)\n",
    "        return output\n"
   ]
  },
  {
   "cell_type": "code",
   "execution_count": 25,
   "metadata": {},
   "outputs": [],
   "source": [
    "from torch_geometric.nn import ChebConv, TransformerConv, GCNConv\n",
    "\n",
    "# Define your model architecture:\n",
    "class GCNTransformer(torch.nn.Module):\n",
    "\n",
    "    def __init__(self, time_step_in, time_step_out, feature_num = 1):\n",
    "        super(GCNTransformer, self).__init__()\n",
    "        # Example usage\n",
    "        input_size = time_step_in * feature_num\n",
    "        output_size = time_step_out * feature_num\n",
    "        embed_size = 4\n",
    "        num_layers = 1\n",
    "        num_heads = 2\n",
    "        hidden_size = 4\n",
    "        \n",
    "\n",
    "        # self.gcn1 = GCNConv(input_size, input_size)\n",
    "        # self.gcn2 = GCNConv(3 * input_size, input_size)\n",
    "\n",
    "        # Create the Transformer model\n",
    "        self.transformer = TransformerModel(input_size, 8, embed_size, num_layers, num_heads, hidden_size)\n",
    "        # self.output = torch.nn.Linear(64, output_size)\n",
    "        self.output = ChebConv(8 + 4, output_size, num_heads)\n",
    "\n",
    "\n",
    "\n",
    "    def forward(self, x, edge_index, edge_weight):\n",
    " \n",
    "        # x = self.gcn1(x, edge_index, edge_weight)\n",
    "        # x = F.relu(x)\n",
    "\n",
    "        # x = self.gcn2(x, edge_index, edge_weight)\n",
    "\n",
    "        # print(f'{x.shape =}')\n",
    "        residual = x.clone().detach()\n",
    "\n",
    "        x = self.transformer(x, edge_index, edge_weight)\n",
    "        # x = F.relu(x)\n",
    "        x = self.output(torch.cat((x, residual), -1), edge_index, edge_weight)\n",
    "         \n",
    "\n",
    "        return x"
   ]
  },
  {
   "cell_type": "code",
   "execution_count": 26,
   "metadata": {},
   "outputs": [],
   "source": [
    "# from torch_geometric.nn import ChebConv, TransformerConv, GCNConv\n",
    "# from torch.nn import Transformer\n",
    "\n",
    "# class Net(torch.nn.Module):\n",
    "#     def __init__(self, time_step_in, time_step_out, feature_num = 1):\n",
    "#         super(Net, self).__init__()\n",
    "#         self.gcn1 = GCNConv(feature_num * time_step_in, 3 * time_step_in)\n",
    "#         self.gcn2 = GCNConv(3 * time_step_in, 3 * time_step_in)\n",
    "\n",
    "#         # linear for changing y dimention\n",
    "#         self.change_y = torch.nn.Linear(time_step_out, 3 * time_step_in)\n",
    "        \n",
    "#         # transformer\n",
    "#         self.transformer = Transformer(d_model=3 * time_step_in, nhead=3, num_encoder_layers=3, num_decoder_layers=3,\n",
    "#                                         dim_feedforward=3 * time_step_in, dropout=0.5)\n",
    "        \n",
    "        \n",
    "#         self.fc1 = torch.nn.Linear(3 * time_step_in, time_step_out)\n",
    "\n",
    "#     def forward(self, x, y, edge_index, edge_weight):\n",
    "#         # GCN\n",
    "#         x = self.gcn1(x, edge_index, edge_weight)\n",
    "#         x = F.relu(x)\n",
    "#         x = self.gcn2(x, edge_index, edge_weight)\n",
    "#         x = F.relu(x)\n",
    "        \n",
    "#         y = self.change_y(y)\n",
    "#         # transformer\n",
    "#         x = self.transformer(x, y)\n",
    "        \n",
    "#         # fc\n",
    "#         x = self.fc1(x)\n",
    "#         return x"
   ]
  },
  {
   "cell_type": "code",
   "execution_count": 27,
   "metadata": {},
   "outputs": [
    {
     "name": "stdout",
     "output_type": "stream",
     "text": [
      "4 1\n"
     ]
    }
   ],
   "source": [
    "print(time_step_in, time_step_out)"
   ]
  },
  {
   "cell_type": "code",
   "execution_count": 28,
   "metadata": {},
   "outputs": [
    {
     "data": {
      "text/plain": [
       "GCNTransformer(\n",
       "  (transformer): TransformerModel(\n",
       "    (input_embedding): SuperGATConv(4, 2, heads=2, type=MX)\n",
       "    (transformer_encoder): TransformerEncoder(\n",
       "      (encocder_layers): ModuleList(\n",
       "        (0): TransformerEncoderLayer(\n",
       "          (self_attention): MultiheadAttention(\n",
       "            (out_proj): NonDynamicallyQuantizableLinear(in_features=4, out_features=4, bias=True)\n",
       "          )\n",
       "          (conv1): SuperGATConv(4, 2, heads=2, type=MX)\n",
       "          (conv2): SuperGATConv(4, 2, heads=2, type=MX)\n",
       "          (layer_norm1): LayerNorm((4,), eps=1e-05, elementwise_affine=True)\n",
       "          (layer_norm2): LayerNorm((8,), eps=1e-05, elementwise_affine=True)\n",
       "          (fc): ChebConv(8, 4, K=2, normalization=sym)\n",
       "        )\n",
       "      )\n",
       "    )\n",
       "    (output): SuperGATConv(4, 4, heads=2, type=MX)\n",
       "  )\n",
       "  (output): ChebConv(12, 1, K=2, normalization=sym)\n",
       ")"
      ]
     },
     "execution_count": 28,
     "metadata": {},
     "output_type": "execute_result"
    }
   ],
   "source": [
    "# model = RecurrentGCN(time_step = time_step)\n",
    "# model = RecurrentDcrnn(time_step = time_step)\n",
    "model = GCNTransformer(time_step_in, time_step_out)\n",
    "# model = Net(time_step_in, time_step_out)\n",
    "\n",
    "model"
   ]
  },
  {
   "cell_type": "code",
   "execution_count": 29,
   "metadata": {},
   "outputs": [
    {
     "name": "stdout",
     "output_type": "stream",
     "text": [
      "4 1 3\n"
     ]
    },
    {
     "name": "stderr",
     "output_type": "stream",
     "text": [
      "100%|██████████| 150/150 [32:56<00:00, 13.17s/it]\n"
     ]
    }
   ],
   "source": [
    "# train over train_dataset batches\n",
    "from torch.optim import Adam\n",
    "from tqdm import tqdm\n",
    "\n",
    "print(time_step_in, time_step_out, feature_num)\n",
    "        \n",
    "optimizer = Adam(model.parameters(), lr=0.001)\n",
    "model.train()\n",
    "\n",
    "epoch_num = 150\n",
    "\n",
    "losses = [[] for i in range(epoch_num)]\n",
    "\n",
    "y_pred = [[] for i in range(epoch_num)]\n",
    "\n",
    "\n",
    "for epoch in tqdm(range(epoch_num)):    \n",
    "    for i, batch in enumerate(train_dataset):\n",
    "        \n",
    "        out = model(batch.x, batch.edge_index, batch.edge_attr)\n",
    "        # break\n",
    "        y_pred[epoch].append(out)\n",
    "        loss = F.mse_loss(out, batch.y)\n",
    "        \n",
    "        losses[epoch].append(loss.item())\n",
    "        loss.backward()\n",
    "        \n",
    "        optimizer.step()\n",
    "        optimizer.zero_grad()\n",
    "        # if (i+1) % 400 == 0:\n",
    "        #     print(f'Epoch [{epoch+1}/{epoch_num}], Step [{i+1}], Loss: {loss.item()}')\n",
    "    # break\n",
    "    # print(loss)"
   ]
  },
  {
   "cell_type": "code",
   "execution_count": 30,
   "metadata": {},
   "outputs": [
    {
     "data": {
      "text/plain": [
       "(150, 872)"
      ]
     },
     "execution_count": 30,
     "metadata": {},
     "output_type": "execute_result"
    }
   ],
   "source": [
    "losses = np.array(losses)\n",
    "\n",
    "# counter = 0\n",
    "# for i in range(losses.shape[0]):\n",
    "#     for j in range(losses.shape[1]):\n",
    "#         if losses[i][j] > 1:\n",
    "#             # print(f'losses[{i}][{j}] =', losses[i][j])\n",
    "#             counter += 1\n",
    "# print('counter =', counter)\n",
    "\n",
    "losses.shape"
   ]
  },
  {
   "cell_type": "code",
   "execution_count": 31,
   "metadata": {},
   "outputs": [
    {
     "data": {
      "text/plain": [
       "[<matplotlib.lines.Line2D at 0x7fe39e437df0>]"
      ]
     },
     "execution_count": 31,
     "metadata": {},
     "output_type": "execute_result"
    },
    {
     "data": {
      "image/png": "[encoded data removed]",
      "text/plain": [
       "<Figure size 640x480 with 1 Axes>"
      ]
     },
     "metadata": {},
     "output_type": "display_data"
    }
   ],
   "source": [
    "mean_loss = np.mean(losses, axis=1)\n",
    "\n",
    "# calc mape\n",
    "\n",
    "\n",
    "\n",
    "plt.plot(mean_loss)"
   ]
  },
  {
   "cell_type": "code",
   "execution_count": 32,
   "metadata": {},
   "outputs": [
    {
     "name": "stdout",
     "output_type": "stream",
     "text": [
      "MSE: 8.9945\n"
     ]
    }
   ],
   "source": [
    "model.eval()\n",
    "loss_test = []\n",
    "y_pred_test = []\n",
    "y_true_test = []\n",
    "cost = 0\n",
    "for time, snapshot in enumerate(test_dataset):\n",
    "     \n",
    "    y_hat = model(snapshot.x, snapshot.edge_index, snapshot.edge_attr)\n",
    "\n",
    "    y_pred_test.append(y_hat.detach().numpy())\n",
    "    y_true_test.append(snapshot.y.detach().numpy())\n",
    "\n",
    "    c = F.mse_loss(y_hat, snapshot.y)\n",
    "    loss_test.append(c.detach().numpy())\n",
    "    cost = cost + c\n",
    "cost = cost / (time+1)\n",
    "cost = cost.item()\n",
    "print(\"MSE: {:.4f}\".format(cost))"
   ]
  },
  {
   "cell_type": "code",
   "execution_count": 33,
   "metadata": {},
   "outputs": [
    {
     "name": "stdout",
     "output_type": "stream",
     "text": [
      "torch.Size([218, 11, 1])\n",
      "torch.Size([218, 11, 1])\n"
     ]
    },
    {
     "name": "stderr",
     "output_type": "stream",
     "text": [
      "/var/folders/h8/mhwh4fjn0qj405sjdd9_5ffw0000gn/T/ipykernel_15856/2569780536.py:1: UserWarning: Creating a tensor from a list of numpy.ndarrays is extremely slow. Please consider converting the list to a single numpy.ndarray with numpy.array() before converting to a tensor. (Triggered internally at /Users/runner/work/pytorch/pytorch/pytorch/torch/csrc/utils/tensor_new.cpp:233.)\n",
      "  print(torch.Tensor(y_pred_test).shape)\n"
     ]
    }
   ],
   "source": [
    "print(torch.Tensor(y_pred_test).shape)\n",
    "print(torch.Tensor(y_true_test).shape)"
   ]
  },
  {
   "cell_type": "code",
   "execution_count": 34,
   "metadata": {},
   "outputs": [
    {
     "name": "stdout",
     "output_type": "stream",
     "text": [
      "shape:  (218,)\n",
      "shape:  (218,)\n"
     ]
    }
   ],
   "source": [
    "# plot y_pred and y_true\n",
    "y_pred_test_mean = np.array(y_pred_test).reshape(-1, node_num * time_step_out).mean(axis=1).flatten()\n",
    "y_true_test_mean = np.array(y_true_test).reshape(-1, node_num * time_step_out).mean(axis=1).flatten()\n",
    "\n",
    "print('shape: ', y_pred_test_mean.shape)\n",
    "print('shape: ', y_true_test_mean.shape)"
   ]
  },
  {
   "cell_type": "code",
   "execution_count": 35,
   "metadata": {},
   "outputs": [
    {
     "data": {
      "text/plain": [
       "<matplotlib.axes._subplots.AxesSubplot at 0x7fe66c235160>"
      ]
     },
     "execution_count": 35,
     "metadata": {},
     "output_type": "execute_result"
    },
    {
     "data": {
      "image/png": "[encoded data removed]",
      "text/plain": [
       "<Figure size 1000x400 with 1 Axes>"
      ]
     },
     "metadata": {},
     "output_type": "display_data"
    }
   ],
   "source": [
    "import matplotlib.pyplot as plt\n",
    "import seaborn as sns\n",
    "\n",
    "plt.figure(figsize=(10,4))\n",
    "sns.lineplot(data=y_pred_test_mean, label=\"pred\", color='red')\n",
    "sns.lineplot(data=y_true_test_mean, label=\"true\")"
   ]
  },
  {
   "cell_type": "code",
   "execution_count": 36,
   "metadata": {},
   "outputs": [
    {
     "name": "stdout",
     "output_type": "stream",
     "text": [
      "MAPE: 24.0435\n",
      "MAE: 1.7246\n",
      "RMSE: 2.9991\n",
      "MSE: 8.9945\n"
     ]
    }
   ],
   "source": [
    "# Calc MAPE\n",
    "y_pred_test = np.array(y_pred_test)\n",
    "y_true_test = np.array(y_true_test)\n",
    "\n",
    "\n",
    "mape = np.mean(np.abs((y_true_test - y_pred_test) / y_true_test)) * 100\n",
    "print(\"MAPE: {:.4f}\".format(mape))\n",
    "\n",
    "# Calc MAE\n",
    "mae = np.mean(np.abs(y_true_test - y_pred_test))\n",
    "print(\"MAE: {:.4f}\".format(mae))\n",
    "\n",
    "# Calc RMSE \n",
    "rmse = np.sqrt(np.mean((y_true_test - y_pred_test) ** 2))\n",
    "print(\"RMSE: {:.4f}\".format(rmse))\n",
    "\n",
    "\n",
    "# Calc MSE\n",
    "mse = np.mean((y_true_test - y_pred_test) ** 2)\n",
    "print(\"MSE: {:.4f}\".format(mse))"
   ]
  },
  {
   "cell_type": "code",
   "execution_count": 37,
   "metadata": {},
   "outputs": [
    {
     "data": {
      "text/plain": [
       "[<matplotlib.lines.Line2D at 0x7fe47f00b4c0>]"
      ]
     },
     "execution_count": 37,
     "metadata": {},
     "output_type": "execute_result"
    },
    {
     "data": {
      "image/png": "[encoded data removed]",
      "text/plain": [
       "<Figure size 640x480 with 1 Axes>"
      ]
     },
     "metadata": {},
     "output_type": "display_data"
    }
   ],
   "source": [
    "# plot loss\n",
    "import matplotlib.pyplot as plt\n",
    "plt.plot(loss_test)"
   ]
  },
  {
   "cell_type": "code",
   "execution_count": 38,
   "metadata": {},
   "outputs": [
    {
     "name": "stdout",
     "output_type": "stream",
     "text": [
      "epoch [0/150] : 14.859006395136271\n",
      "epoch [1/150] : 8.801757047995242\n",
      "epoch [2/150] : 7.630467909208815\n",
      "epoch [3/150] : 7.129743956695866\n",
      "epoch [4/150] : 6.669581106419615\n",
      "epoch [5/150] : 6.315864626617265\n",
      "epoch [6/150] : 6.07743823124147\n",
      "epoch [7/150] : 5.965285721175167\n",
      "epoch [8/150] : 5.838551138296997\n",
      "epoch [9/150] : 5.753075872018181\n",
      "epoch [10/150] : 5.6650441170012185\n",
      "epoch [11/150] : 5.69491127476848\n",
      "epoch [12/150] : 5.591054524683795\n",
      "epoch [13/150] : 5.588690327437714\n",
      "epoch [14/150] : 5.5939780245834125\n",
      "epoch [15/150] : 5.5348986535495435\n",
      "epoch [16/150] : 5.582091256339582\n",
      "epoch [17/150] : 5.556553621819123\n",
      "epoch [18/150] : 5.526725546901174\n",
      "epoch [19/150] : 5.525536031462252\n",
      "epoch [20/150] : 5.496555456225205\n",
      "epoch [21/150] : 5.49428383461755\n",
      "epoch [22/150] : 5.526611378407875\n",
      "epoch [23/150] : 5.494847077799431\n",
      "epoch [24/150] : 5.486996537339318\n",
      "epoch [25/150] : 5.5102138348573115\n",
      "epoch [26/150] : 5.490199187864473\n",
      "epoch [27/150] : 5.49762050028241\n",
      "epoch [28/150] : 5.49289139673336\n",
      "epoch [29/150] : 5.50332557571488\n",
      "epoch [30/150] : 5.511396088560513\n",
      "epoch [31/150] : 5.498485285156501\n",
      "epoch [32/150] : 5.502902717107411\n",
      "epoch [33/150] : 5.504811937818218\n",
      "epoch [34/150] : 5.50352979066927\n",
      "epoch [35/150] : 5.502212412433203\n",
      "epoch [36/150] : 5.506555203049349\n",
      "epoch [37/150] : 5.4827618495552635\n",
      "epoch [38/150] : 5.50587515769646\n",
      "epoch [39/150] : 5.504194289283537\n",
      "epoch [40/150] : 5.490111089302996\n",
      "epoch [41/150] : 5.491467235669699\n",
      "epoch [42/150] : 5.500208096356567\n",
      "epoch [43/150] : 5.4930304573643784\n",
      "epoch [44/150] : 5.479968645165615\n",
      "epoch [45/150] : 5.488913463249188\n",
      "epoch [46/150] : 5.48495920013568\n",
      "epoch [47/150] : 5.50050322438052\n",
      "epoch [48/150] : 5.494533139263886\n",
      "epoch [49/150] : 5.4859460645500535\n",
      "epoch [50/150] : 5.48613581298466\n",
      "epoch [51/150] : 5.479780824812249\n",
      "epoch [52/150] : 5.476834515195101\n",
      "epoch [53/150] : 5.486964268242479\n",
      "epoch [54/150] : 5.489682547013284\n",
      "epoch [55/150] : 5.484685685289084\n",
      "epoch [56/150] : 5.464600828929095\n",
      "epoch [57/150] : 5.485544930707766\n",
      "epoch [58/150] : 5.479355403709166\n",
      "epoch [59/150] : 5.477591971943685\n",
      "epoch [60/150] : 5.492479520247515\n",
      "epoch [61/150] : 5.496446960067393\n",
      "epoch [62/150] : 5.485497315217732\n",
      "epoch [63/150] : 5.469481905281476\n",
      "epoch [64/150] : 5.488789790767083\n",
      "epoch [65/150] : 5.490260081989434\n",
      "epoch [66/150] : 5.494173118101279\n",
      "epoch [67/150] : 5.498736880198463\n",
      "epoch [68/150] : 5.486081380627776\n",
      "epoch [69/150] : 5.4807725258581685\n",
      "epoch [70/150] : 5.491833568003814\n",
      "epoch [71/150] : 5.487919565811412\n",
      "epoch [72/150] : 5.487802011345368\n",
      "epoch [73/150] : 5.488032255475537\n",
      "epoch [74/150] : 5.488764569146234\n",
      "epoch [75/150] : 5.487785369798609\n",
      "epoch [76/150] : 5.4867508819736885\n",
      "epoch [77/150] : 5.473855015685047\n",
      "epoch [78/150] : 5.479173574784617\n",
      "epoch [79/150] : 5.501200678741235\n",
      "epoch [80/150] : 5.499321808243905\n",
      "epoch [81/150] : 5.4933044932560495\n",
      "epoch [82/150] : 5.494391669681586\n",
      "epoch [83/150] : 5.4965983598766455\n",
      "epoch [84/150] : 5.498850982533682\n",
      "epoch [85/150] : 5.477455260027029\n",
      "epoch [86/150] : 5.492047729273968\n",
      "epoch [87/150] : 5.4871518560599775\n",
      "epoch [88/150] : 5.49279572780526\n",
      "epoch [89/150] : 5.492219645376189\n",
      "epoch [90/150] : 5.489488598446302\n",
      "epoch [91/150] : 5.4814157418376945\n",
      "epoch [92/150] : 5.475304521265688\n",
      "epoch [93/150] : 5.4927030044923955\n",
      "epoch [94/150] : 5.477379885391084\n",
      "epoch [95/150] : 5.482868945349964\n",
      "epoch [96/150] : 5.4788699240739875\n",
      "epoch [97/150] : 5.4778471241679485\n",
      "epoch [98/150] : 5.4626751736302035\n",
      "epoch [99/150] : 5.481134541153293\n",
      "epoch [100/150] : 5.465331392994988\n",
      "epoch [101/150] : 5.483085126996279\n",
      "epoch [102/150] : 5.48674028876041\n",
      "epoch [103/150] : 5.486079518862684\n",
      "epoch [104/150] : 5.466807644455395\n",
      "epoch [105/150] : 5.4843838565700915\n",
      "epoch [106/150] : 5.495470289734764\n",
      "epoch [107/150] : 5.492803712742864\n",
      "epoch [108/150] : 5.48266258740097\n",
      "epoch [109/150] : 5.475985952909318\n",
      "epoch [110/150] : 5.463955792137037\n",
      "epoch [111/150] : 5.464037011588983\n",
      "epoch [112/150] : 5.4793940560140335\n",
      "epoch [113/150] : 5.47880474652309\n",
      "epoch [114/150] : 5.487999270362523\n",
      "epoch [115/150] : 5.493954093204042\n",
      "epoch [116/150] : 5.49558673702488\n",
      "epoch [117/150] : 5.475249058225217\n",
      "epoch [118/150] : 5.477462621687681\n",
      "epoch [119/150] : 5.499950768400428\n",
      "epoch [120/150] : 5.475293197891239\n",
      "epoch [121/150] : 5.4803386614188\n",
      "epoch [122/150] : 5.4883768046701995\n",
      "epoch [123/150] : 5.4859935522182\n",
      "epoch [124/150] : 5.499559044880673\n",
      "epoch [125/150] : 5.483578872046682\n",
      "epoch [126/150] : 5.488216147125793\n",
      "epoch [127/150] : 5.490897826235229\n",
      "epoch [128/150] : 5.477930434176339\n",
      "epoch [129/150] : 5.480116839597532\n",
      "epoch [130/150] : 5.478926614114861\n",
      "epoch [131/150] : 5.460171182118698\n",
      "epoch [132/150] : 5.48351850399081\n",
      "epoch [133/150] : 5.47968854650069\n",
      "epoch [134/150] : 5.477816766354366\n",
      "epoch [135/150] : 5.480642803876293\n",
      "epoch [136/150] : 5.466090229852552\n",
      "epoch [137/150] : 5.470527389650703\n",
      "epoch [138/150] : 5.468205556619503\n",
      "epoch [139/150] : 5.472824961933897\n",
      "epoch [140/150] : 5.467646889209132\n",
      "epoch [141/150] : 5.4832198836609995\n",
      "epoch [142/150] : 5.471253923076384\n",
      "epoch [143/150] : 5.469859087160455\n",
      "epoch [144/150] : 5.481408966132738\n",
      "epoch [145/150] : 5.479506797588712\n",
      "epoch [146/150] : 5.499903890620405\n",
      "epoch [147/150] : 5.463286904131122\n",
      "epoch [148/150] : 5.4643211442755035\n",
      "epoch [149/150] : 5.4847037043900935\n"
     ]
    }
   ],
   "source": [
    "# mean loss in each epoch\n",
    "losses_mean = [np.mean(i) for i in losses]\n",
    "\n",
    "for i in range(epoch_num):\n",
    "    print(f'epoch [{i}/{epoch_num}] :', losses_mean[i])\n"
   ]
  }
 ],
 "metadata": {
  "kernelspec": {
   "display_name": "Python 3",
   "language": "python",
   "name": "python3"
  },
  "language_info": {
   "codemirror_mode": {
    "name": "ipython",
    "version": 3
   },
   "file_extension": ".py",
   "mimetype": "text/x-python",
   "name": "python",
   "nbconvert_exporter": "python",
   "pygments_lexer": "ipython3",
   "version": "3.8.6"
  },
  "orig_nbformat": 4
 },
 "nbformat": 4,
 "nbformat_minor": 2
}
