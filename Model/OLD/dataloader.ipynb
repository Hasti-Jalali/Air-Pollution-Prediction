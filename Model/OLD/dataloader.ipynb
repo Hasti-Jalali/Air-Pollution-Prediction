{
 "cells": [
  {
   "cell_type": "code",
   "execution_count": 2,
   "metadata": {},
   "outputs": [
    {
     "data": {
      "text/plain": [
       "<torch._C.Generator at 0x7fc6c28853b0>"
      ]
     },
     "execution_count": 2,
     "metadata": {},
     "output_type": "execute_result"
    }
   ],
   "source": [
    "import torch\n",
    "import torch_geometric_temporal\n",
    "import json\n",
    "import numpy as np\n",
    "from torch_geometric_temporal.signal import StaticGraphTemporalSignal\n",
    "import os\n",
    "import pandas as pd\n",
    "import torch.nn.functional as F\n",
    "import matplotlib.pyplot as plt\n",
    "import seaborn as sns\n",
    "\n",
    "np.random.seed(0)\n",
    "torch.manual_seed(0)"
   ]
  },
  {
   "cell_type": "code",
   "execution_count": 3,
   "metadata": {},
   "outputs": [
    {
     "data": {
      "text/plain": [
       "<torch._C.Generator at 0x7fc6c28853b0>"
      ]
     },
     "execution_count": 3,
     "metadata": {},
     "output_type": "execute_result"
    }
   ],
   "source": [
    "# seed\n",
    "\n",
    "np.random.seed(0)\n",
    "torch.manual_seed(0)\n",
    "# torch_geometric_temporal.seed(0)"
   ]
  },
  {
   "cell_type": "code",
   "execution_count": 4,
   "metadata": {},
   "outputs": [],
   "source": [
    "# define the number of features\n",
    "feature_num = 3\n",
    "\n",
    "# DAILY\n",
    "start_col = 1\n",
    "\n",
    "# HOURLY\n",
    "# start_col = 2\n",
    "\n",
    "# define the number of time steps\n",
    "time_step = 5"
   ]
  },
  {
   "cell_type": "code",
   "execution_count": 5,
   "metadata": {},
   "outputs": [
    {
     "name": "stdout",
     "output_type": "stream",
     "text": [
      "cleaned_data_10.csv\n",
      "cleaned_data_1.csv\n",
      "cleaned_data_0.csv\n",
      "cleaned_data_2.csv\n",
      "cleaned_data_3.csv\n",
      "cleaned_data_7.csv\n",
      "cleaned_data_6.csv\n",
      "cleaned_data_4.csv\n",
      "cleaned_data_5.csv\n",
      "cleaned_data_8.csv\n",
      "cleaned_data_9.csv\n"
     ]
    }
   ],
   "source": [
    "directory = 'Dataset/'\n",
    "\n",
    "node_num = 0\n",
    "dataset = []\n",
    "\n",
    "# read csv files in Dataset folder\n",
    "for filename in os.listdir(directory):\n",
    "    if filename.endswith('.csv'):\n",
    "        node_num += 1\n",
    "        node = pd.read_csv(directory + filename).iloc[:, start_col: start_col + feature_num].values\n",
    "        dataset.append(node)\n",
    "        print(filename)\n",
    "\n",
    "dataset = np.array(dataset)\n"
   ]
  },
  {
   "cell_type": "code",
   "execution_count": 6,
   "metadata": {},
   "outputs": [
    {
     "data": {
      "text/plain": [
       "(11, 1095, 3)"
      ]
     },
     "execution_count": 6,
     "metadata": {},
     "output_type": "execute_result"
    }
   ],
   "source": [
    "dataset.shape"
   ]
  },
  {
   "cell_type": "code",
   "execution_count": 7,
   "metadata": {},
   "outputs": [
    {
     "name": "stdout",
     "output_type": "stream",
     "text": [
      "CO 1.5835646155588556 7.02246525 0.16313125\n",
      "SO2 5.963400870573127 58.03220945 0.30258259\n",
      "PM10 81.40567118700736 851.31971804 1.98500036\n"
     ]
    }
   ],
   "source": [
    "# mean, max, average of features\n",
    "d = dataset\n",
    "\n",
    "print('CO', d[:, :, 0].mean(), d[:, :, 0].max(), d[:, :, 0].min())\n",
    "print('SO2', d[:, :, 1].mean(), d[:, :, 1].max(), d[:, :, 1].min())\n",
    "print('PM10', d[:, :, 2].mean(), d[:, :, 2].max(), d[:, :, 2].min())"
   ]
  },
  {
   "cell_type": "code",
   "execution_count": 8,
   "metadata": {},
   "outputs": [
    {
     "name": "stdout",
     "output_type": "stream",
     "text": [
      "[ 1.18206846  2.27336876 33.90688519]\n"
     ]
    }
   ],
   "source": [
    "print(dataset[0][0])"
   ]
  },
  {
   "cell_type": "code",
   "execution_count": 9,
   "metadata": {},
   "outputs": [],
   "source": [
    "# dataset = dataset.reshape(node_num, feature_num, -1)\n",
    "# dataset[0][0]"
   ]
  },
  {
   "cell_type": "code",
   "execution_count": 10,
   "metadata": {},
   "outputs": [
    {
     "data": {
      "text/plain": [
       "(11, 1095, 3)"
      ]
     },
     "execution_count": 10,
     "metadata": {},
     "output_type": "execute_result"
    }
   ],
   "source": [
    "dataset.shape"
   ]
  },
  {
   "cell_type": "code",
   "execution_count": 11,
   "metadata": {},
   "outputs": [],
   "source": [
    "edges = [[], []]\n",
    "for i in range(node_num):\n",
    "    for j in range(node_num):\n",
    "        edges[0].append(i)\n",
    "        edges[1].append(j)\n",
    "\n",
    "edges = np.array(edges)\n",
    "\n",
    "# one weight for edges\n",
    "edge_weight = np.ones(edges[0].shape)\n"
   ]
  },
  {
   "cell_type": "code",
   "execution_count": 12,
   "metadata": {},
   "outputs": [
    {
     "name": "stdout",
     "output_type": "stream",
     "text": [
      "(11, 1095, 3)\n",
      "(2, 121)\n",
      "(121,)\n"
     ]
    }
   ],
   "source": [
    "# dataset: (time, feature, node)\n",
    "# edge_weight: (edge)\n",
    "\n",
    "# print shapes\n",
    "print(dataset.shape)\n",
    "print(edges.shape)\n",
    "print(edge_weight.shape)"
   ]
  },
  {
   "cell_type": "code",
   "execution_count": 13,
   "metadata": {},
   "outputs": [],
   "source": [
    "time_step = 4\n",
    "\n",
    "# targets are in dataset after timestep\n",
    "features_co = []\n",
    "features_so2 = []\n",
    "features_pm10 = []\n",
    "\n",
    "targets_co = []\n",
    "targets_so2 = []\n",
    "targets_pm10 = []\n",
    "for i in range(dataset.shape[1] - time_step):\n",
    "    features_co.append(dataset[:, i:i + time_step, 0])\n",
    "    features_so2.append(dataset[:, i:i + time_step, 1])\n",
    "    features_pm10.append(dataset[:, i:i + time_step, 2])\n",
    "\n",
    "    targets_co.append(dataset[:, i + time_step, 0])\n",
    "    targets_so2.append(dataset[:, i + time_step, 1])\n",
    "    targets_pm10.append(dataset[:, i + time_step, 2])\n",
    "\n",
    "\n",
    "features_co = np.array(features_co)\n",
    "features_so2 = np.array(features_so2)\n",
    "features_pm10 = np.array(features_pm10)\n",
    "\n",
    "targets_co = np.array(targets_co)\n",
    "targets_so2 = np.array(targets_so2)\n",
    "targets_pm10 = np.array(targets_pm10)"
   ]
  },
  {
   "cell_type": "code",
   "execution_count": 14,
   "metadata": {},
   "outputs": [
    {
     "name": "stdout",
     "output_type": "stream",
     "text": [
      "feature shape: (1091, 11, 4)\n",
      "target shape: (1091, 11)\n"
     ]
    }
   ],
   "source": [
    "print('feature shape:', features_co.shape)\n",
    "print('target shape:', targets_co.shape)"
   ]
  },
  {
   "cell_type": "code",
   "execution_count": 15,
   "metadata": {},
   "outputs": [
    {
     "name": "stdout",
     "output_type": "stream",
     "text": [
      "7.02246525 0.16313125 1.5861364917220577\n"
     ]
    }
   ],
   "source": [
    "# max, min, average of CO targets\n",
    "print(targets_co.max(), targets_co.min(), targets_co.mean())"
   ]
  },
  {
   "cell_type": "code",
   "execution_count": 16,
   "metadata": {},
   "outputs": [],
   "source": [
    "spatio = StaticGraphTemporalSignal(\n",
    "    edges,\n",
    "    edge_weight,\n",
    "    features_co,\n",
    "    targets_co\n",
    ")"
   ]
  },
  {
   "cell_type": "code",
   "execution_count": 17,
   "metadata": {},
   "outputs": [],
   "source": [
    "# batch iterator\n",
    "from torch_geometric_temporal import StaticGraphTemporalSignalBatch\n",
    "\n",
    "batch_size = 20\n",
    "spatio_loader = StaticGraphTemporalSignalBatch(edges, edge_weight, features_co, targets_co, batch_size)\n"
   ]
  },
  {
   "cell_type": "code",
   "execution_count": 18,
   "metadata": {},
   "outputs": [],
   "source": [
    "# # save loader\n",
    "# import pickle\n",
    "\n",
    "# with open('loader.pkl', 'wb') as f:\n",
    "#     pickle.dump(spatio_loader, f)\n",
    "    "
   ]
  },
  {
   "cell_type": "code",
   "execution_count": 19,
   "metadata": {},
   "outputs": [],
   "source": [
    "from torch_geometric_temporal.signal import temporal_signal_split\n",
    "\n",
    "train_dataset, test_dataset = temporal_signal_split(spatio_loader, train_ratio=0.7)"
   ]
  },
  {
   "cell_type": "code",
   "execution_count": 20,
   "metadata": {},
   "outputs": [
    {
     "name": "stdout",
     "output_type": "stream",
     "text": [
      "DataBatch(x=[11, 4], edge_index=[2, 121], edge_attr=[121], y=[11], batch=[20])\n"
     ]
    }
   ],
   "source": [
    "for i in train_dataset:\n",
    "    print(i)\n",
    "    break"
   ]
  },
  {
   "cell_type": "code",
   "execution_count": 1,
   "metadata": {},
   "outputs": [],
   "source": [
    "import torch\n",
    "import torch.nn.functional as F\n",
    "from torch_geometric_temporal.nn.recurrent import DCRNN\n",
    "from torch_geometric_temporal import GConvGRU\n",
    "\n",
    "class RecurrentGCN(torch.nn.Module):\n",
    "    def __init__(self, time_step):\n",
    "        print(x.shape)\n",
    "        super(RecurrentGCN, self).__init__()\n",
    "        self.recurrent = GConvGRU(time_step, 32, 8)\n",
    "        self.linear = torch.nn.Linear(32, 1)\n",
    "\n",
    "    def forward(self, x, edge_index, edge_weight):\n",
    "        h = self.recurrent(x, edge_index, edge_weight)\n",
    "        h = F.relu(h)\n",
    "        h = self.linear(h)\n",
    "        return h"
   ]
  },
  {
   "cell_type": "code",
   "execution_count": 167,
   "metadata": {},
   "outputs": [],
   "source": [
    "from torch_geometric.nn import GCNConv, TransformerConv\n",
    "\n",
    "feature_num = 1\n",
    "\n",
    "# Define your model architecture:\n",
    "class GCNTransformer(torch.nn.Module):\n",
    "    weight =[]\n",
    "    def __init__(self, time_step, feature_num):\n",
    "        super(GCNTransformer, self).__init__()\n",
    "        self.gcn1 = GCNConv(feature_num * time_step, 6 * time_step)\n",
    "        self.gcn2 = GCNConv(6 * time_step, 6 * time_step)\n",
    "        # self.gcn3 = GCNConv(12 * time_step, 6 * time_step)\n",
    "        self.transformer1 = TransformerConv(6 * time_step, 1, heads= 3 * time_step, dropout=0.3)\n",
    "        self.transformer2 = TransformerConv(3 * time_step, 1, heads= 1, dropout=0.3)\n",
    "        # self.transformer3 = TransformerConv(3, 1, heads= 1, dropout=0.3)\n",
    "\n",
    "    def forward(self, x, edge_index, edge_weight):\n",
    " \n",
    "        x = self.gcn1(x, edge_index, edge_weight)\n",
    "        x = F.relu(x)\n",
    "        # x = x.view(-1, x.size(-1))\n",
    "\n",
    "        x = self.gcn2(x, edge_index, edge_weight)\n",
    "        # # x = self.gcn3(x, edge_index)\n",
    "        x = F.relu(x)\n",
    "\n",
    "        # x = self.gcn3(x, edge_index)\n",
    "        # x = F.relu(x)\n",
    "\n",
    "        x = self.transformer1(x, edge_index)\n",
    "        x = F.relu(x)\n",
    "        # combine res1 and res2, with size\n",
    "        # size: 2*feature and 2*feature \n",
    "        # x = torch.cat((res1, res2), 1)\n",
    "\n",
    "        x = self.transformer2(x, edge_index)\n",
    "        # x = F.relu(x)\n",
    "\n",
    "        # x = self.transformer3(x, edge_index)\n",
    "\n",
    "        return x\n",
    "\n",
    "    \n",
    "# Instantiate your model:\n",
    "# model = MyModel(gcn1, gcn2, gcn3, transformer1, transformer2)\n",
    "\n"
   ]
  },
  {
   "cell_type": "code",
   "execution_count": 168,
   "metadata": {},
   "outputs": [],
   "source": [
    "# from torch_geometric_temporal import GConvGRU\n",
    "# model = GConvGRU(3, 1, 5)"
   ]
  },
  {
   "cell_type": "code",
   "execution_count": 169,
   "metadata": {},
   "outputs": [],
   "source": [
    "# from tqdm import tqdm\n",
    "\n",
    "# model = RecurrentGCN(node_features = time_step)\n",
    "\n",
    "\n",
    "# optimizer = torch.optim.Adam(model.parameters(), lr=0.01)\n",
    "\n",
    "# model.train()\n",
    "# losses = []\n",
    "# for epoch in tqdm(range(150)):\n",
    "#     cost = 0\n",
    "#     for time, snapshot in enumerate(train_dataset):\n",
    "#         y_hat = model(snapshot.x, snapshot.edge_index, snapshot.edge_attr)\n",
    "#         cost = cost + torch.mean((y_hat-snapshot.y)**2)\n",
    "#     cost = cost / (time+1)\n",
    "#     losses.append(cost.detach().numpy())\n",
    "#     cost.backward()\n",
    "#     optimizer.step()\n",
    "#     optimizer.zero_grad()"
   ]
  },
  {
   "cell_type": "code",
   "execution_count": 170,
   "metadata": {},
   "outputs": [],
   "source": [
    "# model.eval()\n",
    "# loss_test = []\n",
    "# cost = 0\n",
    "# for time, snapshot in enumerate(test_dataset):\n",
    "#     y_hat = model(snapshot.x, snapshot.edge_index, snapshot.edge_attr)\n",
    "#     c = torch.mean((y_hat-snapshot.y)**2)\n",
    "#     loss_test.append(c.detach().numpy())\n",
    "#     cost = cost + c\n",
    "# cost = cost / (time+1)\n",
    "# cost = cost.item()\n",
    "# print(\"MSE: {:.4f}\".format(cost))"
   ]
  },
  {
   "cell_type": "code",
   "execution_count": 171,
   "metadata": {},
   "outputs": [
    {
     "name": "stderr",
     "output_type": "stream",
     "text": [
      "  0%|          | 0/300 [00:00<?, ?it/s]/var/folders/h8/mhwh4fjn0qj405sjdd9_5ffw0000gn/T/ipykernel_6542/1962234902.py:22: UserWarning: Using a target size (torch.Size([11])) that is different to the input size (torch.Size([11, 1])). This will likely lead to incorrect results due to broadcasting. Please ensure they have the same size.\n",
      "  loss = F.mse_loss(out, batch.y)\n",
      "100%|██████████| 300/300 [18:12<00:00,  3.64s/it]\n"
     ]
    }
   ],
   "source": [
    "# train over train_datset batches\n",
    "from torch.optim import Adam\n",
    "from tqdm import tqdm\n",
    "\n",
    "model = RecurrentGCN(time_step = time_step)\n",
    "# model = GCNTransformer(time_step, feature_num)\n",
    "\n",
    "optimizer = Adam(model.parameters(), lr=0.005)\n",
    "model.train()\n",
    "\n",
    "epoch_num = 300\n",
    "\n",
    "losses = [[] for i in range(epoch_num)]\n",
    "\n",
    "y_pred = [[] for i in range(epoch_num)]\n",
    "\n",
    "for epoch in tqdm(range(epoch_num)):    \n",
    "    for i, batch in enumerate(train_dataset):\n",
    "        \n",
    "        out = model(batch.x, batch.edge_index, batch.edge_attr)\n",
    "        y_pred[epoch].append(out)\n",
    "        loss = F.mse_loss(out, batch.y)\n",
    "\n",
    "        losses[epoch].append(loss.item())\n",
    "        loss.backward()\n",
    "        \n",
    "        optimizer.step()\n",
    "        optimizer.zero_grad()\n",
    "        # if (i+1) % 400 == 0:\n",
    "        #     print(f'Epoch [{epoch+1}/{epoch_num}], Step [{i+1}], Loss: {loss.item()}')\n",
    "    \n",
    "    # print(loss)"
   ]
  },
  {
   "cell_type": "code",
   "execution_count": 172,
   "metadata": {},
   "outputs": [
    {
     "name": "stdout",
     "output_type": "stream",
     "text": [
      "counter = 18878\n"
     ]
    },
    {
     "data": {
      "text/plain": [
       "(300, 763)"
      ]
     },
     "execution_count": 172,
     "metadata": {},
     "output_type": "execute_result"
    }
   ],
   "source": [
    "losses = np.array(losses)\n",
    "\n",
    "counter = 0\n",
    "for i in range(losses.shape[0]):\n",
    "    for j in range(losses.shape[1]):\n",
    "        if losses[i][j] > 1:\n",
    "            # print(f'losses[{i}][{j}] =', losses[i][j])\n",
    "            counter += 1\n",
    "\n",
    "print('counter =', counter)\n",
    "losses.shape"
   ]
  },
  {
   "cell_type": "code",
   "execution_count": 173,
   "metadata": {},
   "outputs": [
    {
     "data": {
      "text/plain": [
       "[<matplotlib.lines.Line2D at 0x7fc4fcc4cdf0>]"
      ]
     },
     "execution_count": 173,
     "metadata": {},
     "output_type": "execute_result"
    },
    {
     "data": {
      "image/png": "[encoded data removed]",
      "text/plain": [
       "<Figure size 640x480 with 1 Axes>"
      ]
     },
     "metadata": {},
     "output_type": "display_data"
    }
   ],
   "source": [
    "mean_loss = np.mean(losses, axis=1)\n",
    "\n",
    "plt.plot(mean_loss)"
   ]
  },
  {
   "cell_type": "code",
   "execution_count": 174,
   "metadata": {},
   "outputs": [
    {
     "name": "stderr",
     "output_type": "stream",
     "text": [
      "/var/folders/h8/mhwh4fjn0qj405sjdd9_5ffw0000gn/T/ipykernel_6542/2912938829.py:12: UserWarning: Using a target size (torch.Size([11])) that is different to the input size (torch.Size([11, 1])). This will likely lead to incorrect results due to broadcasting. Please ensure they have the same size.\n",
      "  c = F.mse_loss(y_hat, snapshot.y)\n"
     ]
    },
    {
     "name": "stdout",
     "output_type": "stream",
     "text": [
      "MSE: 0.4118\n"
     ]
    }
   ],
   "source": [
    "model.eval()\n",
    "loss_test = []\n",
    "y_pred_test = []\n",
    "y_true_test = []\n",
    "cost = 0\n",
    "for time, snapshot in enumerate(test_dataset):\n",
    "    y_hat = model(snapshot.x, snapshot.edge_index, snapshot.edge_attr)\n",
    "    \n",
    "    y_pred_test.append(y_hat.detach().numpy())\n",
    "    y_true_test.append(snapshot.y.detach().numpy())\n",
    "\n",
    "    c = F.mse_loss(y_hat, snapshot.y)\n",
    "    loss_test.append(c.detach().numpy())\n",
    "    cost = cost + c\n",
    "cost = cost / (time+1)\n",
    "cost = cost.item()\n",
    "print(\"MSE: {:.4f}\".format(cost))"
   ]
  },
  {
   "cell_type": "code",
   "execution_count": 175,
   "metadata": {},
   "outputs": [
    {
     "name": "stdout",
     "output_type": "stream",
     "text": [
      "shape:  (328,)\n",
      "shape:  (328,)\n"
     ]
    }
   ],
   "source": [
    "# plot y_pred and y_true\n",
    "y_pred_test_mean = np.array(y_pred_test).reshape(-1, node_num).mean(axis=1).flatten()\n",
    "y_true_test_mean = np.array(y_true_test).reshape(-1, node_num).mean(axis=1).flatten()\n",
    "\n",
    "print('shape: ', y_pred_test_mean.shape)\n",
    "print('shape: ', y_true_test_mean.shape)"
   ]
  },
  {
   "cell_type": "code",
   "execution_count": 176,
   "metadata": {},
   "outputs": [
    {
     "data": {
      "text/plain": [
       "<AxesSubplot:>"
      ]
     },
     "execution_count": 176,
     "metadata": {},
     "output_type": "execute_result"
    },
    {
     "data": {
      "image/png": "[encoded data removed]",
      "text/plain": [
       "<Figure size 1000x400 with 1 Axes>"
      ]
     },
     "metadata": {},
     "output_type": "display_data"
    }
   ],
   "source": [
    "import matplotlib.pyplot as plt\n",
    "import seaborn as sns\n",
    "\n",
    "plt.figure(figsize=(10,4))\n",
    "sns.lineplot(data=y_pred_test_mean, label=\"pred\", color='red')\n",
    "sns.lineplot(data=y_true_test_mean, label=\"true\")"
   ]
  },
  {
   "cell_type": "code",
   "execution_count": 177,
   "metadata": {},
   "outputs": [
    {
     "name": "stdout",
     "output_type": "stream",
     "text": [
      "MAPE: 33.7482\n"
     ]
    }
   ],
   "source": [
    "# Calc MAPE\n",
    "y_pred_test = np.array(y_pred_test)\n",
    "y_true_test = np.array(y_true_test).flatten()\n",
    "\n",
    "\n",
    "mape = np.mean(np.abs((y_true_test - y_pred_test) / y_true_test)) * 100\n",
    "print(\"MAPE: {:.4f}\".format(mape))"
   ]
  },
  {
   "cell_type": "code",
   "execution_count": 178,
   "metadata": {},
   "outputs": [
    {
     "data": {
      "text/plain": [
       "[<matplotlib.lines.Line2D at 0x7fc2280c8070>]"
      ]
     },
     "execution_count": 178,
     "metadata": {},
     "output_type": "execute_result"
    },
    {
     "data": {
      "image/png": "[encoded data removed]",
      "text/plain": [
       "<Figure size 640x480 with 1 Axes>"
      ]
     },
     "metadata": {},
     "output_type": "display_data"
    }
   ],
   "source": [
    "# plot loss\n",
    "import matplotlib.pyplot as plt\n",
    "plt.plot(loss_test)"
   ]
  },
  {
   "cell_type": "code",
   "execution_count": 179,
   "metadata": {},
   "outputs": [
    {
     "name": "stdout",
     "output_type": "stream",
     "text": [
      "epoch [0/300] : 0.4561137877878285\n",
      "epoch [1/300] : 0.4327855196001489\n",
      "epoch [2/300] : 0.4310257966223699\n",
      "epoch [3/300] : 0.43073687463422666\n",
      "epoch [4/300] : 0.4268174663962379\n",
      "epoch [5/300] : 0.4255121980023572\n",
      "epoch [6/300] : 0.4252615771958236\n",
      "epoch [7/300] : 0.421669100309926\n",
      "epoch [8/300] : 0.42728885650991183\n",
      "epoch [9/300] : 0.43119106297460563\n",
      "epoch [10/300] : 0.41500063490752387\n",
      "epoch [11/300] : 0.4124691061428986\n",
      "epoch [12/300] : 0.41417134350085166\n",
      "epoch [13/300] : 0.42107963923799413\n",
      "epoch [14/300] : 0.41528567022169166\n",
      "epoch [15/300] : 0.41134528229245\n",
      "epoch [16/300] : 0.4126355220950642\n",
      "epoch [17/300] : 0.41281582470763556\n",
      "epoch [18/300] : 0.41125804140094574\n",
      "epoch [19/300] : 0.40978424240582345\n",
      "epoch [20/300] : 0.4128145942974684\n",
      "epoch [21/300] : 0.4094391022045971\n",
      "epoch [22/300] : 0.40853141560457246\n",
      "epoch [23/300] : 0.4092577612662241\n",
      "epoch [24/300] : 0.4088116926672047\n",
      "epoch [25/300] : 0.4170341370810375\n",
      "epoch [26/300] : 0.41895723170057664\n",
      "epoch [27/300] : 0.41751031361906005\n",
      "epoch [28/300] : 0.41629753661186947\n",
      "epoch [29/300] : 0.4182166498518142\n",
      "epoch [30/300] : 0.4126367787153095\n",
      "epoch [31/300] : 0.40949274036120303\n",
      "epoch [32/300] : 0.41436422846449705\n",
      "epoch [33/300] : 0.4169492379165356\n",
      "epoch [34/300] : 0.41689614711883494\n",
      "epoch [35/300] : 0.4168513291802252\n",
      "epoch [36/300] : 0.4168782218726813\n",
      "epoch [37/300] : 0.4194703070180757\n",
      "epoch [38/300] : 0.4219400510118681\n",
      "epoch [39/300] : 0.417763035541808\n",
      "epoch [40/300] : 0.4148554479114975\n",
      "epoch [41/300] : 0.4156480992608368\n",
      "epoch [42/300] : 0.41639312832868935\n",
      "epoch [43/300] : 0.4134560537122942\n",
      "epoch [44/300] : 0.4136865672900745\n",
      "epoch [45/300] : 0.4138875227350727\n",
      "epoch [46/300] : 0.4170043178117525\n",
      "epoch [47/300] : 0.41665813169133303\n",
      "epoch [48/300] : 0.41534474390152437\n",
      "epoch [49/300] : 0.4125418770401635\n",
      "epoch [50/300] : 0.4145136582244036\n",
      "epoch [51/300] : 0.4167430746572905\n",
      "epoch [52/300] : 0.4181944229170133\n",
      "epoch [53/300] : 0.4151997853944452\n",
      "epoch [54/300] : 0.41629374670999936\n",
      "epoch [55/300] : 0.4141197884491941\n",
      "epoch [56/300] : 0.4133283669729552\n",
      "epoch [57/300] : 0.41484467305003775\n",
      "epoch [58/300] : 0.41586508494490565\n",
      "epoch [59/300] : 0.4137082710327534\n",
      "epoch [60/300] : 0.41145191702693895\n",
      "epoch [61/300] : 0.4067411507573833\n",
      "epoch [62/300] : 0.40849145274941334\n",
      "epoch [63/300] : 0.40875766400814173\n",
      "epoch [64/300] : 0.4088530337931112\n",
      "epoch [65/300] : 0.4083944454686631\n",
      "epoch [66/300] : 0.40666894224834865\n",
      "epoch [67/300] : 0.40711098637304916\n",
      "epoch [68/300] : 0.40641216633458127\n",
      "epoch [69/300] : 0.405869977193522\n",
      "epoch [70/300] : 0.40755445397242923\n",
      "epoch [71/300] : 0.4070904757095157\n",
      "epoch [72/300] : 0.4046702188809511\n",
      "epoch [73/300] : 0.40700356320503656\n",
      "epoch [74/300] : 0.4062018639116327\n",
      "epoch [75/300] : 0.4049919313552202\n",
      "epoch [76/300] : 0.40721255235696213\n",
      "epoch [77/300] : 0.40574872645953497\n",
      "epoch [78/300] : 0.40618423927150576\n",
      "epoch [79/300] : 0.4074035778636818\n",
      "epoch [80/300] : 0.40690937675389205\n",
      "epoch [81/300] : 0.4042662123967631\n",
      "epoch [82/300] : 0.40379746661669186\n",
      "epoch [83/300] : 0.4061726048591194\n",
      "epoch [84/300] : 0.40698854112326316\n",
      "epoch [85/300] : 0.4078621121006255\n",
      "epoch [86/300] : 0.40750539322721807\n",
      "epoch [87/300] : 0.4065102607995604\n",
      "epoch [88/300] : 0.40473889947171915\n",
      "epoch [89/300] : 0.40394560968549736\n",
      "epoch [90/300] : 0.4074667715949652\n",
      "epoch [91/300] : 0.4194634129265189\n",
      "epoch [92/300] : 0.40510087424881885\n",
      "epoch [93/300] : 0.4032517060439736\n",
      "epoch [94/300] : 0.40319768200856715\n",
      "epoch [95/300] : 0.4033803210507097\n",
      "epoch [96/300] : 0.4032625672767527\n",
      "epoch [97/300] : 0.4065286525211457\n",
      "epoch [98/300] : 0.41588914404753813\n",
      "epoch [99/300] : 0.41587456768600767\n",
      "epoch [100/300] : 0.421671002359907\n",
      "epoch [101/300] : 0.4159840295765046\n",
      "epoch [102/300] : 0.4151752307720551\n",
      "epoch [103/300] : 0.41343598726155484\n",
      "epoch [104/300] : 0.41441131103295603\n",
      "epoch [105/300] : 0.41793840740310567\n",
      "epoch [106/300] : 0.4154511871131266\n",
      "epoch [107/300] : 0.41430417021924476\n",
      "epoch [108/300] : 0.4133820697887365\n",
      "epoch [109/300] : 0.414223495035934\n",
      "epoch [110/300] : 0.413055998762657\n",
      "epoch [111/300] : 0.4127747224421676\n",
      "epoch [112/300] : 0.41220917843824173\n",
      "epoch [113/300] : 0.4129915195657612\n",
      "epoch [114/300] : 0.4133292086371178\n",
      "epoch [115/300] : 0.41140301020872116\n",
      "epoch [116/300] : 0.41216446529600287\n",
      "epoch [117/300] : 0.4135268070645933\n",
      "epoch [118/300] : 0.4123915850342316\n",
      "epoch [119/300] : 0.41156217592571853\n",
      "epoch [120/300] : 0.4124603592479409\n",
      "epoch [121/300] : 0.4117271002701839\n",
      "epoch [122/300] : 0.41190778091183694\n",
      "epoch [123/300] : 0.4128109043913248\n",
      "epoch [124/300] : 0.41119568857338723\n",
      "epoch [125/300] : 0.4145839810176102\n",
      "epoch [126/300] : 0.4145187292733812\n",
      "epoch [127/300] : 0.41136765365426575\n",
      "epoch [128/300] : 0.4117650047218034\n",
      "epoch [129/300] : 0.4111517290786143\n",
      "epoch [130/300] : 0.41223452221187196\n",
      "epoch [131/300] : 0.41307506488994994\n",
      "epoch [132/300] : 0.41261596673169465\n",
      "epoch [133/300] : 0.4114397261987488\n",
      "epoch [134/300] : 0.41166313336173443\n",
      "epoch [135/300] : 0.4117145680359822\n",
      "epoch [136/300] : 0.4132107093107556\n",
      "epoch [137/300] : 0.41093797542931093\n",
      "epoch [138/300] : 0.4120656649312334\n",
      "epoch [139/300] : 0.41175501456857705\n",
      "epoch [140/300] : 0.4122912989853641\n",
      "epoch [141/300] : 0.4110303371363511\n",
      "epoch [142/300] : 0.41279232645282815\n",
      "epoch [143/300] : 0.41122477644319655\n",
      "epoch [144/300] : 0.4109692593565306\n",
      "epoch [145/300] : 0.4161716382120532\n",
      "epoch [146/300] : 0.4180354308141676\n",
      "epoch [147/300] : 0.412571020585486\n",
      "epoch [148/300] : 0.4113319229961984\n",
      "epoch [149/300] : 0.41308117959755786\n",
      "epoch [150/300] : 0.41129705607573724\n",
      "epoch [151/300] : 0.41123697351844957\n",
      "epoch [152/300] : 0.4096405622140452\n",
      "epoch [153/300] : 0.4104322555070916\n",
      "epoch [154/300] : 0.40952331263103264\n",
      "epoch [155/300] : 0.4134840373850646\n",
      "epoch [156/300] : 0.4130530403682847\n",
      "epoch [157/300] : 0.41027789944135934\n",
      "epoch [158/300] : 0.40883327518171125\n",
      "epoch [159/300] : 0.4111837956011979\n",
      "epoch [160/300] : 0.4094336044670694\n",
      "epoch [161/300] : 0.41014555181580475\n",
      "epoch [162/300] : 0.410794471633446\n",
      "epoch [163/300] : 0.4096713909552204\n",
      "epoch [164/300] : 0.4108081640246011\n",
      "epoch [165/300] : 0.40963224399966697\n",
      "epoch [166/300] : 0.4084666119107237\n",
      "epoch [167/300] : 0.4110330403153815\n",
      "epoch [168/300] : 0.4099742908843672\n",
      "epoch [169/300] : 0.40940973842406686\n",
      "epoch [170/300] : 0.40942721481546074\n",
      "epoch [171/300] : 0.40979504558778956\n",
      "epoch [172/300] : 0.40981968360199916\n",
      "epoch [173/300] : 0.4085749937258026\n",
      "epoch [174/300] : 0.41022583724244904\n",
      "epoch [175/300] : 0.4109127607628664\n",
      "epoch [176/300] : 0.409146058255975\n",
      "epoch [177/300] : 0.40938565738225746\n",
      "epoch [178/300] : 0.4089286364920115\n",
      "epoch [179/300] : 0.4099376648798741\n",
      "epoch [180/300] : 0.41050824747319536\n",
      "epoch [181/300] : 0.40848323317100615\n",
      "epoch [182/300] : 0.40949952618132296\n",
      "epoch [183/300] : 0.4095121653821334\n",
      "epoch [184/300] : 0.40905310303036263\n",
      "epoch [185/300] : 0.41032260813082655\n",
      "epoch [186/300] : 0.4094691885425312\n",
      "epoch [187/300] : 0.40849574553495854\n",
      "epoch [188/300] : 0.409059093928216\n",
      "epoch [189/300] : 0.4084313174851268\n",
      "epoch [190/300] : 0.4088556054347289\n",
      "epoch [191/300] : 0.4106321137869635\n",
      "epoch [192/300] : 0.4087895059208648\n",
      "epoch [193/300] : 0.41022739536464603\n",
      "epoch [194/300] : 0.4101128549880176\n",
      "epoch [195/300] : 0.42207916299928455\n",
      "epoch [196/300] : 0.4112672674741845\n",
      "epoch [197/300] : 0.4082316603684898\n",
      "epoch [198/300] : 0.40706662812330036\n",
      "epoch [199/300] : 0.4086847170970133\n",
      "epoch [200/300] : 0.4193356585741375\n",
      "epoch [201/300] : 0.41739787756884045\n",
      "epoch [202/300] : 0.41089543919439087\n",
      "epoch [203/300] : 0.4068103934495391\n",
      "epoch [204/300] : 0.40858536822963043\n",
      "epoch [205/300] : 0.4083317878691487\n",
      "epoch [206/300] : 0.408103906212626\n",
      "epoch [207/300] : 0.4070476592380461\n",
      "epoch [208/300] : 0.407307014103642\n",
      "epoch [209/300] : 0.40845446306894756\n",
      "epoch [210/300] : 0.4224943120513468\n",
      "epoch [211/300] : 0.41441806527721264\n",
      "epoch [212/300] : 0.41534744354567904\n",
      "epoch [213/300] : 0.4112510744452984\n",
      "epoch [214/300] : 0.4090917095380834\n",
      "epoch [215/300] : 0.40706593336886576\n",
      "epoch [216/300] : 0.41089320252008665\n",
      "epoch [217/300] : 0.40609149902150876\n",
      "epoch [218/300] : 0.40316148907151245\n",
      "epoch [219/300] : 0.4063970007656599\n",
      "epoch [220/300] : 0.40427309503781256\n",
      "epoch [221/300] : 0.40657902425362547\n",
      "epoch [222/300] : 0.40495285775322043\n",
      "epoch [223/300] : 0.40590692602151696\n",
      "epoch [224/300] : 0.40634956777945336\n",
      "epoch [225/300] : 0.4060800996991082\n",
      "epoch [226/300] : 0.4048178682230696\n",
      "epoch [227/300] : 0.413214936431346\n",
      "epoch [228/300] : 0.40547933413245535\n",
      "epoch [229/300] : 0.4076087655106542\n",
      "epoch [230/300] : 0.4108781319253176\n",
      "epoch [231/300] : 0.40874526235927994\n",
      "epoch [232/300] : 0.4076341771548748\n",
      "epoch [233/300] : 0.4081641749477656\n",
      "epoch [234/300] : 0.4106744597391329\n",
      "epoch [235/300] : 0.406550169601392\n",
      "epoch [236/300] : 0.4079384888262338\n",
      "epoch [237/300] : 0.40955170301591115\n",
      "epoch [238/300] : 0.4121815733914294\n",
      "epoch [239/300] : 0.4122526178766301\n",
      "epoch [240/300] : 0.41005199143558074\n",
      "epoch [241/300] : 0.4105287167655004\n",
      "epoch [242/300] : 0.40648550334902844\n",
      "epoch [243/300] : 0.4074489858372535\n",
      "epoch [244/300] : 0.41213621381367527\n",
      "epoch [245/300] : 0.40666271405609455\n",
      "epoch [246/300] : 0.41307920066891224\n",
      "epoch [247/300] : 0.4134231415207389\n",
      "epoch [248/300] : 0.41179831773360037\n",
      "epoch [249/300] : 0.4060396508009784\n",
      "epoch [250/300] : 0.4087774432392432\n",
      "epoch [251/300] : 0.4060555264722375\n",
      "epoch [252/300] : 0.4045777345957481\n",
      "epoch [253/300] : 0.40776932437270685\n",
      "epoch [254/300] : 0.40346249574148446\n",
      "epoch [255/300] : 0.40536696634219954\n",
      "epoch [256/300] : 0.4018792857661316\n",
      "epoch [257/300] : 0.40414652770426646\n",
      "epoch [258/300] : 0.40547642502982567\n",
      "epoch [259/300] : 0.40864772433817853\n",
      "epoch [260/300] : 0.40769815079496774\n",
      "epoch [261/300] : 0.41190060022193087\n",
      "epoch [262/300] : 0.4056905727384326\n",
      "epoch [263/300] : 0.4044383425145931\n",
      "epoch [264/300] : 0.40543256156991186\n",
      "epoch [265/300] : 0.40789597314022\n",
      "epoch [266/300] : 0.4050598519257371\n",
      "epoch [267/300] : 0.4092317917451341\n",
      "epoch [268/300] : 0.4136869435541595\n",
      "epoch [269/300] : 0.413514092715938\n",
      "epoch [270/300] : 0.408371810178818\n",
      "epoch [271/300] : 0.4081053233999627\n",
      "epoch [272/300] : 0.4120928147297504\n",
      "epoch [273/300] : 0.4063558833878658\n",
      "epoch [274/300] : 0.4040109678372975\n",
      "epoch [275/300] : 0.4030474447126489\n",
      "epoch [276/300] : 0.4035644933183435\n",
      "epoch [277/300] : 0.4056090874143365\n",
      "epoch [278/300] : 0.40341875719597386\n",
      "epoch [279/300] : 0.405660249040185\n",
      "epoch [280/300] : 0.40584417145093843\n",
      "epoch [281/300] : 0.40664138986825515\n",
      "epoch [282/300] : 0.40796440747611684\n",
      "epoch [283/300] : 0.40543349129349227\n",
      "epoch [284/300] : 0.40615909650853466\n",
      "epoch [285/300] : 0.4044283823858395\n",
      "epoch [286/300] : 0.4048397140675084\n",
      "epoch [287/300] : 0.4049718879104676\n",
      "epoch [288/300] : 0.4054786255924937\n",
      "epoch [289/300] : 0.4041202965901669\n",
      "epoch [290/300] : 0.4070003427416184\n",
      "epoch [291/300] : 0.40441196028211523\n",
      "epoch [292/300] : 0.40478603416860964\n",
      "epoch [293/300] : 0.412504224452101\n",
      "epoch [294/300] : 0.4178846415161579\n",
      "epoch [295/300] : 0.40513081682985097\n",
      "epoch [296/300] : 0.4075540342694087\n",
      "epoch [297/300] : 0.41027408656401765\n",
      "epoch [298/300] : 0.408037941375574\n",
      "epoch [299/300] : 0.40618858908011357\n"
     ]
    }
   ],
   "source": [
    "# mean loss in each epoch\n",
    "losses_mean = [np.mean(i) for i in losses]\n",
    "\n",
    "for i in range(epoch_num):\n",
    "    print(f'epoch [{i}/{epoch_num}] :', losses_mean[i])\n"
   ]
  }
 ],
 "metadata": {
  "kernelspec": {
   "display_name": "Python 3",
   "language": "python",
   "name": "python3"
  },
  "language_info": {
   "codemirror_mode": {
    "name": "ipython",
    "version": 3
   },
   "file_extension": ".py",
   "mimetype": "text/x-python",
   "name": "python",
   "nbconvert_exporter": "python",
   "pygments_lexer": "ipython3",
   "version": "3.8.6"
  },
  "orig_nbformat": 4
 },
 "nbformat": 4,
 "nbformat_minor": 2
}
