{
 "cells": [
  {
   "cell_type": "code",
   "execution_count": 62,
   "metadata": {},
   "outputs": [],
   "source": [
    "import json\n",
    "import numpy as np\n",
    "from torch_geometric_temporal.signal import StaticGraphTemporalSignal\n",
    "import os\n",
    "import pandas as pd\n",
    "import torch.nn.functional as F"
   ]
  },
  {
   "cell_type": "code",
   "execution_count": 25,
   "metadata": {},
   "outputs": [],
   "source": [
    "# define the number of features\n",
    "feature_num = 3\n",
    "\n",
    "# DAILY\n",
    "start_col = 1\n",
    "\n",
    "# HOURLY\n",
    "# start_col = 2\n",
    "\n",
    "# define the number of time steps\n",
    "time_step = 3"
   ]
  },
  {
   "cell_type": "code",
   "execution_count": 9,
   "metadata": {},
   "outputs": [
    {
     "name": "stdout",
     "output_type": "stream",
     "text": [
      "cleaned_data_10.csv\n",
      "cleaned_data_1.csv\n",
      "cleaned_data_0.csv\n",
      "cleaned_data_2.csv\n",
      "cleaned_data_3.csv\n",
      "cleaned_data_7.csv\n",
      "cleaned_data_6.csv\n",
      "cleaned_data_4.csv\n",
      "cleaned_data_5.csv\n",
      "cleaned_data_8.csv\n",
      "cleaned_data_9.csv\n"
     ]
    }
   ],
   "source": [
    "directory = 'Dataset/'\n",
    "\n",
    "node_num = 0\n",
    "dataset = []\n",
    "\n",
    "# read csv files in Dataset folder\n",
    "for filename in os.listdir(directory):\n",
    "    if filename.endswith('.csv'):\n",
    "        node_num += 1\n",
    "        node = pd.read_csv(directory + filename).iloc[:, start_col: start_col + feature_num].values\n",
    "        dataset.append(node)\n",
    "        print(filename)\n",
    "\n",
    "dataset = np.array(dataset)\n"
   ]
  },
  {
   "cell_type": "code",
   "execution_count": 10,
   "metadata": {},
   "outputs": [
    {
     "data": {
      "text/plain": [
       "(11, 1095, 3)"
      ]
     },
     "execution_count": 10,
     "metadata": {},
     "output_type": "execute_result"
    }
   ],
   "source": [
    "dataset.shape"
   ]
  },
  {
   "cell_type": "code",
   "execution_count": 11,
   "metadata": {},
   "outputs": [
    {
     "data": {
      "text/plain": [
       "array([ 1.18206846,  2.27336876, 33.90688519])"
      ]
     },
     "execution_count": 11,
     "metadata": {},
     "output_type": "execute_result"
    }
   ],
   "source": [
    "dataset[0][0]"
   ]
  },
  {
   "cell_type": "code",
   "execution_count": 26,
   "metadata": {},
   "outputs": [],
   "source": [
    "dataset = dataset.reshape(node_num, feature_num, -1)"
   ]
  },
  {
   "cell_type": "code",
   "execution_count": 27,
   "metadata": {},
   "outputs": [
    {
     "data": {
      "text/plain": [
       "(11, 3, 1095)"
      ]
     },
     "execution_count": 27,
     "metadata": {},
     "output_type": "execute_result"
    }
   ],
   "source": [
    "dataset.shape"
   ]
  },
  {
   "cell_type": "code",
   "execution_count": 22,
   "metadata": {},
   "outputs": [],
   "source": [
    "edges = [[], []]\n",
    "for i in range(node_num):\n",
    "    for j in range(node_num):\n",
    "        edges[0].append(i)\n",
    "        edges[1].append(j)\n",
    "\n",
    "edges = np.array(edges)\n",
    "\n",
    "# one weight for edges\n",
    "edge_weight = np.ones(edges[0].shape)\n"
   ]
  },
  {
   "cell_type": "code",
   "execution_count": 32,
   "metadata": {},
   "outputs": [
    {
     "name": "stdout",
     "output_type": "stream",
     "text": [
      "(11, 3, 1095)\n",
      "(2, 121)\n",
      "(121,)\n"
     ]
    }
   ],
   "source": [
    "# dataset: (time, feature, node)\n",
    "# edge_weight: (edge)\n",
    "\n",
    "# print shapes\n",
    "print(dataset.shape)\n",
    "print(edges.shape)\n",
    "print(edge_weight.shape)"
   ]
  },
  {
   "cell_type": "code",
   "execution_count": 283,
   "metadata": {},
   "outputs": [],
   "source": [
    "# targets are in dataset after timestep\n",
    "features_co = []\n",
    "features_so2 = []\n",
    "features_pm10 = []\n",
    "\n",
    "targets_co = []\n",
    "targets_so2 = []\n",
    "targets_pm10 = []\n",
    "for i in range(dataset.shape[2] - time_step):\n",
    "    features_co.append(dataset[:, 0, i:i + time_step].reshape(node_num, time_step))\n",
    "    features_so2.append(dataset[:, 1, i:i + time_step].reshape(node_num, time_step))\n",
    "    features_pm10.append(dataset[:, 2, i:i + time_step].reshape(node_num, time_step))\n",
    "\n",
    "    targets_co.append(dataset[:, 0, i + time_step].reshape(node_num, 1))\n",
    "    targets_so2.append(dataset[:, 1, i + time_step].reshape(node_num, 1))\n",
    "    targets_pm10.append(dataset[:, 2, i + time_step].reshape(node_num, 1))\n",
    "\n",
    "features_co = np.array(features_co)\n",
    "features_so2 = np.array(features_so2)\n",
    "features_pm10 = np.array(features_pm10)\n",
    "\n",
    "targets_co = np.array(targets_co)\n",
    "targets_so2 = np.array(targets_so2)\n",
    "targets_pm10 = np.array(targets_pm10)"
   ]
  },
  {
   "cell_type": "code",
   "execution_count": 284,
   "metadata": {},
   "outputs": [
    {
     "name": "stdout",
     "output_type": "stream",
     "text": [
      "feature shape: (1092, 11, 3)\n",
      "target shape: (1092, 11, 1)\n"
     ]
    }
   ],
   "source": [
    "print('feature shape:', features_co.shape)\n",
    "print('target shape:', targets_co.shape)\n"
   ]
  },
  {
   "cell_type": "code",
   "execution_count": 292,
   "metadata": {},
   "outputs": [],
   "source": [
    "# import torch\n",
    "# from torch import tensor\n",
    "\n",
    "# # dataloader in torch geometic library\n",
    "# from torch_geometric.data import Data\n",
    "\n",
    "# temporal_co = Data(\n",
    "#     src=tensor(features_co, dtype=torch.float),\n",
    "#     dst=tensor(targets_co, dtype=torch.float),\n",
    "#     edge_index=tensor(edges, dtype=torch.long),\n",
    "# )\n"
   ]
  },
  {
   "cell_type": "code",
   "execution_count": 293,
   "metadata": {},
   "outputs": [],
   "source": [
    "# from torch_geometric.loader import TemporalDataLoader\n",
    "# batch_size = 2\n",
    "# loader_co = TemporalDataLoader(temporal_co, batch_size=2, shuffle=True)"
   ]
  },
  {
   "cell_type": "code",
   "execution_count": 295,
   "metadata": {},
   "outputs": [
    {
     "data": {
      "text/plain": [
       "<torch_geometric.loader.dataloader.DataLoader at 0x7f82a81e3190>"
      ]
     },
     "execution_count": 295,
     "metadata": {},
     "output_type": "execute_result"
    }
   ],
   "source": [
    "# loader_co"
   ]
  },
  {
   "cell_type": "code",
   "execution_count": 298,
   "metadata": {},
   "outputs": [],
   "source": [
    "# for i in loader_co:\n",
    "#     print(i)\n",
    "#     break"
   ]
  },
  {
   "cell_type": "code",
   "execution_count": 299,
   "metadata": {},
   "outputs": [],
   "source": [
    "# import torch\n",
    "# import torch.nn.functional as F\n",
    "# from torch_geometric_temporal.nn.recurrent import GConvGRU\n",
    "\n",
    "# class RecurrentGCN(torch.nn.Module):\n",
    "\n",
    "#     def __init__(self, node_features, num_classes):\n",
    "#         super(RecurrentGCN, self).__init__()\n",
    "#         self.recurrent_1 = GConvGRU(node_features, 32, 5)\n",
    "#         self.recurrent_2 = GConvGRU(32, 16, 5)\n",
    "#         self.linear = torch.nn.Linear(16, num_classes)\n",
    "\n",
    "#     def forward(self, x, edge_index, edge_weight):\n",
    "#         x = self.recurrent_1(x, edge_index, edge_weight)\n",
    "#         x = F.relu(x)\n",
    "#         x = F.dropout(x, training=self.training)\n",
    "#         x = self.recurrent_2(x, edge_index, edge_weight)\n",
    "#         x = F.relu(x)\n",
    "#         x = F.dropout(x, training=self.training)\n",
    "#         x = self.linear(x)\n",
    "#         return F.log_softmax(x, dim=1)\n",
    "\n",
    "# RecurrentGCN(3, 1)"
   ]
  },
  {
   "cell_type": "code",
   "execution_count": 217,
   "metadata": {},
   "outputs": [],
   "source": [
    "# model = RecurrentGCN(3, 1)"
   ]
  },
  {
   "cell_type": "code",
   "execution_count": 296,
   "metadata": {},
   "outputs": [],
   "source": [
    "# Base model\n",
    "from torch_geometric_temporal import GConvGRU\n",
    "\n",
    "# in_channel = feature_num \n",
    "# out_channel = 1\n",
    "\n",
    "# k = 32\n",
    "\n",
    "# # define model\n",
    "# model = GConvGRU(in_channel, out_channel, k)\n",
    "model = GConvGRU(in_channels=time_step , out_channels=1, K=5)\n"
   ]
  },
  {
   "cell_type": "code",
   "execution_count": 287,
   "metadata": {},
   "outputs": [
    {
     "data": {
      "text/plain": [
       "GConvGRU(\n",
       "  (conv_x_z): ChebConv(3, 1, K=5, normalization=sym)\n",
       "  (conv_h_z): ChebConv(1, 1, K=5, normalization=sym)\n",
       "  (conv_x_r): ChebConv(3, 1, K=5, normalization=sym)\n",
       "  (conv_h_r): ChebConv(1, 1, K=5, normalization=sym)\n",
       "  (conv_x_h): ChebConv(3, 1, K=5, normalization=sym)\n",
       "  (conv_h_h): ChebConv(1, 1, K=5, normalization=sym)\n",
       ")"
      ]
     },
     "execution_count": 287,
     "metadata": {},
     "output_type": "execute_result"
    }
   ],
   "source": [
    "model"
   ]
  },
  {
   "cell_type": "code",
   "execution_count": 300,
   "metadata": {},
   "outputs": [],
   "source": [
    "# # train\n",
    "# from torch.optim import Adam\n",
    "\n",
    "# optimizer = Adam(model.parameters(), lr=0.01)\n",
    "# model.train()\n",
    "\n",
    "# for epoch in range(5):\n",
    "    \n",
    "#     for batch in loader_co:\n",
    "#         optimizer.zero_grad()\n",
    "#         x, y, edge_index = batch.src, batch.dst, batch.edge_index\n",
    "#         batch.to(torch.device('cpu'))\n",
    "#         print(x.shape)\n",
    "#         print(edge_index.shape)\n",
    "#         # print(x.shape, edge_index)\n",
    "#         out = model(x, edge_index)\n",
    "#         loss = F.mse_loss(out, y)\n",
    "#         loss.backward()\n",
    "#         optimizer.step()\n",
    "#     print(loss)"
   ]
  },
  {
   "cell_type": "code",
   "execution_count": 301,
   "metadata": {},
   "outputs": [],
   "source": [
    "spatio = StaticGraphTemporalSignal(\n",
    "    edges,\n",
    "    edge_weight,\n",
    "    features_co,\n",
    "    targets_co\n",
    ")"
   ]
  },
  {
   "cell_type": "code",
   "execution_count": 306,
   "metadata": {},
   "outputs": [],
   "source": [
    "# batch iterator\n",
    "from torch_geometric_temporal import StaticGraphTemporalSignalBatch\n",
    "\n",
    "batch_size = 10\n",
    "spatio_loader = StaticGraphTemporalSignalBatch(edges, edge_weight, features_co, targets_co, batch_size)\n"
   ]
  },
  {
   "cell_type": "code",
   "execution_count": 1,
   "metadata": {},
   "outputs": [
    {
     "ename": "NameError",
     "evalue": "name 'spatio_loader' is not defined",
     "output_type": "error",
     "traceback": [
      "\u001b[0;31m---------------------------------------------------------------------------\u001b[0m",
      "\u001b[0;31mNameError\u001b[0m                                 Traceback (most recent call last)",
      "\u001b[1;32m/Users/hasti/University/Final Project/My Code/Model/temp/dataloader.ipynb Cell 23\u001b[0m in \u001b[0;36m<cell line: 4>\u001b[0;34m()\u001b[0m\n\u001b[1;32m      <a href='vscode-notebook-cell:/Users/hasti/University/Final%20Project/My%20Code/Model/temp/dataloader.ipynb#X65sZmlsZQ%3D%3D?line=1'>2</a>\u001b[0m \u001b[39mimport\u001b[39;00m \u001b[39mpickle\u001b[39;00m\n\u001b[1;32m      <a href='vscode-notebook-cell:/Users/hasti/University/Final%20Project/My%20Code/Model/temp/dataloader.ipynb#X65sZmlsZQ%3D%3D?line=3'>4</a>\u001b[0m \u001b[39mwith\u001b[39;00m \u001b[39mopen\u001b[39m(\u001b[39m'\u001b[39m\u001b[39mloader.pkl\u001b[39m\u001b[39m'\u001b[39m, \u001b[39m'\u001b[39m\u001b[39mwb\u001b[39m\u001b[39m'\u001b[39m) \u001b[39mas\u001b[39;00m f:\n\u001b[0;32m----> <a href='vscode-notebook-cell:/Users/hasti/University/Final%20Project/My%20Code/Model/temp/dataloader.ipynb#X65sZmlsZQ%3D%3D?line=4'>5</a>\u001b[0m     pickle\u001b[39m.\u001b[39mdump(spatio_loader, f)\n",
      "\u001b[0;31mNameError\u001b[0m: name 'spatio_loader' is not defined"
     ]
    }
   ],
   "source": [
    "# save loader\n",
    "import pickle\n",
    "\n",
    "with open('loader.pkl', 'wb') as f:\n",
    "    pickle.dump(spatio_loader, f)\n",
    "    "
   ]
  },
  {
   "cell_type": "code",
   "execution_count": 307,
   "metadata": {},
   "outputs": [],
   "source": [
    "from torch_geometric_temporal.signal import temporal_signal_split\n",
    "\n",
    "train_dataset, test_dataset = temporal_signal_split(spatio_loader, train_ratio=0.8)"
   ]
  },
  {
   "cell_type": "code",
   "execution_count": 310,
   "metadata": {},
   "outputs": [
    {
     "name": "stdout",
     "output_type": "stream",
     "text": [
      "DataBatch(x=[11, 3], edge_index=[2, 121], edge_attr=[121], y=[11, 1], batch=[10])\n"
     ]
    }
   ],
   "source": [
    "for i in train_dataset:\n",
    "    print(i)\n",
    "    break"
   ]
  },
  {
   "cell_type": "code",
   "execution_count": 317,
   "metadata": {},
   "outputs": [
    {
     "name": "stdout",
     "output_type": "stream",
     "text": [
      "Epoch [1/5], Step [100], Loss: 1.5012893676757812\n",
      "Epoch [1/5], Step [200], Loss: 5.598830699920654\n",
      "Epoch [1/5], Step [300], Loss: 7225.29248046875\n",
      "Epoch [1/5], Step [400], Loss: 2.0279555320739746\n",
      "Epoch [1/5], Step [500], Loss: 39.28966522216797\n",
      "Epoch [1/5], Step [600], Loss: 3268.77734375\n",
      "Epoch [1/5], Step [700], Loss: 3.632460832595825\n",
      "Epoch [1/5], Step [800], Loss: 88.38957977294922\n",
      "tensor(5091.9614, grad_fn=<MseLossBackward0>)\n",
      "Epoch [2/5], Step [100], Loss: 1.5012893676757812\n",
      "Epoch [2/5], Step [200], Loss: 5.598830699920654\n",
      "Epoch [2/5], Step [300], Loss: 7225.29248046875\n",
      "Epoch [2/5], Step [400], Loss: 2.0279555320739746\n",
      "Epoch [2/5], Step [500], Loss: 39.28966522216797\n",
      "Epoch [2/5], Step [600], Loss: 3268.77734375\n",
      "Epoch [2/5], Step [700], Loss: 3.632460832595825\n",
      "Epoch [2/5], Step [800], Loss: 88.38957977294922\n",
      "tensor(5091.9614, grad_fn=<MseLossBackward0>)\n",
      "Epoch [3/5], Step [100], Loss: 1.5012893676757812\n",
      "Epoch [3/5], Step [200], Loss: 5.598830699920654\n",
      "Epoch [3/5], Step [300], Loss: 7225.29248046875\n",
      "Epoch [3/5], Step [400], Loss: 2.0279555320739746\n",
      "Epoch [3/5], Step [500], Loss: 39.28966522216797\n",
      "Epoch [3/5], Step [600], Loss: 3268.77734375\n",
      "Epoch [3/5], Step [700], Loss: 3.632460832595825\n",
      "Epoch [3/5], Step [800], Loss: 88.38957977294922\n",
      "tensor(5091.9614, grad_fn=<MseLossBackward0>)\n",
      "Epoch [4/5], Step [100], Loss: 1.5012893676757812\n",
      "Epoch [4/5], Step [200], Loss: 5.598830699920654\n",
      "Epoch [4/5], Step [300], Loss: 7225.29248046875\n",
      "Epoch [4/5], Step [400], Loss: 2.0279555320739746\n",
      "Epoch [4/5], Step [500], Loss: 39.28966522216797\n",
      "Epoch [4/5], Step [600], Loss: 3268.77734375\n",
      "Epoch [4/5], Step [700], Loss: 3.632460832595825\n",
      "Epoch [4/5], Step [800], Loss: 88.38957977294922\n",
      "tensor(5091.9614, grad_fn=<MseLossBackward0>)\n",
      "Epoch [5/5], Step [100], Loss: 1.5012893676757812\n",
      "Epoch [5/5], Step [200], Loss: 5.598830699920654\n",
      "Epoch [5/5], Step [300], Loss: 7225.29248046875\n",
      "Epoch [5/5], Step [400], Loss: 2.0279555320739746\n",
      "Epoch [5/5], Step [500], Loss: 39.28966522216797\n",
      "Epoch [5/5], Step [600], Loss: 3268.77734375\n",
      "Epoch [5/5], Step [700], Loss: 3.632460832595825\n",
      "Epoch [5/5], Step [800], Loss: 88.38957977294922\n",
      "tensor(5091.9614, grad_fn=<MseLossBackward0>)\n"
     ]
    }
   ],
   "source": [
    "# train over train_datset batches\n",
    "from torch.optim import Adam\n",
    "import torch\n",
    "\n",
    "optimizer = Adam(model.parameters(), lr=0.01)\n",
    "model.train()\n",
    "\n",
    "losses = []\n",
    "\n",
    "for epoch in range(5):    \n",
    "    for i, batch in enumerate(train_dataset):\n",
    "        optimizer.zero_grad()\n",
    "        batch.to(torch.device('cpu'))\n",
    "        out = model(batch.x, batch.edge_index)\n",
    "        loss = F.mse_loss(out, batch.y)\n",
    "        loss.backward()\n",
    "        losses.append(loss)\n",
    "        optimizer.step()\n",
    "        if (i+1) % 100 == 0:\n",
    "            print(f'Epoch [{epoch+1}/{5}], Step [{i+1}], Loss: {loss.item()}')\n",
    "    print(loss)"
   ]
  },
  {
   "cell_type": "code",
   "execution_count": null,
   "metadata": {},
   "outputs": [],
   "source": []
  },
  {
   "cell_type": "code",
   "execution_count": 98,
   "metadata": {},
   "outputs": [],
   "source": [
    "# save spatio \n",
    "\n",
    "import torch\n",
    "torch.save(spatio, 'spatio.pt')"
   ]
  },
  {
   "cell_type": "code",
   "execution_count": 135,
   "metadata": {},
   "outputs": [
    {
     "data": {
      "text/plain": [
       "<torch_geometric_temporal.signal.static_graph_temporal_signal.StaticGraphTemporalSignal at 0x7f82d00ab610>"
      ]
     },
     "execution_count": 135,
     "metadata": {},
     "output_type": "execute_result"
    }
   ],
   "source": [
    "spatio"
   ]
  },
  {
   "cell_type": "code",
   "execution_count": 136,
   "metadata": {},
   "outputs": [
    {
     "name": "stdout",
     "output_type": "stream",
     "text": [
      "Dataset type:   <torch_geometric_temporal.signal.static_graph_temporal_signal.StaticGraphTemporalSignal object at 0x7f82d00ab610>\n",
      "Data(x=[11, 3, 3], edge_index=[2, 121], edge_attr=[121], y=[11, 1])\n"
     ]
    }
   ],
   "source": [
    "print(\"Dataset type:  \", spatio)\n",
    "# print(\"Number of samples / sequences: \",  len(set(spatio)))\n",
    "print(next(iter(spatio))) # Show first sample"
   ]
  },
  {
   "cell_type": "code",
   "execution_count": 137,
   "metadata": {},
   "outputs": [],
   "source": [
    "from torch_geometric_temporal.signal import temporal_signal_split\n",
    "\n",
    "train_dataset, test_dataset = temporal_signal_split(spatio, train_ratio=0.8)\n"
   ]
  },
  {
   "cell_type": "code",
   "execution_count": 181,
   "metadata": {},
   "outputs": [],
   "source": [
    "# GPU support\n",
    "DEVICE = torch.device('cpu') # cpu\n",
    "shuffle=True\n",
    "batch_size = 2"
   ]
  },
  {
   "cell_type": "code",
   "execution_count": 182,
   "metadata": {},
   "outputs": [
    {
     "name": "stdout",
     "output_type": "stream",
     "text": [
      "(873, 11, 3, 3)\n",
      "(873, 11, 1)\n"
     ]
    }
   ],
   "source": [
    "train_input = np.array(train_dataset.features)\n",
    "print(train_input.shape)\n",
    "train_target = np.array(train_dataset.targets) # (27399, 207, 12)\n",
    "print(train_target.shape)\n",
    "train_x_tensor = torch.from_numpy(train_input).type(torch.FloatTensor).to(DEVICE)  # (B, N, F, T)\n",
    "train_target_tensor = torch.from_numpy(train_target).type(torch.FloatTensor).to(DEVICE)  # (B, N, T)\n",
    "train_dataset_new = torch.utils.data.TensorDataset(train_x_tensor, train_target_tensor)\n",
    "train_loader = torch.utils.data.DataLoader(train_dataset_new, batch_size=batch_size, shuffle=shuffle, drop_last=True)"
   ]
  },
  {
   "cell_type": "code",
   "execution_count": 183,
   "metadata": {},
   "outputs": [
    {
     "data": {
      "text/plain": [
       "<torch.utils.data.dataloader.DataLoader at 0x7f82d1fde940>"
      ]
     },
     "execution_count": 183,
     "metadata": {},
     "output_type": "execute_result"
    }
   ],
   "source": [
    "train_loader"
   ]
  },
  {
   "cell_type": "code",
   "execution_count": 184,
   "metadata": {},
   "outputs": [
    {
     "name": "stdout",
     "output_type": "stream",
     "text": [
      "(219, 11, 3, 3)\n",
      "(219, 11, 1)\n"
     ]
    }
   ],
   "source": [
    "test_input = np.array(test_dataset.features)\n",
    "print(test_input.shape)\n",
    "test_target = np.array(test_dataset.targets) \n",
    "print(test_target.shape)\n",
    "test_x_tensor = torch.from_numpy(test_input).type(torch.FloatTensor).to(DEVICE)  # (B, N, F, T)\n",
    "test_target_tensor = torch.from_numpy(test_target).type(torch.FloatTensor).to(DEVICE)  # (B, N, T)\n",
    "test_dataset_new = torch.utils.data.TensorDataset(test_x_tensor, test_target_tensor)\n",
    "test_loader = torch.utils.data.DataLoader(test_dataset_new, batch_size=batch_size, shuffle=shuffle,drop_last=True)"
   ]
  },
  {
   "cell_type": "code",
   "execution_count": 185,
   "metadata": {},
   "outputs": [
    {
     "data": {
      "text/plain": [
       "<torch.utils.data.dataloader.DataLoader at 0x7f82d1feb7f0>"
      ]
     },
     "execution_count": 185,
     "metadata": {},
     "output_type": "execute_result"
    }
   ],
   "source": [
    "test_loader"
   ]
  },
  {
   "cell_type": "code",
   "execution_count": 186,
   "metadata": {},
   "outputs": [
    {
     "data": {
      "text/plain": [
       "TemporalGNN(\n",
       "  (tgnn): A3TGCN2(\n",
       "    (_base_tgcn): TGCN2(\n",
       "      (conv_z): GCNConv(3, 32)\n",
       "      (linear_z): Linear(in_features=64, out_features=32, bias=True)\n",
       "      (conv_r): GCNConv(3, 32)\n",
       "      (linear_r): Linear(in_features=64, out_features=32, bias=True)\n",
       "      (conv_h): GCNConv(3, 32)\n",
       "      (linear_h): Linear(in_features=64, out_features=32, bias=True)\n",
       "    )\n",
       "  )\n",
       "  (linear): Linear(in_features=32, out_features=1, bias=True)\n",
       ")"
      ]
     },
     "execution_count": 186,
     "metadata": {},
     "output_type": "execute_result"
    }
   ],
   "source": [
    "from torch_geometric_temporal.nn.recurrent import A3TGCN2\n",
    "from torch_geometric_temporal import GConvGRU\n",
    "\n",
    "class TemporalGNN(torch.nn.Module):\n",
    "    def __init__(self, node_features, periods, batch_size):\n",
    "        super(TemporalGNN, self).__init__()\n",
    "        # Attention Temporal Graph Convolutional Cell\n",
    "        self.tgnn = A3TGCN2(in_channels=node_features,  out_channels=32, periods=periods,batch_size=batch_size) # node_features=2, periods=12\n",
    "        # Equals single-shot prediction\n",
    "        self.linear = torch.nn.Linear(32, 1)\n",
    "\n",
    "    def forward(self, x, edge_index):\n",
    "        \"\"\"\n",
    "        x = Node features for T time steps\n",
    "        edge_index = Graph edge indices\n",
    "        \"\"\"\n",
    "        h = self.tgnn(x, edge_index) # x [b, 207, 2, 12]  returns h [b, 207, 12]\n",
    "        h = F.relu(h) \n",
    "        h = self.linear(h)\n",
    "        return h\n",
    "\n",
    "TemporalGNN(node_features=3, periods=3, batch_size=2)"
   ]
  },
  {
   "cell_type": "code",
   "execution_count": 187,
   "metadata": {},
   "outputs": [],
   "source": [
    "model = TemporalGNN(node_features=3, periods=3, batch_size=2)"
   ]
  },
  {
   "cell_type": "code",
   "execution_count": 250,
   "metadata": {},
   "outputs": [],
   "source": [
    "# Base model\n",
    "from torch_geometric_temporal import GConvGRU\n",
    "\n",
    "in_channel = feature_num * time_step\n",
    "out_channel = 1\n",
    "\n",
    "k = 2\n",
    "\n",
    "# define model\n",
    "model = GConvGRU(in_channel, out_channel, k)"
   ]
  },
  {
   "cell_type": "code",
   "execution_count": 251,
   "metadata": {},
   "outputs": [],
   "source": [
    "optimizer = torch.optim.Adam(model.parameters(), lr=0.001)\n",
    "loss_fn = torch.nn.MSELoss()"
   ]
  },
  {
   "cell_type": "code",
   "execution_count": 252,
   "metadata": {},
   "outputs": [
    {
     "name": "stdout",
     "output_type": "stream",
     "text": [
      "Net's state_dict:\n",
      "conv_x_z.bias \t torch.Size([1])\n",
      "conv_x_z.lins.0.weight \t torch.Size([1, 9])\n",
      "conv_x_z.lins.1.weight \t torch.Size([1, 9])\n",
      "conv_h_z.bias \t torch.Size([1])\n",
      "conv_h_z.lins.0.weight \t torch.Size([1, 1])\n",
      "conv_h_z.lins.1.weight \t torch.Size([1, 1])\n",
      "conv_x_r.bias \t torch.Size([1])\n",
      "conv_x_r.lins.0.weight \t torch.Size([1, 9])\n",
      "conv_x_r.lins.1.weight \t torch.Size([1, 9])\n",
      "conv_h_r.bias \t torch.Size([1])\n",
      "conv_h_r.lins.0.weight \t torch.Size([1, 1])\n",
      "conv_h_r.lins.1.weight \t torch.Size([1, 1])\n",
      "conv_x_h.bias \t torch.Size([1])\n",
      "conv_x_h.lins.0.weight \t torch.Size([1, 9])\n",
      "conv_x_h.lins.1.weight \t torch.Size([1, 9])\n",
      "conv_h_h.bias \t torch.Size([1])\n",
      "conv_h_h.lins.0.weight \t torch.Size([1, 1])\n",
      "conv_h_h.lins.1.weight \t torch.Size([1, 1])\n",
      "Net's total params: 66\n",
      "Optimizer's state_dict:\n",
      "state \t {}\n",
      "param_groups \t [{'lr': 0.001, 'betas': (0.9, 0.999), 'eps': 1e-08, 'weight_decay': 0, 'amsgrad': False, 'maximize': False, 'foreach': None, 'capturable': False, 'differentiable': False, 'fused': False, 'params': [0, 1, 2, 3, 4, 5, 6, 7, 8, 9, 10, 11, 12, 13, 14, 15, 16, 17]}]\n"
     ]
    }
   ],
   "source": [
    "print('Net\\'s state_dict:')\n",
    "total_param = 0\n",
    "for param_tensor in model.state_dict():\n",
    "    print(param_tensor, '\\t', model.state_dict()[param_tensor].size())\n",
    "    total_param += np.prod(model.state_dict()[param_tensor].size())\n",
    "print('Net\\'s total params:', total_param)\n",
    "#--------------------------------------------------\n",
    "print('Optimizer\\'s state_dict:')\n",
    "for var_name in optimizer.state_dict():\n",
    "    print(var_name, '\\t', optimizer.state_dict()[var_name])"
   ]
  },
  {
   "cell_type": "code",
   "execution_count": 209,
   "metadata": {},
   "outputs": [],
   "source": [
    "for snapshot in train_dataset:\n",
    "    static_edge_index = snapshot.edge_index.to(DEVICE)\n",
    "    break"
   ]
  },
  {
   "cell_type": "code",
   "execution_count": 253,
   "metadata": {},
   "outputs": [
    {
     "ename": "RuntimeError",
     "evalue": "index 3 is out of bounds for dimension 0 with size 3",
     "output_type": "error",
     "traceback": [
      "\u001b[0;31m---------------------------------------------------------------------------\u001b[0m",
      "\u001b[0;31mRuntimeError\u001b[0m                              Traceback (most recent call last)",
      "\u001b[1;32m/Users/hasti/University/Final Project/My Code/Model/dataloader.ipynb Cell 36\u001b[0m in \u001b[0;36m<cell line: 3>\u001b[0;34m()\u001b[0m\n\u001b[1;32m      <a href='vscode-notebook-cell:/Users/hasti/University/Final%20Project/My%20Code/Model/dataloader.ipynb#X31sZmlsZQ%3D%3D?line=4'>5</a>\u001b[0m loss_list \u001b[39m=\u001b[39m []\n\u001b[1;32m      <a href='vscode-notebook-cell:/Users/hasti/University/Final%20Project/My%20Code/Model/dataloader.ipynb#X31sZmlsZQ%3D%3D?line=5'>6</a>\u001b[0m \u001b[39mfor\u001b[39;00m encoder_inputs, labels \u001b[39min\u001b[39;00m train_loader:\n\u001b[1;32m      <a href='vscode-notebook-cell:/Users/hasti/University/Final%20Project/My%20Code/Model/dataloader.ipynb#X31sZmlsZQ%3D%3D?line=6'>7</a>\u001b[0m     \u001b[39m# print(encoder_inputs.shape)\u001b[39;00m\n\u001b[1;32m      <a href='vscode-notebook-cell:/Users/hasti/University/Final%20Project/My%20Code/Model/dataloader.ipynb#X31sZmlsZQ%3D%3D?line=7'>8</a>\u001b[0m     \u001b[39m# print(static_edge_index.shape)\u001b[39;00m\n\u001b[0;32m----> <a href='vscode-notebook-cell:/Users/hasti/University/Final%20Project/My%20Code/Model/dataloader.ipynb#X31sZmlsZQ%3D%3D?line=8'>9</a>\u001b[0m     y_hat \u001b[39m=\u001b[39m model(encoder_inputs, static_edge_index)         \u001b[39m# Get model predictions\u001b[39;00m\n\u001b[1;32m     <a href='vscode-notebook-cell:/Users/hasti/University/Final%20Project/My%20Code/Model/dataloader.ipynb#X31sZmlsZQ%3D%3D?line=9'>10</a>\u001b[0m     \u001b[39m# print(y_hat.shape)\u001b[39;00m\n\u001b[1;32m     <a href='vscode-notebook-cell:/Users/hasti/University/Final%20Project/My%20Code/Model/dataloader.ipynb#X31sZmlsZQ%3D%3D?line=10'>11</a>\u001b[0m     \u001b[39m# print(labels.shape)\u001b[39;00m\n\u001b[1;32m     <a href='vscode-notebook-cell:/Users/hasti/University/Final%20Project/My%20Code/Model/dataloader.ipynb#X31sZmlsZQ%3D%3D?line=11'>12</a>\u001b[0m     loss \u001b[39m=\u001b[39m loss_fn(y_hat, labels\u001b[39m.\u001b[39mreshape(batch_size, node_num, \u001b[39m1\u001b[39m)) \u001b[39m# Mean squared error #loss = torch.mean((y_hat-labels)**2)  sqrt to change it to rmse\u001b[39;00m\n",
      "File \u001b[0;32m/Library/Frameworks/Python.framework/Versions/3.8/lib/python3.8/site-packages/torch/nn/modules/module.py:1194\u001b[0m, in \u001b[0;36mModule._call_impl\u001b[0;34m(self, *input, **kwargs)\u001b[0m\n\u001b[1;32m   1190\u001b[0m \u001b[39m# If we don't have any hooks, we want to skip the rest of the logic in\u001b[39;00m\n\u001b[1;32m   1191\u001b[0m \u001b[39m# this function, and just call forward.\u001b[39;00m\n\u001b[1;32m   1192\u001b[0m \u001b[39mif\u001b[39;00m \u001b[39mnot\u001b[39;00m (\u001b[39mself\u001b[39m\u001b[39m.\u001b[39m_backward_hooks \u001b[39mor\u001b[39;00m \u001b[39mself\u001b[39m\u001b[39m.\u001b[39m_forward_hooks \u001b[39mor\u001b[39;00m \u001b[39mself\u001b[39m\u001b[39m.\u001b[39m_forward_pre_hooks \u001b[39mor\u001b[39;00m _global_backward_hooks\n\u001b[1;32m   1193\u001b[0m         \u001b[39mor\u001b[39;00m _global_forward_hooks \u001b[39mor\u001b[39;00m _global_forward_pre_hooks):\n\u001b[0;32m-> 1194\u001b[0m     \u001b[39mreturn\u001b[39;00m forward_call(\u001b[39m*\u001b[39;49m\u001b[39minput\u001b[39;49m, \u001b[39m*\u001b[39;49m\u001b[39m*\u001b[39;49mkwargs)\n\u001b[1;32m   1195\u001b[0m \u001b[39m# Do not call functions when jit is used\u001b[39;00m\n\u001b[1;32m   1196\u001b[0m full_backward_hooks, non_full_backward_hooks \u001b[39m=\u001b[39m [], []\n",
      "File \u001b[0;32m/Library/Frameworks/Python.framework/Versions/3.8/lib/python3.8/site-packages/torch_geometric_temporal/nn/recurrent/gconv_gru.py:166\u001b[0m, in \u001b[0;36mGConvGRU.forward\u001b[0;34m(self, X, edge_index, edge_weight, H, lambda_max)\u001b[0m\n\u001b[1;32m    149\u001b[0m \u001b[39m\"\"\"\u001b[39;00m\n\u001b[1;32m    150\u001b[0m \u001b[39mMaking a forward pass. If edge weights are not present the forward pass\u001b[39;00m\n\u001b[1;32m    151\u001b[0m \u001b[39mdefaults to an unweighted graph. If the hidden state matrix is not present\u001b[39;00m\n\u001b[0;32m   (...)\u001b[0m\n\u001b[1;32m    163\u001b[0m \u001b[39m    * **H** *(PyTorch Float Tensor)* - Hidden state matrix for all nodes.\u001b[39;00m\n\u001b[1;32m    164\u001b[0m \u001b[39m\"\"\"\u001b[39;00m\n\u001b[1;32m    165\u001b[0m H \u001b[39m=\u001b[39m \u001b[39mself\u001b[39m\u001b[39m.\u001b[39m_set_hidden_state(X, H)\n\u001b[0;32m--> 166\u001b[0m Z \u001b[39m=\u001b[39m \u001b[39mself\u001b[39;49m\u001b[39m.\u001b[39;49m_calculate_update_gate(X, edge_index, edge_weight, H, lambda_max)\n\u001b[1;32m    167\u001b[0m R \u001b[39m=\u001b[39m \u001b[39mself\u001b[39m\u001b[39m.\u001b[39m_calculate_reset_gate(X, edge_index, edge_weight, H, lambda_max)\n\u001b[1;32m    168\u001b[0m H_tilde \u001b[39m=\u001b[39m \u001b[39mself\u001b[39m\u001b[39m.\u001b[39m_calculate_candidate_state(X, edge_index, edge_weight, H, R, lambda_max)\n",
      "File \u001b[0;32m/Library/Frameworks/Python.framework/Versions/3.8/lib/python3.8/site-packages/torch_geometric_temporal/nn/recurrent/gconv_gru.py:120\u001b[0m, in \u001b[0;36mGConvGRU._calculate_update_gate\u001b[0;34m(self, X, edge_index, edge_weight, H, lambda_max)\u001b[0m\n\u001b[1;32m    119\u001b[0m \u001b[39mdef\u001b[39;00m \u001b[39m_calculate_update_gate\u001b[39m(\u001b[39mself\u001b[39m, X, edge_index, edge_weight, H, lambda_max):\n\u001b[0;32m--> 120\u001b[0m     Z \u001b[39m=\u001b[39m \u001b[39mself\u001b[39;49m\u001b[39m.\u001b[39;49mconv_x_z(X, edge_index, edge_weight, lambda_max\u001b[39m=\u001b[39;49mlambda_max)\n\u001b[1;32m    121\u001b[0m     Z \u001b[39m=\u001b[39m Z \u001b[39m+\u001b[39m \u001b[39mself\u001b[39m\u001b[39m.\u001b[39mconv_h_z(H, edge_index, edge_weight, lambda_max\u001b[39m=\u001b[39mlambda_max)\n\u001b[1;32m    122\u001b[0m     Z \u001b[39m=\u001b[39m torch\u001b[39m.\u001b[39msigmoid(Z)\n",
      "File \u001b[0;32m/Library/Frameworks/Python.framework/Versions/3.8/lib/python3.8/site-packages/torch/nn/modules/module.py:1194\u001b[0m, in \u001b[0;36mModule._call_impl\u001b[0;34m(self, *input, **kwargs)\u001b[0m\n\u001b[1;32m   1190\u001b[0m \u001b[39m# If we don't have any hooks, we want to skip the rest of the logic in\u001b[39;00m\n\u001b[1;32m   1191\u001b[0m \u001b[39m# this function, and just call forward.\u001b[39;00m\n\u001b[1;32m   1192\u001b[0m \u001b[39mif\u001b[39;00m \u001b[39mnot\u001b[39;00m (\u001b[39mself\u001b[39m\u001b[39m.\u001b[39m_backward_hooks \u001b[39mor\u001b[39;00m \u001b[39mself\u001b[39m\u001b[39m.\u001b[39m_forward_hooks \u001b[39mor\u001b[39;00m \u001b[39mself\u001b[39m\u001b[39m.\u001b[39m_forward_pre_hooks \u001b[39mor\u001b[39;00m _global_backward_hooks\n\u001b[1;32m   1193\u001b[0m         \u001b[39mor\u001b[39;00m _global_forward_hooks \u001b[39mor\u001b[39;00m _global_forward_pre_hooks):\n\u001b[0;32m-> 1194\u001b[0m     \u001b[39mreturn\u001b[39;00m forward_call(\u001b[39m*\u001b[39;49m\u001b[39minput\u001b[39;49m, \u001b[39m*\u001b[39;49m\u001b[39m*\u001b[39;49mkwargs)\n\u001b[1;32m   1195\u001b[0m \u001b[39m# Do not call functions when jit is used\u001b[39;00m\n\u001b[1;32m   1196\u001b[0m full_backward_hooks, non_full_backward_hooks \u001b[39m=\u001b[39m [], []\n",
      "File \u001b[0;32m/Library/Frameworks/Python.framework/Versions/3.8/lib/python3.8/site-packages/torch_geometric/nn/conv/cheb_conv.py:158\u001b[0m, in \u001b[0;36mChebConv.forward\u001b[0;34m(self, x, edge_index, edge_weight, batch, lambda_max)\u001b[0m\n\u001b[1;32m    149\u001b[0m \u001b[39mdef\u001b[39;00m \u001b[39mforward\u001b[39m(\n\u001b[1;32m    150\u001b[0m     \u001b[39mself\u001b[39m,\n\u001b[1;32m    151\u001b[0m     x: Tensor,\n\u001b[0;32m   (...)\u001b[0m\n\u001b[1;32m    155\u001b[0m     lambda_max: OptTensor \u001b[39m=\u001b[39m \u001b[39mNone\u001b[39;00m,\n\u001b[1;32m    156\u001b[0m ) \u001b[39m-\u001b[39m\u001b[39m>\u001b[39m Tensor:\n\u001b[1;32m    157\u001b[0m     \u001b[39m\"\"\"\"\"\"\u001b[39;00m\n\u001b[0;32m--> 158\u001b[0m     edge_index, norm \u001b[39m=\u001b[39m \u001b[39mself\u001b[39;49m\u001b[39m.\u001b[39;49m__norm__(\n\u001b[1;32m    159\u001b[0m         edge_index,\n\u001b[1;32m    160\u001b[0m         x\u001b[39m.\u001b[39;49msize(\u001b[39mself\u001b[39;49m\u001b[39m.\u001b[39;49mnode_dim),\n\u001b[1;32m    161\u001b[0m         edge_weight,\n\u001b[1;32m    162\u001b[0m         \u001b[39mself\u001b[39;49m\u001b[39m.\u001b[39;49mnormalization,\n\u001b[1;32m    163\u001b[0m         lambda_max,\n\u001b[1;32m    164\u001b[0m         dtype\u001b[39m=\u001b[39;49mx\u001b[39m.\u001b[39;49mdtype,\n\u001b[1;32m    165\u001b[0m         batch\u001b[39m=\u001b[39;49mbatch,\n\u001b[1;32m    166\u001b[0m     )\n\u001b[1;32m    168\u001b[0m     Tx_0 \u001b[39m=\u001b[39m x\n\u001b[1;32m    169\u001b[0m     Tx_1 \u001b[39m=\u001b[39m x  \u001b[39m# Dummy.\u001b[39;00m\n",
      "File \u001b[0;32m/Library/Frameworks/Python.framework/Versions/3.8/lib/python3.8/site-packages/torch_geometric/nn/conv/cheb_conv.py:124\u001b[0m, in \u001b[0;36mChebConv.__norm__\u001b[0;34m(self, edge_index, num_nodes, edge_weight, normalization, lambda_max, dtype, batch)\u001b[0m\n\u001b[1;32m    112\u001b[0m \u001b[39mdef\u001b[39;00m \u001b[39m__norm__\u001b[39m(\n\u001b[1;32m    113\u001b[0m     \u001b[39mself\u001b[39m,\n\u001b[1;32m    114\u001b[0m     edge_index: Tensor,\n\u001b[0;32m   (...)\u001b[0m\n\u001b[1;32m    120\u001b[0m     batch: OptTensor \u001b[39m=\u001b[39m \u001b[39mNone\u001b[39;00m,\n\u001b[1;32m    121\u001b[0m ):\n\u001b[1;32m    122\u001b[0m     edge_index, edge_weight \u001b[39m=\u001b[39m remove_self_loops(edge_index, edge_weight)\n\u001b[0;32m--> 124\u001b[0m     edge_index, edge_weight \u001b[39m=\u001b[39m get_laplacian(edge_index, edge_weight,\n\u001b[1;32m    125\u001b[0m                                             normalization, dtype,\n\u001b[1;32m    126\u001b[0m                                             num_nodes)\n\u001b[1;32m    127\u001b[0m     \u001b[39massert\u001b[39;00m edge_weight \u001b[39mis\u001b[39;00m \u001b[39mnot\u001b[39;00m \u001b[39mNone\u001b[39;00m\n\u001b[1;32m    129\u001b[0m     \u001b[39mif\u001b[39;00m lambda_max \u001b[39mis\u001b[39;00m \u001b[39mNone\u001b[39;00m:\n",
      "File \u001b[0;32m/Library/Frameworks/Python.framework/Versions/3.8/lib/python3.8/site-packages/torch_geometric/utils/get_laplacian.py:73\u001b[0m, in \u001b[0;36mget_laplacian\u001b[0;34m(edge_index, edge_weight, normalization, dtype, num_nodes)\u001b[0m\n\u001b[1;32m     70\u001b[0m num_nodes \u001b[39m=\u001b[39m maybe_num_nodes(edge_index, num_nodes)\n\u001b[1;32m     72\u001b[0m row, col \u001b[39m=\u001b[39m edge_index[\u001b[39m0\u001b[39m], edge_index[\u001b[39m1\u001b[39m]\n\u001b[0;32m---> 73\u001b[0m deg \u001b[39m=\u001b[39m scatter_add(edge_weight, row, dim\u001b[39m=\u001b[39;49m\u001b[39m0\u001b[39;49m, dim_size\u001b[39m=\u001b[39;49mnum_nodes)\n\u001b[1;32m     75\u001b[0m \u001b[39mif\u001b[39;00m normalization \u001b[39mis\u001b[39;00m \u001b[39mNone\u001b[39;00m:\n\u001b[1;32m     76\u001b[0m     \u001b[39m# L = D - A.\u001b[39;00m\n\u001b[1;32m     77\u001b[0m     edge_index, _ \u001b[39m=\u001b[39m add_self_loops(edge_index, num_nodes\u001b[39m=\u001b[39mnum_nodes)\n",
      "File \u001b[0;32m/Library/Frameworks/Python.framework/Versions/3.8/lib/python3.8/site-packages/torch_scatter/scatter.py:29\u001b[0m, in \u001b[0;36mscatter_add\u001b[0;34m(src, index, dim, out, dim_size)\u001b[0m\n\u001b[1;32m     26\u001b[0m \u001b[39mdef\u001b[39;00m \u001b[39mscatter_add\u001b[39m(src: torch\u001b[39m.\u001b[39mTensor, index: torch\u001b[39m.\u001b[39mTensor, dim: \u001b[39mint\u001b[39m \u001b[39m=\u001b[39m \u001b[39m-\u001b[39m\u001b[39m1\u001b[39m,\n\u001b[1;32m     27\u001b[0m                 out: Optional[torch\u001b[39m.\u001b[39mTensor] \u001b[39m=\u001b[39m \u001b[39mNone\u001b[39;00m,\n\u001b[1;32m     28\u001b[0m                 dim_size: Optional[\u001b[39mint\u001b[39m] \u001b[39m=\u001b[39m \u001b[39mNone\u001b[39;00m) \u001b[39m-\u001b[39m\u001b[39m>\u001b[39m torch\u001b[39m.\u001b[39mTensor:\n\u001b[0;32m---> 29\u001b[0m     \u001b[39mreturn\u001b[39;00m scatter_sum(src, index, dim, out, dim_size)\n",
      "File \u001b[0;32m/Library/Frameworks/Python.framework/Versions/3.8/lib/python3.8/site-packages/torch_scatter/scatter.py:21\u001b[0m, in \u001b[0;36mscatter_sum\u001b[0;34m(src, index, dim, out, dim_size)\u001b[0m\n\u001b[1;32m     19\u001b[0m         size[dim] \u001b[39m=\u001b[39m \u001b[39mint\u001b[39m(index\u001b[39m.\u001b[39mmax()) \u001b[39m+\u001b[39m \u001b[39m1\u001b[39m\n\u001b[1;32m     20\u001b[0m     out \u001b[39m=\u001b[39m torch\u001b[39m.\u001b[39mzeros(size, dtype\u001b[39m=\u001b[39msrc\u001b[39m.\u001b[39mdtype, device\u001b[39m=\u001b[39msrc\u001b[39m.\u001b[39mdevice)\n\u001b[0;32m---> 21\u001b[0m     \u001b[39mreturn\u001b[39;00m out\u001b[39m.\u001b[39;49mscatter_add_(dim, index, src)\n\u001b[1;32m     22\u001b[0m \u001b[39melse\u001b[39;00m:\n\u001b[1;32m     23\u001b[0m     \u001b[39mreturn\u001b[39;00m out\u001b[39m.\u001b[39mscatter_add_(dim, index, src)\n",
      "\u001b[0;31mRuntimeError\u001b[0m: index 3 is out of bounds for dimension 0 with size 3"
     ]
    }
   ],
   "source": [
    "model.train()\n",
    "\n",
    "for epoch in range(1):\n",
    "    step = 0\n",
    "    loss_list = []\n",
    "    for encoder_inputs, labels in train_loader:\n",
    "        # print(encoder_inputs.shape)\n",
    "        # print(static_edge_index.shape)\n",
    "        y_hat = model(encoder_inputs, static_edge_index)         # Get model predictions\n",
    "        # print(y_hat.shape)\n",
    "        # print(labels.shape)\n",
    "        loss = loss_fn(y_hat, labels.reshape(batch_size, node_num, 1)) # Mean squared error #loss = torch.mean((y_hat-labels)**2)  sqrt to change it to rmse\n",
    "        loss.backward()\n",
    "        optimizer.step()\n",
    "        optimizer.zero_grad()\n",
    "        step= step+ 1\n",
    "        loss_list.append(loss.item())\n",
    "        if step % 1 == 0 :\n",
    "            print(sum(loss_list)/len(loss_list))\n",
    "\n",
    "    print(\"Epoch {} train RMSE: {:.4f}\".format(epoch, sum(loss_list)/len(loss_list)))"
   ]
  },
  {
   "cell_type": "code",
   "execution_count": 195,
   "metadata": {},
   "outputs": [
    {
     "name": "stdout",
     "output_type": "stream",
     "text": [
      "Test MSE: 2473.5411\n"
     ]
    }
   ],
   "source": [
    "model.eval()\n",
    "step = 0\n",
    "# Store for analysis\n",
    "total_loss = []\n",
    "for encoder_inputs, labels in test_loader:\n",
    "    # Get model predictions\n",
    "    y_hat = model(encoder_inputs, static_edge_index)\n",
    "    # Mean squared error\n",
    "    loss = loss_fn(y_hat, labels.reshape(batch_size, node_num, 1))\n",
    "    total_loss.append(loss.item())\n",
    "    # Store for analysis below\n",
    "    #test_labels.append(labels)\n",
    "    #predictions.append(y_hat)\n",
    "    \n",
    "\n",
    "print(\"Test MSE: {:.4f}\".format(sum(total_loss)/len(total_loss)))"
   ]
  },
  {
   "cell_type": "code",
   "execution_count": 205,
   "metadata": {},
   "outputs": [
    {
     "data": {
      "text/plain": [
       "[<matplotlib.lines.Line2D at 0x7f82d1994a90>]"
      ]
     },
     "execution_count": 205,
     "metadata": {},
     "output_type": "execute_result"
    },
    {
     "data": {
      "image/png": "[encoded data removed]",
      "text/plain": [
       "<Figure size 640x480 with 1 Axes>"
      ]
     },
     "metadata": {},
     "output_type": "display_data"
    }
   ],
   "source": [
    "plt.plot(total_loss)"
   ]
  },
  {
   "cell_type": "code",
   "execution_count": 196,
   "metadata": {},
   "outputs": [
    {
     "name": "stdout",
     "output_type": "stream",
     "text": [
      "Data points:, (2,)\n",
      "Labels shape: (2, 1)\n"
     ]
    }
   ],
   "source": [
    "sensor = 9\n",
    "timestep = 0\n",
    "preds = np.asarray([pred[sensor][timestep].detach().cpu().numpy() for pred in y_hat])\n",
    "labs  = np.asarray([np.array(label[sensor]) for label in labels])\n",
    "print(\"Data points:,\", preds.shape)\n",
    "print(\"Labels shape:\", labs.shape)"
   ]
  },
  {
   "cell_type": "code",
   "execution_count": 204,
   "metadata": {},
   "outputs": [
    {
     "data": {
      "text/plain": [
       "<AxesSubplot:>"
      ]
     },
     "execution_count": 204,
     "metadata": {},
     "output_type": "execute_result"
    },
    {
     "data": {
      "image/png": "[encoded data removed]",
      "text/plain": [
       "<Figure size 2000x500 with 1 Axes>"
      ]
     },
     "metadata": {},
     "output_type": "display_data"
    }
   ],
   "source": [
    "import matplotlib.pyplot as plt\n",
    "import seaborn as sns\n",
    "\n",
    "plt.figure(figsize=(20,5))\n",
    "sns.lineplot(data=preds, label=\"pred\", color='red')\n",
    "sns.lineplot(data=labs, label=\"true\")"
   ]
  }
 ],
 "metadata": {
  "kernelspec": {
   "display_name": "Python 3",
   "language": "python",
   "name": "python3"
  },
  "language_info": {
   "codemirror_mode": {
    "name": "ipython",
    "version": 3
   },
   "file_extension": ".py",
   "mimetype": "text/x-python",
   "name": "python",
   "nbconvert_exporter": "python",
   "pygments_lexer": "ipython3",
   "version": "3.8.6"
  },
  "orig_nbformat": 4
 },
 "nbformat": 4,
 "nbformat_minor": 2
}
