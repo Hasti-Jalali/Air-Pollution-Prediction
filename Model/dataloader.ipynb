{
 "cells": [
  {
   "cell_type": "code",
   "execution_count": 1,
   "metadata": {},
   "outputs": [
    {
     "data": {
      "text/plain": [
       "<torch._C.Generator at 0x7f8205273b70>"
      ]
     },
     "execution_count": 1,
     "metadata": {},
     "output_type": "execute_result"
    }
   ],
   "source": [
    "import torch\n",
    "import torch_geometric_temporal\n",
    "import json\n",
    "import numpy as np\n",
    "from torch_geometric_temporal.signal import StaticGraphTemporalSignal\n",
    "import os\n",
    "import pandas as pd\n",
    "import torch.nn.functional as F\n",
    "import matplotlib.pyplot as plt\n",
    "import seaborn as sns\n",
    "\n",
    "np.random.seed(0)\n",
    "torch.manual_seed(0)"
   ]
  },
  {
   "cell_type": "code",
   "execution_count": 2,
   "metadata": {},
   "outputs": [
    {
     "data": {
      "text/plain": [
       "<bound method NDFrame.describe of       id   Latitude  Longitude\n",
       "0      1  35.702270  51.350940\n",
       "1      5  35.695990  51.493760\n",
       "2      6  35.795870  51.484140\n",
       "3      7  35.762300  51.331680\n",
       "4      8  35.777089  51.368175\n",
       "5      9  35.731030  51.506130\n",
       "6     10  35.630030  51.499020\n",
       "7     11  35.741820  51.506430\n",
       "8     12  35.603630  51.425710\n",
       "9     14  35.727080  51.431200\n",
       "10    15  35.644584  51.397657\n",
       "11    16  35.697480  51.358030\n",
       "12    17  35.672980  51.389730\n",
       "13    18  35.635210  51.362520\n",
       "14    19  35.697773  51.243110\n",
       "15    20  35.678820  51.337530\n",
       "16    21  35.661083  51.466360\n",
       "17    22  35.670050  51.297350\n",
       "18    41  35.717510  51.385909\n",
       "19    45  35.778232  51.428623\n",
       "20    49  35.723398  51.243640\n",
       "21  1000   0.000000   0.000000>"
      ]
     },
     "execution_count": 2,
     "metadata": {},
     "output_type": "execute_result"
    }
   ],
   "source": [
    "directory = 'Dataset/'\n",
    "\n",
    "\n",
    "# get station ids with their latitude and longitude to calculate their distances\n",
    "# opening excel file\n",
    "filename = 'station_id.xlsx'\n",
    "stations = pd.read_excel(os.path.join(directory, filename))\n",
    "stations.describe"
   ]
  },
  {
   "cell_type": "code",
   "execution_count": 3,
   "metadata": {},
   "outputs": [],
   "source": [
    "import haversine as hs\n",
    "\n",
    "distances = dict()\n",
    "\n",
    "id_map = dict()\n",
    "\n",
    "for i in range(len(stations)):\n",
    "    id_map[i] = stations.iloc[i, 0]\n",
    "    for j in range(i+1, len(stations)):\n",
    "        id1 = i\n",
    "        id2 = j\n",
    "        lat1 = stations.iloc[i, 1]\n",
    "        lon1 = stations.iloc[i, 2]\n",
    "        lat2 = stations.iloc[j, 1]\n",
    "        lon2 = stations.iloc[j, 2]\n",
    "        distances[(id1, id2)] = hs.haversine((lat1, lon1), (lat2, lon2))\n",
    "        "
   ]
  },
  {
   "cell_type": "code",
   "execution_count": 4,
   "metadata": {},
   "outputs": [
    {
     "name": "stdout",
     "output_type": "stream",
     "text": [
      "Minimum distance between two stations:  0.8328132420953865\n",
      "Maximum distance between two stations:  6634.11423138168\n",
      "Average distance between two stations:  612.9518111656231\n"
     ]
    }
   ],
   "source": [
    "# min, max, average distances\n",
    "min_dist = min(distances.values())\n",
    "max_dist = max(distances.values())\n",
    "avg_dist = sum(distances.values()) / len(distances.values())\n",
    "\n",
    "print(\"Minimum distance between two stations: \", min_dist)\n",
    "print(\"Maximum distance between two stations: \", max_dist)\n",
    "print(\"Average distance between two stations: \", avg_dist)\n"
   ]
  },
  {
   "cell_type": "code",
   "execution_count": 5,
   "metadata": {},
   "outputs": [
    {
     "name": "stdout",
     "output_type": "stream",
     "text": [
      "58\n"
     ]
    }
   ],
   "source": [
    "threshold = 8\n",
    "\n",
    "edges = [[], []]\n",
    "edge_weight = []\n",
    "\n",
    "couter = 0\n",
    "for (id1, id2), value in distances.items():\n",
    "    if value < threshold:\n",
    "        edges[0].append(id1)\n",
    "        edges[1].append(id2)\n",
    "\n",
    "        edge_weight.append(1/value)\n",
    "        # print(f'({id1}, {id2}):', value)\n",
    "        couter += 1\n",
    "print(couter)"
   ]
  },
  {
   "cell_type": "code",
   "execution_count": 6,
   "metadata": {},
   "outputs": [
    {
     "name": "stdout",
     "output_type": "stream",
     "text": [
      "torch.Size([2, 58])\n",
      "torch.Size([58])\n"
     ]
    }
   ],
   "source": [
    "# edges discribe\n",
    "\n",
    "edges = torch.tensor(edges)\n",
    "edge_weight = torch.tensor(edge_weight)\n",
    "\n",
    "print(edges.shape)\n",
    "print(edge_weight.shape)"
   ]
  },
  {
   "cell_type": "code",
   "execution_count": 7,
   "metadata": {},
   "outputs": [],
   "source": [
    "# define the number of features\n",
    "feature_num = 1\n",
    "\n",
    "# define the number of time steps\n",
    "time_step = 5"
   ]
  },
  {
   "cell_type": "code",
   "execution_count": 8,
   "metadata": {},
   "outputs": [],
   "source": [
    "filename = 'AQIData_weather_filled_index.xlsx'\n",
    "all_data = pd.read_excel(os.path.join(directory, filename))"
   ]
  },
  {
   "cell_type": "code",
   "execution_count": 9,
   "metadata": {},
   "outputs": [],
   "source": [
    "# iterate over column of all_data with PM2_5_{station_id} format\n",
    "# and create a dictionary with key as station_id and value as the column\n",
    "\n",
    "station_data = []\n",
    "used_id = []\n",
    "for col in all_data:\n",
    "    if col.startswith('PM2_5'):\n",
    "        station_id = int(col.split('_S')[1])\n",
    "        if station_id in stations['id'].values:\n",
    "            used_id.append(station_id)\n",
    "            x = all_data[col].to_numpy()\n",
    "            station_data.append(x)\n",
    "\n",
    "# convert station_data to numpy array\n",
    "station_data = np.array(station_data)\n",
    "# len(used_id)"
   ]
  },
  {
   "cell_type": "code",
   "execution_count": 10,
   "metadata": {},
   "outputs": [
    {
     "data": {
      "text/plain": [
       "0"
      ]
     },
     "execution_count": 10,
     "metadata": {},
     "output_type": "execute_result"
    }
   ],
   "source": [
    "# check nan values\n",
    "np.isnan(station_data).sum()"
   ]
  },
  {
   "cell_type": "code",
   "execution_count": 11,
   "metadata": {},
   "outputs": [
    {
     "data": {
      "text/plain": [
       "torch.Size([21, 2543])"
      ]
     },
     "execution_count": 11,
     "metadata": {},
     "output_type": "execute_result"
    }
   ],
   "source": [
    "station_data = torch.tensor(station_data)\n",
    "\n",
    "station_data.shape"
   ]
  },
  {
   "cell_type": "code",
   "execution_count": 12,
   "metadata": {},
   "outputs": [
    {
     "data": {
      "text/plain": [
       "21"
      ]
     },
     "execution_count": 12,
     "metadata": {},
     "output_type": "execute_result"
    }
   ],
   "source": [
    "node_num, _ = station_data.shape\n",
    "\n",
    "node_num"
   ]
  },
  {
   "cell_type": "code",
   "execution_count": 13,
   "metadata": {},
   "outputs": [
    {
     "name": "stdout",
     "output_type": "stream",
     "text": [
      "PM2.5 tensor(87.1957, dtype=torch.float64) tensor(500., dtype=torch.float64) tensor(-210.8313, dtype=torch.float64)\n"
     ]
    }
   ],
   "source": [
    "# mean, max, average of features\n",
    "\n",
    "print('PM2.5', station_data[:, :].mean(), station_data[:, :].max(), station_data[:, :].min())"
   ]
  },
  {
   "cell_type": "code",
   "execution_count": 14,
   "metadata": {},
   "outputs": [],
   "source": [
    "# normalize data based on z score in torch geometric temporal\n",
    "import torch\n",
    "import torch.nn.functional as F\n",
    "\n",
    "# define the normalization\n",
    "normalized_dataset = np.array(F.normalize(station_data, dim=1))"
   ]
  },
  {
   "cell_type": "code",
   "execution_count": 15,
   "metadata": {},
   "outputs": [],
   "source": [
    "dataset = np.array(station_data)"
   ]
  },
  {
   "cell_type": "code",
   "execution_count": 16,
   "metadata": {},
   "outputs": [
    {
     "name": "stdout",
     "output_type": "stream",
     "text": [
      "98.48333333333333\n",
      "0.019088528638411234\n"
     ]
    }
   ],
   "source": [
    "print(dataset[0][0])\n",
    "print(normalized_dataset[0][0])"
   ]
  },
  {
   "cell_type": "code",
   "execution_count": 17,
   "metadata": {},
   "outputs": [
    {
     "name": "stdout",
     "output_type": "stream",
     "text": [
      "(21, 2543)\n",
      "(21, 2543)\n"
     ]
    }
   ],
   "source": [
    "print(dataset.shape)\n",
    "print(normalized_dataset.shape)"
   ]
  },
  {
   "cell_type": "code",
   "execution_count": 18,
   "metadata": {},
   "outputs": [
    {
     "name": "stdout",
     "output_type": "stream",
     "text": [
      "(21, 2543)\n",
      "torch.Size([2, 58])\n",
      "torch.Size([58])\n"
     ]
    }
   ],
   "source": [
    "# print shapes\n",
    "print(normalized_dataset.shape)\n",
    "print(edges.shape)\n",
    "print(edge_weight.shape)"
   ]
  },
  {
   "cell_type": "code",
   "execution_count": 19,
   "metadata": {},
   "outputs": [],
   "source": [
    "time_step = 4\n",
    "\n",
    "# targets are in dataset after timestep\n",
    "features_pm2_5 = []\n",
    "n_features_pm2_5 = [] # normalized\n",
    "\n",
    "target_pm2_5 = []\n",
    "n_target_pm2_5 = [] # normalized\n",
    "\n",
    "for i in range(dataset.shape[1] - time_step):\n",
    "    features_pm2_5.append(np.array(dataset[:, i:i + time_step]))\n",
    "    n_features_pm2_5.append(np.array(normalized_dataset[:, i:i + time_step]))\n",
    "\n",
    "    target_pm2_5.append(np.array(dataset[:, i + time_step]))\n",
    "    n_target_pm2_5.append(np.array(normalized_dataset[:, i + time_step]))"
   ]
  },
  {
   "cell_type": "code",
   "execution_count": 20,
   "metadata": {},
   "outputs": [],
   "source": [
    "features_pm2_5 = np.array(features_pm2_5)\n",
    "n_features_pm2_5 = np.array(n_features_pm2_5)\n",
    "\n",
    "target_pm2_5 = np.array(target_pm2_5)\n",
    "n_target_pm2_5 = np.array(n_target_pm2_5)"
   ]
  },
  {
   "cell_type": "code",
   "execution_count": 21,
   "metadata": {},
   "outputs": [
    {
     "name": "stdout",
     "output_type": "stream",
     "text": [
      "feature shape: (2539, 21, 4)\n",
      "target shape: (2539, 21)\n"
     ]
    }
   ],
   "source": [
    "print('feature shape:', features_pm2_5.shape)\n",
    "print('target shape:', target_pm2_5.shape)"
   ]
  },
  {
   "cell_type": "code",
   "execution_count": 22,
   "metadata": {},
   "outputs": [
    {
     "name": "stdout",
     "output_type": "stream",
     "text": [
      "before normalize: 500.0 -210.8313208995429 87.16893771476327\n",
      "after normalize: 0.12784367042059902 -0.02294477657580848 0.018733973406288087\n"
     ]
    }
   ],
   "source": [
    "# max, min, average of CO targets\n",
    "\n",
    "print('before normalize:', target_pm2_5.max(), target_pm2_5.min(), target_pm2_5.mean())\n",
    "print('after normalize:', n_target_pm2_5.max(), n_target_pm2_5.min(), n_target_pm2_5.mean())"
   ]
  },
  {
   "cell_type": "code",
   "execution_count": 23,
   "metadata": {},
   "outputs": [
    {
     "data": {
      "text/plain": [
       "<torch_geometric_temporal.signal.static_graph_temporal_signal.StaticGraphTemporalSignal at 0x7f81ef625700>"
      ]
     },
     "execution_count": 23,
     "metadata": {},
     "output_type": "execute_result"
    }
   ],
   "source": [
    "spatio = StaticGraphTemporalSignal(\n",
    "    edges,\n",
    "    edge_weight,\n",
    "    n_features_pm2_5,\n",
    "    n_target_pm2_5,\n",
    ")\n",
    "\n",
    "spatio"
   ]
  },
  {
   "cell_type": "code",
   "execution_count": 24,
   "metadata": {},
   "outputs": [],
   "source": [
    "# batch iterator\n",
    "from torch_geometric_temporal import StaticGraphTemporalSignalBatch\n",
    "\n",
    "batch_size = 32\n",
    "# spatio_loader = StaticGraphTemporalSignalBatch(edges, edge_weight, features_pm2_5, target_pm2_5, batch_size)\n",
    "spatio_loader = StaticGraphTemporalSignalBatch(edges, edge_weight, n_features_pm2_5, n_target_pm2_5, batch_size )\n"
   ]
  },
  {
   "cell_type": "code",
   "execution_count": 25,
   "metadata": {},
   "outputs": [
    {
     "data": {
      "text/plain": [
       "<torch_geometric_temporal.signal.static_graph_temporal_signal_batch.StaticGraphTemporalSignalBatch at 0x7f81ef625e80>"
      ]
     },
     "execution_count": 25,
     "metadata": {},
     "output_type": "execute_result"
    }
   ],
   "source": [
    "spatio_loader"
   ]
  },
  {
   "cell_type": "code",
   "execution_count": 26,
   "metadata": {},
   "outputs": [],
   "source": [
    "from torch_geometric_temporal.signal import temporal_signal_split\n",
    "\n",
    "train_dataset, test_dataset = temporal_signal_split(spatio_loader, train_ratio=0.7)"
   ]
  },
  {
   "cell_type": "code",
   "execution_count": 27,
   "metadata": {},
   "outputs": [
    {
     "name": "stdout",
     "output_type": "stream",
     "text": [
      "DataBatch(x=[21, 4], edge_index=[2, 58], edge_attr=[58], y=[21], batch=[32])\n"
     ]
    }
   ],
   "source": [
    "for i in train_dataset:\n",
    "    print(i)\n",
    "    break"
   ]
  },
  {
   "cell_type": "code",
   "execution_count": 28,
   "metadata": {},
   "outputs": [],
   "source": [
    "import torch\n",
    "import torch.nn.functional as F\n",
    "from torch_geometric_temporal.nn.recurrent import DCRNN\n",
    "from torch_geometric_temporal import GConvGRU\n",
    "\n",
    "class RecurrentGCN(torch.nn.Module):\n",
    "    def __init__(self, time_step):\n",
    "        super(RecurrentGCN, self).__init__()\n",
    "        self.recurrent = GConvGRU(time_step, 32, 8)\n",
    "        self.linear = torch.nn.Linear(32, 1)\n",
    "\n",
    "    def forward(self, x, edge_index, edge_weight):\n",
    "        # print(x.shape)\n",
    "        h = self.recurrent(x, edge_index, edge_weight)\n",
    "        h = F.relu(h)\n",
    "        h = self.linear(h)\n",
    "        return h"
   ]
  },
  {
   "cell_type": "code",
   "execution_count": 29,
   "metadata": {},
   "outputs": [],
   "source": [
    "# from torch_geometric.nn import GCNConv, TransformerConv\n",
    "\n",
    "# feature_num = 1\n",
    "\n",
    "# # Define your model architecture:\n",
    "# class GCNTransformer(torch.nn.Module):\n",
    "#     weight =[]\n",
    "#     def __init__(self, time_step, feature_num):\n",
    "#         super(GCNTransformer, self).__init__()\n",
    "#         self.gcn1 = GCNConv(feature_num * time_step, 6 * time_step)\n",
    "#         self.gcn2 = GCNConv(6 * time_step, 6 * time_step)\n",
    "#         # self.gcn3 = GCNConv(12 * time_step, 6 * time_step)\n",
    "#         self.transformer1 = TransformerConv(6 * time_step, 1, heads= 3 * time_step, dropout=0.3)\n",
    "#         self.transformer2 = TransformerConv(3 * time_step, 1, heads= 1, dropout=0.3)\n",
    "#         # self.transformer3 = TransformerConv(3, 1, heads= 1, dropout=0.3)\n",
    "\n",
    "#     def forward(self, x, edge_index, edge_weight):\n",
    " \n",
    "#         x = self.gcn1(x, edge_index, edge_weight)\n",
    "#         x = F.relu(x)\n",
    "#         # x = x.view(-1, x.size(-1))\n",
    "\n",
    "#         x = self.gcn2(x, edge_index, edge_weight)\n",
    "#         # # x = self.gcn3(x, edge_index)\n",
    "#         x = F.relu(x)\n",
    "\n",
    "#         # x = self.gcn3(x, edge_index)\n",
    "#         # x = F.relu(x)\n",
    "\n",
    "#         x = self.transformer1(x, edge_index)\n",
    "#         x = F.relu(x)\n",
    "#         # combine res1 and res2, with size\n",
    "#         # size: 2*feature and 2*feature \n",
    "#         # x = torch.cat((res1, res2), 1)\n",
    "\n",
    "#         x = self.transformer2(x, edge_index)\n",
    "#         # x = F.relu(x)\n",
    "\n",
    "#         # x = self.transformer3(x, edge_index)\n",
    "\n",
    "#         return x\n",
    "\n",
    "    \n",
    "# # Instantiate your model:\n",
    "# # model = MyModel(gcn1, gcn2, gcn3, transformer1, transformer2)\n",
    "\n"
   ]
  },
  {
   "cell_type": "code",
   "execution_count": 30,
   "metadata": {},
   "outputs": [],
   "source": [
    "# from torch_geometric_temporal import GConvGRU\n",
    "# model = GConvGRU(3, 1, 5)"
   ]
  },
  {
   "cell_type": "code",
   "execution_count": 31,
   "metadata": {},
   "outputs": [],
   "source": [
    "# from tqdm import tqdm\n",
    "\n",
    "# model = RecurrentGCN(node_features = time_step)\n",
    "\n",
    "\n",
    "# optimizer = torch.optim.Adam(model.parameters(), lr=0.01)\n",
    "\n",
    "# model.train()\n",
    "# losses = []\n",
    "# for epoch in tqdm(range(150)):\n",
    "#     cost = 0\n",
    "#     for time, snapshot in enumerate(train_dataset):\n",
    "#         y_hat = model(snapshot.x, snapshot.edge_index, snapshot.edge_attr)\n",
    "#         cost = cost + torch.mean((y_hat-snapshot.y)**2)\n",
    "#     cost = cost / (time+1)\n",
    "#     losses.append(cost.detach().numpy())\n",
    "#     cost.backward()\n",
    "#     optimizer.step()\n",
    "#     optimizer.zero_grad()"
   ]
  },
  {
   "cell_type": "code",
   "execution_count": 32,
   "metadata": {},
   "outputs": [],
   "source": [
    "# model.eval()\n",
    "# loss_test = []\n",
    "# cost = 0\n",
    "# for time, snapshot in enumerate(test_dataset):\n",
    "#     y_hat = model(snapshot.x, snapshot.edge_index, snapshot.edge_attr)\n",
    "#     c = torch.mean((y_hat-snapshot.y)**2)\n",
    "#     loss_test.append(c.detach().numpy())\n",
    "#     cost = cost + c\n",
    "# cost = cost / (time+1)\n",
    "# cost = cost.item()\n",
    "# print(\"MSE: {:.4f}\".format(cost))"
   ]
  },
  {
   "cell_type": "code",
   "execution_count": 69,
   "metadata": {},
   "outputs": [
    {
     "name": "stderr",
     "output_type": "stream",
     "text": [
      "  0%|          | 0/100 [00:00<?, ?it/s]/var/folders/h8/mhwh4fjn0qj405sjdd9_5ffw0000gn/T/ipykernel_12176/328521807.py:27: UserWarning: Using a target size (torch.Size([21])) that is different to the input size (torch.Size([21, 1])). This will likely lead to incorrect results due to broadcasting. Please ensure they have the same size.\n",
      "  loss = F.mse_loss(out, batch.y)\n",
      "100%|██████████| 100/100 [20:03<00:00, 12.03s/it]\n"
     ]
    }
   ],
   "source": [
    "# train over train_datset batches\n",
    "from torch.optim import Adam\n",
    "from tqdm import tqdm\n",
    "\n",
    "model = RecurrentGCN(time_step)\n",
    "# model = GCNTransformer(time_step, feature_num)\n",
    "\n",
    "optimizer = Adam(model.parameters(), lr=0.0005)\n",
    "model.train()\n",
    "\n",
    "epoch_num = 150\n",
    "\n",
    "losses = [[] for i in range(epoch_num)]\n",
    "\n",
    "y_pred = [[] for i in range(epoch_num)]\n",
    "\n",
    "for epoch in tqdm(range(epoch_num)):    \n",
    "    for i, batch in enumerate(train_dataset):\n",
    "        \n",
    "        # print(batch.x)\n",
    "        # print(batch.edge_index)\n",
    "        # print(batch.edge_attr)\n",
    "\n",
    "        out = model(batch.x, batch.edge_index, batch.edge_attr)\n",
    "\n",
    "        y_pred[epoch].append(out)\n",
    "        loss = F.mse_loss(out, batch.y)\n",
    "\n",
    "        losses[epoch].append(loss.item())\n",
    "        loss.backward()\n",
    "        \n",
    "        optimizer.step()\n",
    "        optimizer.zero_grad()\n",
    "        # if (i+1) % 400 == 0:\n",
    "        #     print(f'Epoch [{epoch+1}/{epoch_num}], Step [{i+1}], Loss: {loss.item()}')\n",
    "    \n",
    "    # print(loss)"
   ]
  },
  {
   "cell_type": "code",
   "execution_count": 70,
   "metadata": {},
   "outputs": [
    {
     "name": "stdout",
     "output_type": "stream",
     "text": [
      "counter = 0\n"
     ]
    },
    {
     "data": {
      "text/plain": [
       "(100, 1777)"
      ]
     },
     "execution_count": 70,
     "metadata": {},
     "output_type": "execute_result"
    }
   ],
   "source": [
    "losses = np.array(losses)\n",
    "\n",
    "counter = 0\n",
    "for i in range(losses.shape[0]):\n",
    "    for j in range(losses.shape[1]):\n",
    "        if losses[i][j] > 1:\n",
    "            # print(f'losses[{i}][{j}] =', losses[i][j])\n",
    "            counter += 1\n",
    "\n",
    "print('counter =', counter)\n",
    "losses.shape"
   ]
  },
  {
   "cell_type": "code",
   "execution_count": 71,
   "metadata": {},
   "outputs": [
    {
     "data": {
      "text/plain": [
       "[<matplotlib.lines.Line2D at 0x7f7f418415e0>]"
      ]
     },
     "execution_count": 71,
     "metadata": {},
     "output_type": "execute_result"
    },
    {
     "data": {
      "image/png": "[encoded data removed]",
      "text/plain": [
       "<Figure size 640x480 with 1 Axes>"
      ]
     },
     "metadata": {},
     "output_type": "display_data"
    }
   ],
   "source": [
    "mean_loss = np.mean(losses, axis=1)\n",
    "\n",
    "plt.plot(mean_loss)"
   ]
  },
  {
   "cell_type": "code",
   "execution_count": 72,
   "metadata": {},
   "outputs": [
    {
     "name": "stderr",
     "output_type": "stream",
     "text": [
      "/var/folders/h8/mhwh4fjn0qj405sjdd9_5ffw0000gn/T/ipykernel_12176/1162775844.py:12: UserWarning: Using a target size (torch.Size([21])) that is different to the input size (torch.Size([21, 1])). This will likely lead to incorrect results due to broadcasting. Please ensure they have the same size.\n",
      "  c = F.mse_loss(y_hat, snapshot.y)\n"
     ]
    },
    {
     "name": "stdout",
     "output_type": "stream",
     "text": [
      "MSE: 4.364907363196835e-05\n"
     ]
    }
   ],
   "source": [
    "model.eval()\n",
    "loss_test = []\n",
    "y_pred_test = []\n",
    "y_true_test = []\n",
    "cost = 0\n",
    "for time, snapshot in enumerate(test_dataset):\n",
    "    y_hat = model(snapshot.x, snapshot.edge_index, snapshot.edge_attr)\n",
    "    \n",
    "    y_pred_test.append(y_hat.detach().numpy())\n",
    "    y_true_test.append(snapshot.y.detach().numpy())\n",
    "\n",
    "    c = F.mse_loss(y_hat, snapshot.y)\n",
    "    loss_test.append(c.detach().numpy())\n",
    "    cost = cost + c\n",
    "cost = cost / (time+1)\n",
    "cost = cost.item()\n",
    "print(\"MSE: {}\".format(cost))"
   ]
  },
  {
   "cell_type": "code",
   "execution_count": 73,
   "metadata": {},
   "outputs": [
    {
     "name": "stdout",
     "output_type": "stream",
     "text": [
      "shape:  (762,)\n",
      "shape:  (762,)\n"
     ]
    }
   ],
   "source": [
    "# plot y_pred and y_true\n",
    "y_pred_test_mean = np.array(y_pred_test).reshape(-1, node_num).mean(axis=1).flatten()\n",
    "y_true_test_mean = np.array(y_true_test).reshape(-1, node_num).mean(axis=1).flatten()\n",
    "\n",
    "print('shape: ', y_pred_test_mean.shape)\n",
    "print('shape: ', y_true_test_mean.shape)"
   ]
  },
  {
   "cell_type": "code",
   "execution_count": 74,
   "metadata": {},
   "outputs": [
    {
     "data": {
      "text/plain": [
       "<AxesSubplot:>"
      ]
     },
     "execution_count": 74,
     "metadata": {},
     "output_type": "execute_result"
    },
    {
     "data": {
      "image/png": "[encoded data removed]",
      "text/plain": [
       "<Figure size 1000x400 with 1 Axes>"
      ]
     },
     "metadata": {},
     "output_type": "display_data"
    }
   ],
   "source": [
    "import matplotlib.pyplot as plt\n",
    "import seaborn as sns\n",
    "\n",
    "plt.figure(figsize=(10,4))\n",
    "sns.lineplot(data=y_pred_test_mean, label=\"pred\", color='red')\n",
    "sns.lineplot(data=y_true_test_mean, label=\"true\")"
   ]
  },
  {
   "cell_type": "code",
   "execution_count": 75,
   "metadata": {},
   "outputs": [
    {
     "name": "stdout",
     "output_type": "stream",
     "text": [
      "MAPE: 29.8763\n"
     ]
    }
   ],
   "source": [
    "# Calc MAPE\n",
    "y_pred_test = np.array(y_pred_test)\n",
    "y_true_test = np.array(y_true_test).flatten()\n",
    "\n",
    "\n",
    "mape = np.mean(np.abs((y_true_test - y_pred_test) / y_true_test)) * 100\n",
    "print(\"MAPE: {:.4f}\".format(mape))"
   ]
  },
  {
   "cell_type": "code",
   "execution_count": 76,
   "metadata": {},
   "outputs": [
    {
     "data": {
      "text/plain": [
       "[<matplotlib.lines.Line2D at 0x7f8142b67b50>]"
      ]
     },
     "execution_count": 76,
     "metadata": {},
     "output_type": "execute_result"
    },
    {
     "data": {
      "image/png": "[encoded data removed]",
      "text/plain": [
       "<Figure size 640x480 with 1 Axes>"
      ]
     },
     "metadata": {},
     "output_type": "display_data"
    }
   ],
   "source": [
    "# plot loss\n",
    "import matplotlib.pyplot as plt\n",
    "plt.plot(loss_test)"
   ]
  },
  {
   "cell_type": "code",
   "execution_count": 77,
   "metadata": {},
   "outputs": [
    {
     "name": "stdout",
     "output_type": "stream",
     "text": [
      "epoch [0/100] : 0.0004145030109908321\n",
      "epoch [1/100] : 4.467296442237838e-05\n",
      "epoch [2/100] : 4.41004774994046e-05\n",
      "epoch [3/100] : 4.359773519119937e-05\n",
      "epoch [4/100] : 4.3106958751249375e-05\n",
      "epoch [5/100] : 4.2767619320025154e-05\n",
      "epoch [6/100] : 4.235298536718379e-05\n",
      "epoch [7/100] : 4.2026066003796016e-05\n",
      "epoch [8/100] : 4.1704793839006695e-05\n",
      "epoch [9/100] : 4.14459210498323e-05\n",
      "epoch [10/100] : 4.121031916110746e-05\n",
      "epoch [11/100] : 4.0939927435234576e-05\n",
      "epoch [12/100] : 4.070412700642659e-05\n",
      "epoch [13/100] : 4.049236466947728e-05\n",
      "epoch [14/100] : 4.0301398013205475e-05\n",
      "epoch [15/100] : 4.0141625507929836e-05\n",
      "epoch [16/100] : 3.998319251241361e-05\n",
      "epoch [17/100] : 3.983905795091099e-05\n",
      "epoch [18/100] : 3.970806544236567e-05\n",
      "epoch [19/100] : 3.959543217940316e-05\n",
      "epoch [20/100] : 3.9507081638702674e-05\n",
      "epoch [21/100] : 3.941604495530243e-05\n",
      "epoch [22/100] : 3.931226606751683e-05\n",
      "epoch [23/100] : 3.920591743047322e-05\n",
      "epoch [24/100] : 3.9117882924722834e-05\n",
      "epoch [25/100] : 3.9056508769589155e-05\n",
      "epoch [26/100] : 3.900526198382691e-05\n",
      "epoch [27/100] : 3.892000913128305e-05\n",
      "epoch [28/100] : 3.881580151603761e-05\n",
      "epoch [29/100] : 3.871667259853815e-05\n",
      "epoch [30/100] : 3.863399633309654e-05\n",
      "epoch [31/100] : 3.8564773806033144e-05\n",
      "epoch [32/100] : 3.851143158107276e-05\n",
      "epoch [33/100] : 3.8480185828151956e-05\n",
      "epoch [34/100] : 3.844824787810905e-05\n",
      "epoch [35/100] : 3.8417939102291545e-05\n",
      "epoch [36/100] : 3.8386075730430324e-05\n",
      "epoch [37/100] : 3.836918499903465e-05\n",
      "epoch [38/100] : 3.83294985171372e-05\n",
      "epoch [39/100] : 3.832900986206319e-05\n",
      "epoch [40/100] : 3.827983994583855e-05\n",
      "epoch [41/100] : 3.828534543958368e-05\n",
      "epoch [42/100] : 3.822190839474676e-05\n",
      "epoch [43/100] : 3.820653013333527e-05\n",
      "epoch [44/100] : 3.823318939033194e-05\n",
      "epoch [45/100] : 3.816157884725089e-05\n",
      "epoch [46/100] : 3.815516167233163e-05\n",
      "epoch [47/100] : 3.816333644857705e-05\n",
      "epoch [48/100] : 3.811951832533154e-05\n",
      "epoch [49/100] : 3.810194602938005e-05\n",
      "epoch [50/100] : 3.808174417465762e-05\n",
      "epoch [51/100] : 3.8087089903528385e-05\n",
      "epoch [52/100] : 3.804115765869702e-05\n",
      "epoch [53/100] : 3.8022154660915784e-05\n",
      "epoch [54/100] : 3.802134084715508e-05\n",
      "epoch [55/100] : 3.804128225166599e-05\n",
      "epoch [56/100] : 3.794060654060979e-05\n",
      "epoch [57/100] : 3.790648388564094e-05\n",
      "epoch [58/100] : 3.7960688550212204e-05\n",
      "epoch [59/100] : 3.788238157741691e-05\n",
      "epoch [60/100] : 3.784255415813227e-05\n",
      "epoch [61/100] : 3.783998128373378e-05\n",
      "epoch [62/100] : 3.7824185197666904e-05\n",
      "epoch [63/100] : 3.779317564095519e-05\n",
      "epoch [64/100] : 3.785961603396216e-05\n",
      "epoch [65/100] : 3.7775870933622635e-05\n",
      "epoch [66/100] : 3.7756447589091186e-05\n",
      "epoch [67/100] : 3.775221727933972e-05\n",
      "epoch [68/100] : 3.775071765065812e-05\n",
      "epoch [69/100] : 3.774132970431784e-05\n",
      "epoch [70/100] : 3.7720608938596085e-05\n",
      "epoch [71/100] : 3.7718382954791874e-05\n",
      "epoch [72/100] : 3.769945679856483e-05\n",
      "epoch [73/100] : 3.771952027331011e-05\n",
      "epoch [74/100] : 3.7715782984028085e-05\n",
      "epoch [75/100] : 3.7679192824893635e-05\n",
      "epoch [76/100] : 3.7659450135506485e-05\n",
      "epoch [77/100] : 3.764958624104343e-05\n",
      "epoch [78/100] : 3.76337065305982e-05\n",
      "epoch [79/100] : 3.7624397166621827e-05\n",
      "epoch [80/100] : 3.762935597331242e-05\n",
      "epoch [81/100] : 3.7621034508162256e-05\n",
      "epoch [82/100] : 3.7613357146571297e-05\n",
      "epoch [83/100] : 3.7614344884047925e-05\n",
      "epoch [84/100] : 3.75932324569979e-05\n",
      "epoch [85/100] : 3.758327718672303e-05\n",
      "epoch [86/100] : 3.756927786578638e-05\n",
      "epoch [87/100] : 3.7566536153318614e-05\n",
      "epoch [88/100] : 3.756445482869006e-05\n",
      "epoch [89/100] : 3.7551109690223376e-05\n",
      "epoch [90/100] : 3.756888364512876e-05\n",
      "epoch [91/100] : 3.753530328942712e-05\n",
      "epoch [92/100] : 3.753258797085899e-05\n",
      "epoch [93/100] : 3.751506229713113e-05\n",
      "epoch [94/100] : 3.751661195595445e-05\n",
      "epoch [95/100] : 3.7523124536330514e-05\n",
      "epoch [96/100] : 3.7503413849692224e-05\n",
      "epoch [97/100] : 3.750831037480494e-05\n",
      "epoch [98/100] : 3.7506208218806735e-05\n",
      "epoch [99/100] : 3.7493143496058706e-05\n"
     ]
    }
   ],
   "source": [
    "# mean loss in each epoch\n",
    "losses_mean = [np.mean(i) for i in losses]\n",
    "\n",
    "for i in range(epoch_num):\n",
    "    print(f'epoch [{i}/{epoch_num}] :', losses_mean[i])\n"
   ]
  }
 ],
 "metadata": {
  "kernelspec": {
   "display_name": "Python 3",
   "language": "python",
   "name": "python3"
  },
  "language_info": {
   "codemirror_mode": {
    "name": "ipython",
    "version": 3
   },
   "file_extension": ".py",
   "mimetype": "text/x-python",
   "name": "python",
   "nbconvert_exporter": "python",
   "pygments_lexer": "ipython3",
   "version": "3.8.6"
  },
  "orig_nbformat": 4
 },
 "nbformat": 4,
 "nbformat_minor": 2
}
