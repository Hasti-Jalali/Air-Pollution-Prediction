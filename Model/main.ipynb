{
 "cells": [
  {
   "cell_type": "code",
   "execution_count": 2,
   "metadata": {},
   "outputs": [],
   "source": [
    "# define libraries\n",
    "import torch\n",
    "import torch.nn.functional as F\n",
    "from torch_geometric.nn import GCNConv, TransformerConv\n",
    "from torch.nn import LSTM\n",
    "import matplotlib.pyplot as plt\n",
    "import numpy as np"
   ]
  },
  {
   "cell_type": "code",
   "execution_count": 27,
   "metadata": {},
   "outputs": [],
   "source": [
    "# SET Parameters\n",
    "\n",
    "# define the number of nodes\n",
    "node_num = 11\n",
    "\n",
    "# define the number of features\n",
    "feature_num = 3\n",
    "\n",
    "# DAILY\n",
    "start_col = 1\n",
    "\n",
    "# HOURLY\n",
    "# start_col = 2\n",
    "\n",
    "# define the number of time steps\n",
    "time_step = 3\n",
    "\n",
    "# torch seed\n",
    "torch.manual_seed(12345)\n",
    "\n",
    "# index\n",
    "index = 0 # CO\n",
    "feature_name = 'CO'\n",
    "\n",
    "# index = 1 # SO2\n",
    "# feature_name = 'SO2'\n",
    "\n",
    "# index = 2 # PM10\n",
    "# feature_name = 'PM10'\n",
    "\n",
    "# Learning rate\n",
    "learning_rate = 0.007\n",
    "\n",
    "title = f'{feature_name} Prediction with LR={learning_rate};'\n",
    "\n",
    "# Loss function\n",
    "loss_function = 0 # MSE\n",
    "loss_function = 1 # MAPE\n",
    "\n",
    "if loss_function == 0:\n",
    "    title += 'MSE;'\n",
    "else: title += 'MAPE;'\n",
    "\n",
    "# have L2 regularization\n",
    "l2 = True\n",
    "l2R = 0.005\n",
    "\n",
    "if l2:\n",
    "    title+= f'with L2R={l2R}'\n",
    "\n"
   ]
  },
  {
   "cell_type": "code",
   "execution_count": 28,
   "metadata": {},
   "outputs": [
    {
     "name": "stdout",
     "output_type": "stream",
     "text": [
      "[[ 1.28797907  1.76169988 20.56032089]\n",
      " [ 0.7353602   2.61792223 21.318358  ]\n",
      " [ 0.66649559  1.93931207 19.22493963]\n",
      " ...\n",
      " [ 2.2929719   4.12523203 44.98559097]\n",
      " [ 0.91600953  3.86341212 40.89374369]\n",
      " [ 0.73398368  3.48193701 31.75835918]]\n"
     ]
    }
   ],
   "source": [
    "# read from dataset of csv files\n",
    "import pandas as pd\n",
    "\n",
    "dataset = []\n",
    "\n",
    "for i in range(node_num):\n",
    "    dataset.append(pd.read_csv('Dataset/cleaned_data_' + str(i) + '.csv'))\n",
    "\n",
    "print(dataset[0].iloc[:, start_col: start_col + feature_num].values)"
   ]
  },
  {
   "cell_type": "code",
   "execution_count": 29,
   "metadata": {},
   "outputs": [
    {
     "name": "stdout",
     "output_type": "stream",
     "text": [
      "0: False\n",
      "1: False\n",
      "2: False\n",
      "3: False\n",
      "4: False\n",
      "5: False\n",
      "6: False\n",
      "7: False\n",
      "8: False\n",
      "9: False\n",
      "10: False\n"
     ]
    }
   ],
   "source": [
    "# Check for NaN in pd dataframe then print row\n",
    "for i in range(node_num):\n",
    "    print(f'{i}:', dataset[i].isnull().values.any())\n",
    "    # print(dataset[i].isnull().sum())"
   ]
  },
  {
   "cell_type": "code",
   "execution_count": 30,
   "metadata": {},
   "outputs": [
    {
     "name": "stdout",
     "output_type": "stream",
     "text": [
      "11\n",
      "(1095, 4)\n"
     ]
    }
   ],
   "source": [
    "print(len(dataset))\n",
    "print(dataset[0].shape)"
   ]
  },
  {
   "cell_type": "code",
   "execution_count": 31,
   "metadata": {},
   "outputs": [
    {
     "name": "stdout",
     "output_type": "stream",
     "text": [
      "[[ 1.28797907  1.76169988 20.56032089]\n",
      " [ 0.7353602   2.61792223 21.318358  ]\n",
      " [ 0.66649559  1.93931207 19.22493963]\n",
      " ...\n",
      " [ 2.2929719   4.12523203 44.98559097]\n",
      " [ 0.91600953  3.86341212 40.89374369]\n",
      " [ 0.73398368  3.48193701 31.75835918]]\n"
     ]
    }
   ],
   "source": [
    "print(dataset[0].iloc[:, start_col:].values)\n",
    "# convert datasets to list\n",
    "for i in range(node_num):\n",
    "    dataset[i] = dataset[i].iloc[:, start_col:].values.tolist()"
   ]
  },
  {
   "cell_type": "code",
   "execution_count": 32,
   "metadata": {},
   "outputs": [
    {
     "name": "stdout",
     "output_type": "stream",
     "text": [
      "torch.Size([11, 1095, 3])\n"
     ]
    }
   ],
   "source": [
    "data = torch.tensor(dataset, dtype=torch.float)\n",
    "print(data.shape)\n",
    "\n",
    "edges = [[], []]\n",
    "for i in range(node_num):\n",
    "    for j in range(node_num):\n",
    "        edges[0].append(i)\n",
    "        edges[1].append(j)\n",
    "\n",
    "edge_index = torch.tensor(edges)"
   ]
  },
  {
   "cell_type": "code",
   "execution_count": 33,
   "metadata": {},
   "outputs": [],
   "source": [
    "# # Base model\n",
    "# from torch_geometric_temporal import GConvGRU\n",
    "\n",
    "# in_channel = feature_num * time_step\n",
    "# out_channel = 1\n",
    "\n",
    "# k = 3\n",
    "\n",
    "# # define model\n",
    "# model = GConvGRU(in_channel, out_channel, k)"
   ]
  },
  {
   "cell_type": "code",
   "execution_count": 34,
   "metadata": {},
   "outputs": [],
   "source": [
    "# Define your GCNConv layer with 3 input features and 12 output features\n",
    "# input features are n*m matrix, n is the number of nodes, m is the number of features\n",
    "gcn1 = GCNConv(feature_num * time_step, 6 * feature_num)\n",
    "\n",
    "gcn2 = GCNConv(6 * feature_num, 6 * feature_num)\n",
    "\n",
    "gcn3 = GCNConv(6 * feature_num, 6 * feature_num)\n",
    "\n",
    "# gcn3 = GCNConv(node_num * 4, node_num * 4)\n",
    "\n",
    "# Define your TransformerConv layer with 12 input features and 3 output features:\n",
    "transformer1 = TransformerConv(6 * feature_num, 1, heads= 3 * feature_num, dropout=0.3) \n",
    "transformer2 = TransformerConv(3 * feature_num, 1, heads= 1, dropout=0.3) \n",
    "\n",
    "\n",
    "# Define your model architecture:\n",
    "class MyModel(torch.nn.Module):\n",
    "    weight =[]\n",
    "    def __init__(self, gcn1, gcn2, gcn3, transformer1, transformer2):\n",
    "        super(MyModel, self).__init__()\n",
    "        self.gcn1 = gcn1\n",
    "        self.gcn2 = gcn2\n",
    "        self.gcn3 = gcn3\n",
    "        self.transformer1 = transformer1\n",
    "        self.transformer2 = transformer2\n",
    "\n",
    "\n",
    "    def forward(self, x, edge_index):\n",
    " \n",
    "        x = self.gcn1(x, edge_index)\n",
    "        # print(x.shape)\n",
    "        # res1 = F.relu(res1)\n",
    "        # x = x.view(-1, x.size(-1))\n",
    "\n",
    "        x = self.gcn2(x, edge_index)\n",
    "        # x = self.gcn3(x, edge_index)\n",
    "        # x = F.relu(x)\n",
    "\n",
    "        # x = self.gcn3(x, edge_index)\n",
    "        # x = F.relu(x)\n",
    "\n",
    "        # x = x.view(-1, x.size(-1))\n",
    "\n",
    "        x = self.transformer1(x, edge_index)\n",
    "        # res2 = F.relu(res2)\n",
    "        # combine res1 and res2, with size\n",
    "        # size: 2*feature and 2*feature \n",
    "        # x = torch.cat((res1, res2), 1)\n",
    "\n",
    "        x = self.transformer2(x, edge_index)\n",
    "        # x = F.relu(x)\n",
    "        return x\n",
    "\n",
    "    \n",
    "# Instantiate your model:\n",
    "model = [MyModel(gcn1, gcn2, gcn3, transformer1, transformer2) for i in range(feature_num)]\n",
    "\n",
    "\n"
   ]
  },
  {
   "cell_type": "markdown",
   "metadata": {},
   "source": []
  },
  {
   "cell_type": "code",
   "execution_count": 35,
   "metadata": {},
   "outputs": [],
   "source": [
    "# gcn1 = GCNConv(num_hours * num_features, num_features)\n",
    "# transformer= TransformerConv(num_hours * num_features, 1, heads=num_features, dropout=0.3)\n",
    "# # lstm = LSTMAggregation(12, 3)\n",
    "# lstm = LSTM(12,3) # lstm layer with 3 input features and 3 output features\n",
    "\n",
    "\n",
    "# # Define your model architecture:\n",
    "# class MyModel(torch.nn.Module):\n",
    "#     def __init__(self, gcn , lstm):\n",
    "#         super(MyModel, self).__init__()\n",
    "#         self.gcn = gcn\n",
    "#         self.lstm = lstm\n",
    "\n",
    "#     def forward(self, x, edge_index):\n",
    "#         # Apply the gcn layer\n",
    "#         x = self.gcn(x, edge_index)\n",
    "#         # Apply the fully connected layer\n",
    "#         # x, _ = self.lstm(x)\n",
    "#         return x\n",
    "    \n",
    "# # Instantiate your model:\n",
    "# model = MyModel(gcn1, lstm)"
   ]
  },
  {
   "cell_type": "code",
   "execution_count": 36,
   "metadata": {},
   "outputs": [],
   "source": [
    "# loss function with L2 regularization\n",
    "# def loss_fn(y_pred, y_true):\n",
    "#     losses = []\n",
    "#     mean_losses = []\n",
    "#     l2_norm = sum(p.pow(2.0).sum()\n",
    "#                   for p in model.parameters())\n",
    "\n",
    "\n",
    "#     for i in range(node_num):\n",
    "#         loss = []\n",
    "#         for j in range(num_features):\n",
    "#             error = torch.mean(torch.abs((y_true[i][j] - y_pred[i][j]) / y_true[i][j])) * 100\n",
    "#             # error = F.mse_loss(y_pred[i][j], y_true[i][j]) + 0.001 * l2_norm\n",
    "#             loss.append(error)\n",
    "#         losses.append(loss)\n",
    "    \n",
    "#     for i in range(num_features):\n",
    "#         mean_loss = torch.mean(torch.tensor(losses)[:, i])\n",
    "#         mean_losses.append(mean_loss)\n",
    "\n",
    "#     return losses, mean_losses\n",
    "\n",
    "\n",
    "# # Define your optimizer:\n",
    "# optimizer = torch.optim.Adam(model.parameters(), lr=0.005)"
   ]
  },
  {
   "cell_type": "code",
   "execution_count": 37,
   "metadata": {},
   "outputs": [],
   "source": [
    "# calculate MAPE: mean absolute percentage error\n",
    "def MAPE_torch(y_true, y_pred):\n",
    "    return torch.abs((y_true - y_pred) / y_true) * 100"
   ]
  },
  {
   "cell_type": "code",
   "execution_count": 38,
   "metadata": {},
   "outputs": [],
   "source": [
    "# for p in model.parameters():\n",
    "#     print(p)"
   ]
  },
  {
   "cell_type": "code",
   "execution_count": 39,
   "metadata": {},
   "outputs": [],
   "source": [
    "# loss function with L2 regularization\n",
    "def loss_fn(y_pred, y_true, loss_function, l2, l2R=0.005):\n",
    "    \n",
    "    losses = 0\n",
    "    l2_norm = 0\n",
    "    \n",
    "    if l2:\n",
    "        l2_norm = sum(p.pow(2.0).sum()\n",
    "                  for p in model.parameters())\n",
    "        \n",
    "    if loss_function == 0:\n",
    "        losses = torch.nn.functional.mse_loss(y_pred, y_true) + l2R * l2_norm\n",
    "    else:\n",
    "        losses = torch.mean(MAPE_torch(y_true, y_pred)) + l2R * l2_norm\n",
    "\n",
    "    return losses\n",
    "    # losses = []\n",
    "    # y_pred = y_pred.transpose(0, 1)\n",
    "    # y_true = y_true.transpose(0, 1)\n",
    "\n",
    "    # for i in range(feature_num):\n",
    "    #     # losses.append(torch.mean(MAPE_torch(y_true[i], y_pred[i])) * 10 + 0.005 * l2_norm) \n",
    "    #     losses.append(torch.nn.functional.mse_loss(y_pred[:, i], y_true[:, i]) + 0.005 * l2_norm)\n",
    "\n",
    "\n",
    "# Define your optimizer:\n",
    "optimizer = [torch.optim.Adam(model[i].parameters(), lr=learning_rate) for i in range(feature_num)]"
   ]
  },
  {
   "cell_type": "code",
   "execution_count": 40,
   "metadata": {},
   "outputs": [
    {
     "name": "stdout",
     "output_type": "stream",
     "text": [
      "torch.Size([11, 4, 3])\n"
     ]
    }
   ],
   "source": [
    "print(data[:, 1:5, :].shape)"
   ]
  },
  {
   "cell_type": "code",
   "execution_count": 41,
   "metadata": {},
   "outputs": [
    {
     "name": "stdout",
     "output_type": "stream",
     "text": [
      "819\n",
      "Epoch 0, Losses:\n",
      "tensor(22.6696, grad_fn=<AddBackward0>)\n"
     ]
    },
    {
     "name": "stderr",
     "output_type": "stream",
     "text": [
      "/var/folders/h8/mhwh4fjn0qj405sjdd9_5ffw0000gn/T/ipykernel_7244/1560927973.py:14: UserWarning: Using a target size (torch.Size([11])) that is different to the input size (torch.Size([11, 1])). This will likely lead to incorrect results due to broadcasting. Please ensure they have the same size.\n",
      "  losses = torch.nn.functional.mse_loss(y_pred, y_true) + l2_r * l2_norm\n"
     ]
    },
    {
     "name": "stdout",
     "output_type": "stream",
     "text": [
      "Epoch 200, Losses:\n",
      "tensor(0.2682, grad_fn=<AddBackward0>)\n",
      "Epoch 400, Losses:\n",
      "tensor(0.2998, grad_fn=<AddBackward0>)\n",
      "Epoch 600, Losses:\n",
      "tensor(1.3017, grad_fn=<AddBackward0>)\n",
      "Epoch 800, Losses:\n",
      "tensor(30.6057, grad_fn=<AddBackward0>)\n"
     ]
    }
   ],
   "source": [
    "# train\n",
    "y_preds = []\n",
    "\n",
    "epoch_num = (3 * int(data.shape[1] / 4))\n",
    "print(epoch_num)\n",
    "\n",
    "# train_loss = [[] for j in range(feature_num)]\n",
    "train_loss = []\n",
    "\n",
    "# Train your model:\n",
    "for epoch in range(epoch_num):\n",
    "    \n",
    "    row = data[:, epoch: epoch + time_step, :].reshape(-1, feature_num * time_step)\n",
    "    # print(row.shape)\n",
    "    # break\n",
    "    y_pred = []\n",
    "    losses = []\n",
    "\n",
    "    for i in range(feature_num):\n",
    "        # Set your model to train mode:\n",
    "        model[i].train()\n",
    "\n",
    "        # Zero the gradients:\n",
    "        optimizer[i].zero_grad()\n",
    "\n",
    "        # Make predictions\n",
    "        y_pred.append(model[i](row, edge_index))\n",
    "\n",
    "        # Calculate loss\n",
    "        losses.append(loss_fn(y_pred, data[:, epoch + time_step, i]))\n",
    "        losses[i].backward(retain_graph=True)\n",
    "\n",
    "        # Optimizer\n",
    "        optimizer[i].step()\n",
    "\n",
    "    \n",
    "    train_loss.append(losses)\n",
    "\n",
    "    # add y_pred to y_preds\n",
    "    y_preds.append(y_pred)\n",
    "        \n",
    "\n",
    "    # Print loss every 10 epochs:\n",
    "    if epoch % 200 == 0:\n",
    "        print(f\"Epoch {epoch}, Losses:\")\n",
    "        # print(y_pred)\n",
    "        for i in range(feature_num):\n",
    "            print(f'     {i})', losses[i])\n"
   ]
  },
  {
   "cell_type": "code",
   "execution_count": 42,
   "metadata": {},
   "outputs": [
    {
     "name": "stderr",
     "output_type": "stream",
     "text": [
      "/var/folders/h8/mhwh4fjn0qj405sjdd9_5ffw0000gn/T/ipykernel_7244/1560927973.py:14: UserWarning: Using a target size (torch.Size([11])) that is different to the input size (torch.Size([11, 1])). This will likely lead to incorrect results due to broadcasting. Please ensure they have the same size.\n",
      "  losses = torch.nn.functional.mse_loss(y_pred, y_true) + l2_r * l2_norm\n"
     ]
    },
    {
     "name": "stdout",
     "output_type": "stream",
     "text": [
      "Epoch 1000, Losses:\n",
      "tensor(5.5617, grad_fn=<AddBackward0>)\n"
     ]
    }
   ],
   "source": [
    "# test\n",
    "# for test we give the application information of 3 hours and then predict the next one\n",
    "# test_loss = [[] for j in range(feature_num)]\n",
    "test_loss = []\n",
    "\n",
    "for epoch in range(epoch_num, data.shape[1] - time_step):\n",
    "\n",
    "    row = data[:, epoch: epoch + time_step, :].reshape(-1, feature_num * time_step)\n",
    "\n",
    "    # Set your model to evaluation mode:\n",
    "    model.eval()\n",
    "\n",
    "    # Make predictions and calculate loss:\n",
    "    y_pred = model.forward(row, edge_index)\n",
    "    # print(y_pred.shape)\n",
    "    losses = loss_fn(y_pred, data[:, epoch + time_step, index])\n",
    "    test_loss.append(losses)\n",
    "\n",
    "    # add y_pred to y_preds\n",
    "    y_preds.append(y_pred)\n",
    "\n",
    "    # for i in range(feature_num):\n",
    "    #     test_loss[i].append(losses[i])\n",
    "    \n",
    "\n",
    "    # Print loss every 500 epochs:\n",
    "    if epoch % 200 == 0:\n",
    "        # print(y_pred, data[:, epoch + 1, :])\n",
    "        print(f\"Epoch {epoch}, Losses:\")\n",
    "        print(losses)\n",
    "        # print(y_pred)\n",
    "        # for i in range(feature_num):\n",
    "        #     print(f'     {i})', losses[i])"
   ]
  },
  {
   "cell_type": "code",
   "execution_count": 43,
   "metadata": {},
   "outputs": [
    {
     "name": "stdout",
     "output_type": "stream",
     "text": [
      "(1092, 11)\n",
      "(1092, 11)\n"
     ]
    }
   ],
   "source": [
    "# plot y_pred and true y\n",
    "\n",
    "y_preds_ = torch.stack(y_preds).reshape(-1, node_num).detach().numpy()\n",
    "y_true = data[:, :data.shape[1] - time_step, 0].reshape(-1, node_num).detach().numpy()\n",
    "\n",
    "print(y_preds_.shape)\n",
    "print(y_true.shape)\n",
    "\n",
    "# mean on second col\n",
    "y_preds_ = np.mean(y_preds_, axis=1)\n",
    "y_true_ = np.mean(y_true, axis=1)"
   ]
  },
  {
   "cell_type": "code",
   "execution_count": 44,
   "metadata": {},
   "outputs": [
    {
     "name": "stdout",
     "output_type": "stream",
     "text": [
      "CO Prediction with LR=0.007; mse; with L2R=0.005\n"
     ]
    },
    {
     "data": {
      "text/plain": [
       "<matplotlib.legend.Legend at 0x7fc71e016be0>"
      ]
     },
     "execution_count": 44,
     "metadata": {},
     "output_type": "execute_result"
    },
    {
     "data": {
      "image/png": "[encoded data removed]",
      "text/plain": [
       "<Figure size 640x480 with 1 Axes>"
      ]
     },
     "metadata": {},
     "output_type": "display_data"
    }
   ],
   "source": [
    "x = np.linspace(0, y_preds_.shape[0]/40, y_preds_.shape[0])\n",
    "plt.title(title)\n",
    "print(title)\n",
    "plt.plot(x, y_preds_, label='y_pred')\n",
    "plt.plot(x, y_true_, label='y_true')\n",
    "plt.legend()"
   ]
  },
  {
   "cell_type": "code",
   "execution_count": 45,
   "metadata": {},
   "outputs": [],
   "source": [
    "# change type of whole_loss list of tensors to numpy array\n",
    "\n",
    "# whole_loss = [[] for j in range(feature_num)]\n",
    "# for i in range(feature_num):\n",
    "#     train_loss[i] = torch.stack(train_loss[i]).detach().numpy()\n",
    "#     test_loss[i] = torch.stack(test_loss[i]).detach().numpy()\n",
    "\n",
    "#     # whole loss = concatination of whole loss and test loss\n",
    "#     whole_loss[i] = np.concatenate((train_loss[i], test_loss[i]), axis=0)\n",
    "\n",
    "whole_loss = []\n",
    "train_loss = torch.stack(train_loss).detach().numpy()\n",
    "test_loss = torch.stack(test_loss).detach().numpy()\n",
    "\n",
    "# whole loss = concatination of whole loss and test loss\n",
    "whole_loss = np.concatenate((train_loss, test_loss), axis=0)"
   ]
  },
  {
   "cell_type": "code",
   "execution_count": 46,
   "metadata": {},
   "outputs": [
    {
     "name": "stdout",
     "output_type": "stream",
     "text": [
      "5.2389307\n"
     ]
    },
    {
     "data": {
      "image/png": "[encoded data removed]",
      "text/plain": [
       "<Figure size 640x480 with 1 Axes>"
      ]
     },
     "metadata": {},
     "output_type": "display_data"
    }
   ],
   "source": [
    "# plot the loss curve\n",
    "\n",
    "# concat\n",
    "\n",
    "# plt.plot(whole_loss[0], label='CO')\n",
    "\n",
    "\n",
    "# import numpy as np\n",
    "# print(np.mean(whole_loss[0]))\n",
    "# print(np.mean(whole_loss[1]))\n",
    "# print(np.mean(whole_loss[2]))\n",
    "\n",
    "plt.plot(whole_loss, label='CO')\n",
    "print(np.mean(whole_loss))\n",
    "plt.legend(loc='best')\n",
    "plt.show()"
   ]
  },
  {
   "cell_type": "code",
   "execution_count": 47,
   "metadata": {},
   "outputs": [],
   "source": [
    "# plt.plot(whole_loss[1], label='SO2')"
   ]
  },
  {
   "cell_type": "code",
   "execution_count": 48,
   "metadata": {},
   "outputs": [],
   "source": [
    "# plt.plot(whole_loss[2], label='PM10')"
   ]
  },
  {
   "cell_type": "code",
   "execution_count": 49,
   "metadata": {},
   "outputs": [
    {
     "name": "stdout",
     "output_type": "stream",
     "text": [
      "86.87625\n"
     ]
    }
   ],
   "source": [
    "# calculate MAPE: mean absolute percentage error\n",
    "def MAPE(y_true, y_pred):\n",
    "    return np.abs((y_true - y_pred) / y_true) * 100\n",
    "\n",
    "num_data = len(y_preds)\n",
    "\n",
    "mapes_train = [[] for j in range(feature_num)]\n",
    "mapes_test = [[] for j in range(feature_num)]\n",
    "# mapes = [[] for j in range(feature_num)]\n",
    "mapes = []\n",
    "for i in range(num_data):\n",
    "\n",
    "    y_true = data[:, i, :].detach().numpy()\n",
    "    y_true = y_true.transpose()\n",
    "    # print(y_true.shape)\n",
    "\n",
    "    y_pred = y_preds[i].detach().numpy()\n",
    "    y_pred = y_pred.transpose()\n",
    "    # print(y_pred.shape)\n",
    "\n",
    "    mape = MAPE(y_true, y_pred)\n",
    "\n",
    "    # print(mape.shape)\n",
    "\n",
    "    # for i in range(feature_num):\n",
    "    #     mapes[i].append(np.mean(mape[i]))\n",
    "    mapes.append(mape)\n",
    "    # print(mapes[0])\n",
    "\n",
    "print(np.mean(mapes))\n",
    "# print(mapes[0][12000])\n",
    "\n",
    "# output = []  \n",
    "# for i in range(feature_num):\n",
    "#     output.append(np.mean(mapes[i]))\n",
    "\n",
    "# print(output)\n",
    "\n"
   ]
  },
  {
   "attachments": {},
   "cell_type": "markdown",
   "metadata": {},
   "source": [
    "[46.44375, 64.463326, 71.33586] # MAPE of GCN-Transformer\n",
    "\n",
    "\n",
    "[35.568245, 54.249947, 62.4942] # MAPE of GCN\n",
    "\n",
    "\n",
    "[26.197187, 30.585236, 32.938267] # MAPE of Transformer"
   ]
  },
  {
   "cell_type": "code",
   "execution_count": 50,
   "metadata": {},
   "outputs": [
    {
     "ename": "RuntimeError",
     "evalue": "shape '[-1, 1092]' is invalid for input of size 36102",
     "output_type": "error",
     "traceback": [
      "\u001b[0;31m---------------------------------------------------------------------------\u001b[0m",
      "\u001b[0;31mRuntimeError\u001b[0m                              Traceback (most recent call last)",
      "\u001b[1;32m/Users/hasti/University/Final Project/My Code/Model/main.ipynb Cell 27\u001b[0m in \u001b[0;36m<cell line: 6>\u001b[0;34m()\u001b[0m\n\u001b[1;32m      <a href='vscode-notebook-cell:/Users/hasti/University/Final%20Project/My%20Code/Model/main.ipynb#X35sZmlsZQ%3D%3D?line=3'>4</a>\u001b[0m x \u001b[39m=\u001b[39m x[\u001b[39m1\u001b[39m:, :, :]\n\u001b[1;32m      <a href='vscode-notebook-cell:/Users/hasti/University/Final%20Project/My%20Code/Model/main.ipynb#X35sZmlsZQ%3D%3D?line=4'>5</a>\u001b[0m \u001b[39m# print(x.shape)\u001b[39;00m\n\u001b[0;32m----> <a href='vscode-notebook-cell:/Users/hasti/University/Final%20Project/My%20Code/Model/main.ipynb#X35sZmlsZQ%3D%3D?line=5'>6</a>\u001b[0m x \u001b[39m=\u001b[39m x\u001b[39m.\u001b[39;49mview(\u001b[39m-\u001b[39;49m\u001b[39m1\u001b[39;49m, num_data)\n\u001b[1;32m      <a href='vscode-notebook-cell:/Users/hasti/University/Final%20Project/My%20Code/Model/main.ipynb#X35sZmlsZQ%3D%3D?line=6'>7</a>\u001b[0m \u001b[39mprint\u001b[39m(x\u001b[39m.\u001b[39mshape)\n\u001b[1;32m      <a href='vscode-notebook-cell:/Users/hasti/University/Final%20Project/My%20Code/Model/main.ipynb#X35sZmlsZQ%3D%3D?line=7'>8</a>\u001b[0m x \u001b[39m=\u001b[39m x\u001b[39m.\u001b[39mdetach()\u001b[39m.\u001b[39mnumpy()\n",
      "\u001b[0;31mRuntimeError\u001b[0m: shape '[-1, 1092]' is invalid for input of size 36102"
     ]
    }
   ],
   "source": [
    "# r2 score\n",
    "from sklearn.metrics import r2_score\n",
    "x = data.view(-1, node_num, feature_num)\n",
    "x = x[1:, :, :]\n",
    "# print(x.shape)\n",
    "x = x.view(-1, num_data)\n",
    "print(x.shape)\n",
    "x = x.detach().numpy()\n",
    "y = torch.stack(y_preds).view(-1, num_data)\n",
    "print(y.shape)\n",
    "y = y.detach().numpy()\n",
    "\n",
    "r2 = torch.zeros(num_data)\n",
    "for i in range(num_data):\n",
    "    r2[i] = r2_score(x[:, i], y[:, i])\n",
    "\n",
    "plt.plot(r2, label='r2')\n",
    "print(sum(r2)/num_data)"
   ]
  }
 ],
 "metadata": {
  "kernelspec": {
   "display_name": "Python 3",
   "language": "python",
   "name": "python3"
  },
  "language_info": {
   "codemirror_mode": {
    "name": "ipython",
    "version": 3
   },
   "file_extension": ".py",
   "mimetype": "text/x-python",
   "name": "python",
   "nbconvert_exporter": "python",
   "pygments_lexer": "ipython3",
   "version": "3.8.6"
  },
  "orig_nbformat": 4,
  "vscode": {
   "interpreter": {
    "hash": "aee8b7b246df8f9039afb4144a1f6fd8d2ca17a180786b69acc140d282b71a49"
   }
  }
 },
 "nbformat": 4,
 "nbformat_minor": 2
}
